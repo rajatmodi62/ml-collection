{
  "nbformat": 4,
  "nbformat_minor": 0,
  "metadata": {
    "kernelspec": {
      "display_name": "Python 3",
      "language": "python",
      "name": "python3"
    },
    "language_info": {
      "codemirror_mode": {
        "name": "ipython",
        "version": 3
      },
      "file_extension": ".py",
      "mimetype": "text/x-python",
      "name": "python",
      "nbconvert_exporter": "python",
      "pygments_lexer": "ipython3",
      "version": "3.6.2"
    },
    "toc": {
      "colors": {
        "hover_highlight": "#DAA520",
        "navigate_num": "#000000",
        "navigate_text": "#333333",
        "running_highlight": "#FF0000",
        "selected_highlight": "#FFD700",
        "sidebar_border": "#EEEEEE",
        "wrapper_background": "#FFFFFF"
      },
      "moveMenuLeft": true,
      "nav_menu": {
        "height": "512px",
        "width": "252px"
      },
      "navigate_menu": true,
      "number_sections": true,
      "sideBar": true,
      "threshold": 4,
      "toc_cell": false,
      "toc_section_display": "block",
      "toc_window_display": false,
      "widenNotebook": false
    },
    "colab": {
      "name": "2_rf_api_usage.ipynb",
      "provenance": [],
      "collapsed_sections": [
        "4J8cpIvYhNxe",
        "pNnGY9yRgyBh",
        "NecGjCU5gyBi",
        "FP-5D430gyBj",
        "gguYQvHLgyBk",
        "S7Fnf2hYgyBm",
        "4DaLfYBDgyBn",
        "imZ6IUuFgyBo",
        "znj_pCTRgyB1",
        "pDKNBzemgyB2",
        "RO7IOJxvgyB2",
        "BbMzBGEQgyB3",
        "wCZNrw3ygyB4",
        "M-7rruOAgyB5",
        "z9NeWqRUgyCJ"
      ]
    }
  },
  "cells": [
    {
      "cell_type": "markdown",
      "metadata": {
        "id": "4J8cpIvYhNxe"
      },
      "source": [
        "# Setting up ENV for depreciated fastai notebooks \n",
        "\n"
      ]
    },
    {
      "cell_type": "code",
      "metadata": {
        "id": "VbaOP1UShUED",
        "outputId": "bc74ecbc-7ab3-4aed-bdcf-a9a44d704a25",
        "colab": {
          "base_uri": "https://localhost:8080/"
        }
      },
      "source": [
        "!pip install fastai==0.7.0\n",
        "!pip install torchtext==0.2.3\n",
        "!pip install scikit-learn==0.21.3\n",
        "!pip install kaggle"
      ],
      "execution_count": 1,
      "outputs": [
        {
          "output_type": "stream",
          "text": [
            "Collecting fastai==0.7.0\n",
            "\u001b[?25l  Downloading https://files.pythonhosted.org/packages/50/6d/9d0d6e17a78b0598d5e8c49a0d03ffc7ff265ae62eca3e2345fab14edb9b/fastai-0.7.0-py3-none-any.whl (112kB)\n",
            "\u001b[K     |████████████████████████████████| 122kB 2.7MB/s \n",
            "\u001b[?25hRequirement already satisfied: python-dateutil in /usr/local/lib/python3.6/dist-packages (from fastai==0.7.0) (2.8.1)\n",
            "Requirement already satisfied: numpy in /usr/local/lib/python3.6/dist-packages (from fastai==0.7.0) (1.18.5)\n",
            "Requirement already satisfied: Pillow in /usr/local/lib/python3.6/dist-packages (from fastai==0.7.0) (7.0.0)\n",
            "Requirement already satisfied: opencv-python in /usr/local/lib/python3.6/dist-packages (from fastai==0.7.0) (4.1.2.30)\n",
            "Requirement already satisfied: ipython in /usr/local/lib/python3.6/dist-packages (from fastai==0.7.0) (5.5.0)\n",
            "Collecting bcolz\n",
            "\u001b[?25l  Downloading https://files.pythonhosted.org/packages/5c/4e/23942de9d5c0fb16f10335fa83e52b431bcb8c0d4a8419c9ac206268c279/bcolz-1.2.1.tar.gz (1.5MB)\n",
            "\u001b[K     |████████████████████████████████| 1.5MB 8.3MB/s \n",
            "\u001b[?25hRequirement already satisfied: seaborn in /usr/local/lib/python3.6/dist-packages (from fastai==0.7.0) (0.11.0)\n",
            "Requirement already satisfied: webencodings in /usr/local/lib/python3.6/dist-packages (from fastai==0.7.0) (0.5.1)\n",
            "Requirement already satisfied: torchtext in /usr/local/lib/python3.6/dist-packages (from fastai==0.7.0) (0.3.1)\n",
            "Requirement already satisfied: tqdm in /usr/local/lib/python3.6/dist-packages (from fastai==0.7.0) (4.41.1)\n",
            "Requirement already satisfied: jupyter in /usr/local/lib/python3.6/dist-packages (from fastai==0.7.0) (1.0.0)\n",
            "Requirement already satisfied: widgetsnbextension in /usr/local/lib/python3.6/dist-packages (from fastai==0.7.0) (3.5.1)\n",
            "Requirement already satisfied: simplegeneric in /usr/local/lib/python3.6/dist-packages (from fastai==0.7.0) (0.8.1)\n",
            "Requirement already satisfied: pytz in /usr/local/lib/python3.6/dist-packages (from fastai==0.7.0) (2018.9)\n",
            "Collecting pandas-summary\n",
            "  Downloading https://files.pythonhosted.org/packages/f5/20/865d4785f86e86f7ad7ebd52fc14810ef59ef13cd959f1363a2615d1c665/pandas_summary-0.0.7-py2.py3-none-any.whl\n",
            "Requirement already satisfied: scipy in /usr/local/lib/python3.6/dist-packages (from fastai==0.7.0) (1.4.1)\n",
            "Requirement already satisfied: testpath in /usr/local/lib/python3.6/dist-packages (from fastai==0.7.0) (0.4.4)\n",
            "Requirement already satisfied: ipykernel in /usr/local/lib/python3.6/dist-packages (from fastai==0.7.0) (4.10.1)\n",
            "Requirement already satisfied: html5lib in /usr/local/lib/python3.6/dist-packages (from fastai==0.7.0) (1.0.1)\n",
            "Requirement already satisfied: pyparsing in /usr/local/lib/python3.6/dist-packages (from fastai==0.7.0) (2.4.7)\n",
            "Requirement already satisfied: jsonschema in /usr/local/lib/python3.6/dist-packages (from fastai==0.7.0) (2.6.0)\n",
            "Requirement already satisfied: traitlets in /usr/local/lib/python3.6/dist-packages (from fastai==0.7.0) (4.3.3)\n",
            "Requirement already satisfied: ipython-genutils in /usr/local/lib/python3.6/dist-packages (from fastai==0.7.0) (0.2.0)\n",
            "Requirement already satisfied: wcwidth in /usr/local/lib/python3.6/dist-packages (from fastai==0.7.0) (0.2.5)\n",
            "Requirement already satisfied: matplotlib in /usr/local/lib/python3.6/dist-packages (from fastai==0.7.0) (3.2.2)\n",
            "Requirement already satisfied: pandas in /usr/local/lib/python3.6/dist-packages (from fastai==0.7.0) (1.1.4)\n",
            "Requirement already satisfied: entrypoints in /usr/local/lib/python3.6/dist-packages (from fastai==0.7.0) (0.3)\n",
            "Collecting isoweek\n",
            "  Downloading https://files.pythonhosted.org/packages/c2/d4/fe7e2637975c476734fcbf53776e650a29680194eb0dd21dbdc020ca92de/isoweek-1.3.3-py2.py3-none-any.whl\n",
            "Requirement already satisfied: Jinja2 in /usr/local/lib/python3.6/dist-packages (from fastai==0.7.0) (2.11.2)\n",
            "Requirement already satisfied: graphviz in /usr/local/lib/python3.6/dist-packages (from fastai==0.7.0) (0.10.1)\n",
            "Requirement already satisfied: cycler in /usr/local/lib/python3.6/dist-packages (from fastai==0.7.0) (0.10.0)\n",
            "Requirement already satisfied: sklearn-pandas in /usr/local/lib/python3.6/dist-packages (from fastai==0.7.0) (1.8.0)\n",
            "Collecting torch<0.4\n",
            "\u001b[?25l  Downloading https://files.pythonhosted.org/packages/5b/a5/e8b50b55b1abac9f1e3346c4242f1e42a82d368a8442cbd50c532922f6c4/torch-0.3.1-cp36-cp36m-manylinux1_x86_64.whl (496.4MB)\n",
            "\u001b[K     |████████████████████████████████| 496.4MB 28kB/s \n",
            "\u001b[?25hRequirement already satisfied: MarkupSafe in /usr/local/lib/python3.6/dist-packages (from fastai==0.7.0) (1.1.1)\n",
            "Requirement already satisfied: ptyprocess in /usr/local/lib/python3.6/dist-packages (from fastai==0.7.0) (0.6.0)\n",
            "Requirement already satisfied: torchvision in /usr/local/lib/python3.6/dist-packages (from fastai==0.7.0) (0.8.1+cu101)\n",
            "Requirement already satisfied: bleach in /usr/local/lib/python3.6/dist-packages (from fastai==0.7.0) (3.2.1)\n",
            "Requirement already satisfied: pyzmq in /usr/local/lib/python3.6/dist-packages (from fastai==0.7.0) (19.0.2)\n",
            "Requirement already satisfied: Pygments in /usr/local/lib/python3.6/dist-packages (from fastai==0.7.0) (2.6.1)\n",
            "Requirement already satisfied: certifi in /usr/local/lib/python3.6/dist-packages (from fastai==0.7.0) (2020.6.20)\n",
            "Requirement already satisfied: pickleshare in /usr/local/lib/python3.6/dist-packages (from fastai==0.7.0) (0.7.5)\n",
            "Requirement already satisfied: feather-format in /usr/local/lib/python3.6/dist-packages (from fastai==0.7.0) (0.4.1)\n",
            "Requirement already satisfied: tornado in /usr/local/lib/python3.6/dist-packages (from fastai==0.7.0) (5.1.1)\n",
            "Requirement already satisfied: decorator in /usr/local/lib/python3.6/dist-packages (from fastai==0.7.0) (4.4.2)\n",
            "Requirement already satisfied: jedi in /usr/local/lib/python3.6/dist-packages (from fastai==0.7.0) (0.17.2)\n",
            "Requirement already satisfied: ipywidgets in /usr/local/lib/python3.6/dist-packages (from fastai==0.7.0) (7.5.1)\n",
            "Requirement already satisfied: plotnine in /usr/local/lib/python3.6/dist-packages (from fastai==0.7.0) (0.6.0)\n",
            "Requirement already satisfied: PyYAML in /usr/local/lib/python3.6/dist-packages (from fastai==0.7.0) (3.13)\n",
            "Requirement already satisfied: six>=1.5 in /usr/local/lib/python3.6/dist-packages (from python-dateutil->fastai==0.7.0) (1.15.0)\n",
            "Requirement already satisfied: setuptools>=18.5 in /usr/local/lib/python3.6/dist-packages (from ipython->fastai==0.7.0) (50.3.2)\n",
            "Requirement already satisfied: pexpect; sys_platform != \"win32\" in /usr/local/lib/python3.6/dist-packages (from ipython->fastai==0.7.0) (4.8.0)\n",
            "Requirement already satisfied: prompt-toolkit<2.0.0,>=1.0.4 in /usr/local/lib/python3.6/dist-packages (from ipython->fastai==0.7.0) (1.0.18)\n",
            "Requirement already satisfied: requests in /usr/local/lib/python3.6/dist-packages (from torchtext->fastai==0.7.0) (2.23.0)\n",
            "Requirement already satisfied: nbconvert in /usr/local/lib/python3.6/dist-packages (from jupyter->fastai==0.7.0) (5.6.1)\n",
            "Requirement already satisfied: qtconsole in /usr/local/lib/python3.6/dist-packages (from jupyter->fastai==0.7.0) (4.7.7)\n",
            "Requirement already satisfied: notebook in /usr/local/lib/python3.6/dist-packages (from jupyter->fastai==0.7.0) (5.3.1)\n",
            "Requirement already satisfied: jupyter-console in /usr/local/lib/python3.6/dist-packages (from jupyter->fastai==0.7.0) (5.2.0)\n",
            "Requirement already satisfied: jupyter-client in /usr/local/lib/python3.6/dist-packages (from ipykernel->fastai==0.7.0) (5.3.5)\n",
            "Requirement already satisfied: kiwisolver>=1.0.1 in /usr/local/lib/python3.6/dist-packages (from matplotlib->fastai==0.7.0) (1.3.1)\n",
            "Requirement already satisfied: scikit-learn>=0.15.0 in /usr/local/lib/python3.6/dist-packages (from sklearn-pandas->fastai==0.7.0) (0.22.2.post1)\n",
            "Requirement already satisfied: packaging in /usr/local/lib/python3.6/dist-packages (from bleach->fastai==0.7.0) (20.4)\n",
            "Requirement already satisfied: pyarrow>=0.4.0 in /usr/local/lib/python3.6/dist-packages (from feather-format->fastai==0.7.0) (0.14.1)\n",
            "Requirement already satisfied: parso<0.8.0,>=0.7.0 in /usr/local/lib/python3.6/dist-packages (from jedi->fastai==0.7.0) (0.7.1)\n",
            "Requirement already satisfied: nbformat>=4.2.0 in /usr/local/lib/python3.6/dist-packages (from ipywidgets->fastai==0.7.0) (5.0.8)\n",
            "Requirement already satisfied: mizani>=0.6.0 in /usr/local/lib/python3.6/dist-packages (from plotnine->fastai==0.7.0) (0.6.0)\n",
            "Requirement already satisfied: patsy>=0.4.1 in /usr/local/lib/python3.6/dist-packages (from plotnine->fastai==0.7.0) (0.5.1)\n",
            "Requirement already satisfied: statsmodels>=0.9.0 in /usr/local/lib/python3.6/dist-packages (from plotnine->fastai==0.7.0) (0.10.2)\n",
            "Requirement already satisfied: descartes>=1.1.0 in /usr/local/lib/python3.6/dist-packages (from plotnine->fastai==0.7.0) (1.1.0)\n",
            "Requirement already satisfied: chardet<4,>=3.0.2 in /usr/local/lib/python3.6/dist-packages (from requests->torchtext->fastai==0.7.0) (3.0.4)\n",
            "Requirement already satisfied: urllib3!=1.25.0,!=1.25.1,<1.26,>=1.21.1 in /usr/local/lib/python3.6/dist-packages (from requests->torchtext->fastai==0.7.0) (1.24.3)\n",
            "Requirement already satisfied: idna<3,>=2.5 in /usr/local/lib/python3.6/dist-packages (from requests->torchtext->fastai==0.7.0) (2.10)\n",
            "Requirement already satisfied: mistune<2,>=0.8.1 in /usr/local/lib/python3.6/dist-packages (from nbconvert->jupyter->fastai==0.7.0) (0.8.4)\n",
            "Requirement already satisfied: jupyter-core in /usr/local/lib/python3.6/dist-packages (from nbconvert->jupyter->fastai==0.7.0) (4.6.3)\n",
            "Requirement already satisfied: pandocfilters>=1.4.1 in /usr/local/lib/python3.6/dist-packages (from nbconvert->jupyter->fastai==0.7.0) (1.4.3)\n",
            "Requirement already satisfied: defusedxml in /usr/local/lib/python3.6/dist-packages (from nbconvert->jupyter->fastai==0.7.0) (0.6.0)\n",
            "Requirement already satisfied: qtpy in /usr/local/lib/python3.6/dist-packages (from qtconsole->jupyter->fastai==0.7.0) (1.9.0)\n",
            "Requirement already satisfied: Send2Trash in /usr/local/lib/python3.6/dist-packages (from notebook->jupyter->fastai==0.7.0) (1.5.0)\n",
            "Requirement already satisfied: terminado>=0.8.1 in /usr/local/lib/python3.6/dist-packages (from notebook->jupyter->fastai==0.7.0) (0.9.1)\n",
            "Requirement already satisfied: joblib>=0.11 in /usr/local/lib/python3.6/dist-packages (from scikit-learn>=0.15.0->sklearn-pandas->fastai==0.7.0) (0.17.0)\n",
            "Requirement already satisfied: palettable in /usr/local/lib/python3.6/dist-packages (from mizani>=0.6.0->plotnine->fastai==0.7.0) (3.3.0)\n",
            "Building wheels for collected packages: bcolz\n",
            "  Building wheel for bcolz (setup.py) ... \u001b[?25l\u001b[?25hdone\n",
            "  Created wheel for bcolz: filename=bcolz-1.2.1-cp36-cp36m-linux_x86_64.whl size=2662229 sha256=0c87a566f4abb2d640a1699453f98499a851b6c2761eaeee5770347471957dcd\n",
            "  Stored in directory: /root/.cache/pip/wheels/9f/78/26/fb8c0acb91a100dc8914bf236c4eaa4b207cb876893c40b745\n",
            "Successfully built bcolz\n",
            "\u001b[31mERROR: torchvision 0.8.1+cu101 has requirement torch==1.7.0, but you'll have torch 0.3.1 which is incompatible.\u001b[0m\n",
            "Installing collected packages: bcolz, pandas-summary, isoweek, torch, fastai\n",
            "  Found existing installation: torch 1.7.0+cu101\n",
            "    Uninstalling torch-1.7.0+cu101:\n",
            "      Successfully uninstalled torch-1.7.0+cu101\n",
            "  Found existing installation: fastai 1.0.61\n",
            "    Uninstalling fastai-1.0.61:\n",
            "      Successfully uninstalled fastai-1.0.61\n",
            "Successfully installed bcolz-1.2.1 fastai-0.7.0 isoweek-1.3.3 pandas-summary-0.0.7 torch-0.3.1\n",
            "Collecting torchtext==0.2.3\n",
            "\u001b[?25l  Downloading https://files.pythonhosted.org/packages/78/90/474d5944d43001a6e72b9aaed5c3e4f77516fbef2317002da2096fd8b5ea/torchtext-0.2.3.tar.gz (42kB)\n",
            "\u001b[K     |████████████████████████████████| 51kB 1.7MB/s \n",
            "\u001b[?25hRequirement already satisfied: tqdm in /usr/local/lib/python3.6/dist-packages (from torchtext==0.2.3) (4.41.1)\n",
            "Requirement already satisfied: requests in /usr/local/lib/python3.6/dist-packages (from torchtext==0.2.3) (2.23.0)\n",
            "Requirement already satisfied: chardet<4,>=3.0.2 in /usr/local/lib/python3.6/dist-packages (from requests->torchtext==0.2.3) (3.0.4)\n",
            "Requirement already satisfied: certifi>=2017.4.17 in /usr/local/lib/python3.6/dist-packages (from requests->torchtext==0.2.3) (2020.6.20)\n",
            "Requirement already satisfied: idna<3,>=2.5 in /usr/local/lib/python3.6/dist-packages (from requests->torchtext==0.2.3) (2.10)\n",
            "Requirement already satisfied: urllib3!=1.25.0,!=1.25.1,<1.26,>=1.21.1 in /usr/local/lib/python3.6/dist-packages (from requests->torchtext==0.2.3) (1.24.3)\n",
            "Building wheels for collected packages: torchtext\n",
            "  Building wheel for torchtext (setup.py) ... \u001b[?25l\u001b[?25hdone\n",
            "  Created wheel for torchtext: filename=torchtext-0.2.3-cp36-none-any.whl size=40133 sha256=7666d2829c3429d5954a22eb0146e071d4faac207c64d81c8b323185f0983400\n",
            "  Stored in directory: /root/.cache/pip/wheels/42/a6/f4/b267328bde6bb680094a0c173e8e5627ccc99543abded97204\n",
            "Successfully built torchtext\n",
            "Installing collected packages: torchtext\n",
            "  Found existing installation: torchtext 0.3.1\n",
            "    Uninstalling torchtext-0.3.1:\n",
            "      Successfully uninstalled torchtext-0.3.1\n",
            "Successfully installed torchtext-0.2.3\n",
            "Collecting scikit-learn==0.21.3\n",
            "\u001b[?25l  Downloading https://files.pythonhosted.org/packages/a0/c5/d2238762d780dde84a20b8c761f563fe882b88c5a5fb03c056547c442a19/scikit_learn-0.21.3-cp36-cp36m-manylinux1_x86_64.whl (6.7MB)\n",
            "\u001b[K     |████████████████████████████████| 6.7MB 2.6MB/s \n",
            "\u001b[?25hRequirement already satisfied: joblib>=0.11 in /usr/local/lib/python3.6/dist-packages (from scikit-learn==0.21.3) (0.17.0)\n",
            "Requirement already satisfied: scipy>=0.17.0 in /usr/local/lib/python3.6/dist-packages (from scikit-learn==0.21.3) (1.4.1)\n",
            "Requirement already satisfied: numpy>=1.11.0 in /usr/local/lib/python3.6/dist-packages (from scikit-learn==0.21.3) (1.18.5)\n",
            "Installing collected packages: scikit-learn\n",
            "  Found existing installation: scikit-learn 0.22.2.post1\n",
            "    Uninstalling scikit-learn-0.22.2.post1:\n",
            "      Successfully uninstalled scikit-learn-0.22.2.post1\n",
            "Successfully installed scikit-learn-0.21.3\n",
            "Requirement already satisfied: kaggle in /usr/local/lib/python3.6/dist-packages (1.5.9)\n",
            "Requirement already satisfied: six>=1.10 in /usr/local/lib/python3.6/dist-packages (from kaggle) (1.15.0)\n",
            "Requirement already satisfied: slugify in /usr/local/lib/python3.6/dist-packages (from kaggle) (0.0.1)\n",
            "Requirement already satisfied: python-dateutil in /usr/local/lib/python3.6/dist-packages (from kaggle) (2.8.1)\n",
            "Requirement already satisfied: certifi in /usr/local/lib/python3.6/dist-packages (from kaggle) (2020.6.20)\n",
            "Requirement already satisfied: tqdm in /usr/local/lib/python3.6/dist-packages (from kaggle) (4.41.1)\n",
            "Requirement already satisfied: requests in /usr/local/lib/python3.6/dist-packages (from kaggle) (2.23.0)\n",
            "Requirement already satisfied: python-slugify in /usr/local/lib/python3.6/dist-packages (from kaggle) (4.0.1)\n",
            "Requirement already satisfied: urllib3 in /usr/local/lib/python3.6/dist-packages (from kaggle) (1.24.3)\n",
            "Requirement already satisfied: idna<3,>=2.5 in /usr/local/lib/python3.6/dist-packages (from requests->kaggle) (2.10)\n",
            "Requirement already satisfied: chardet<4,>=3.0.2 in /usr/local/lib/python3.6/dist-packages (from requests->kaggle) (3.0.4)\n",
            "Requirement already satisfied: text-unidecode>=1.3 in /usr/local/lib/python3.6/dist-packages (from python-slugify->kaggle) (1.3)\n"
          ],
          "name": "stdout"
        }
      ]
    },
    {
      "cell_type": "code",
      "metadata": {
        "id": "gyt0fkMVkgxr",
        "outputId": "dc4cfaca-8453-4f96-83a8-3f5e470e17ee",
        "colab": {
          "base_uri": "https://localhost:8080/"
        }
      },
      "source": [
        "#get kaggle api \n",
        "!wget https://raw.githubusercontent.com/rajatmodi62/ml-collection/master/kaggle.json\n",
        "!mkdir ~/.kaggle\n",
        "!mv kaggle.json ~/.kaggle \n",
        "!wget https://raw.githubusercontent.com/rajatmodi62/ml-collection/master/kaggle.json\n"
      ],
      "execution_count": 2,
      "outputs": [
        {
          "output_type": "stream",
          "text": [
            "--2020-11-05 04:42:36--  https://raw.githubusercontent.com/rajatmodi62/ml-collection/master/kaggle.json\n",
            "Resolving raw.githubusercontent.com (raw.githubusercontent.com)... 151.101.0.133, 151.101.64.133, 151.101.128.133, ...\n",
            "Connecting to raw.githubusercontent.com (raw.githubusercontent.com)|151.101.0.133|:443... connected.\n",
            "HTTP request sent, awaiting response... 200 OK\n",
            "Length: 69 [text/plain]\n",
            "Saving to: ‘kaggle.json’\n",
            "\n",
            "kaggle.json         100%[===================>]      69  --.-KB/s    in 0s      \n",
            "\n",
            "2020-11-05 04:42:36 (2.22 MB/s) - ‘kaggle.json’ saved [69/69]\n",
            "\n",
            "--2020-11-05 04:42:36--  https://raw.githubusercontent.com/rajatmodi62/ml-collection/master/kaggle.json\n",
            "Resolving raw.githubusercontent.com (raw.githubusercontent.com)... 151.101.0.133, 151.101.64.133, 151.101.128.133, ...\n",
            "Connecting to raw.githubusercontent.com (raw.githubusercontent.com)|151.101.0.133|:443... connected.\n",
            "HTTP request sent, awaiting response... 200 OK\n",
            "Length: 69 [text/plain]\n",
            "Saving to: ‘kaggle.json’\n",
            "\n",
            "kaggle.json         100%[===================>]      69  --.-KB/s    in 0s      \n",
            "\n",
            "2020-11-05 04:42:37 (4.03 MB/s) - ‘kaggle.json’ saved [69/69]\n",
            "\n"
          ],
          "name": "stdout"
        }
      ]
    },
    {
      "cell_type": "code",
      "metadata": {
        "id": "_j7mE0B2lIC-",
        "outputId": "e479b543-0b38-4703-fae6-057e20c86827",
        "colab": {
          "base_uri": "https://localhost:8080/"
        }
      },
      "source": [
        "!kaggle competitions download -c bluebook-for-bulldozers\n",
        "!unzip Train.zip"
      ],
      "execution_count": 3,
      "outputs": [
        {
          "output_type": "stream",
          "text": [
            "Warning: Your Kaggle API key is readable by other users on this system! To fix this, you can run 'chmod 600 /root/.kaggle/kaggle.json'\n",
            "Warning: Looks like you're using an outdated API Version, please consider updating (server 1.5.9 / client 1.5.4)\n",
            "Downloading Train.7z to /content\n",
            " 73% 5.00M/6.85M [00:01<00:00, 4.12MB/s]\n",
            "100% 6.85M/6.85M [00:01<00:00, 5.46MB/s]\n",
            "Downloading TrainAndValid.csv.zip to /content\n",
            " 96% 9.00M/9.38M [00:01<00:00, 7.73MB/s]\n",
            "100% 9.38M/9.38M [00:01<00:00, 7.46MB/s]\n",
            "Downloading Valid.7z to /content\n",
            "  0% 0.00/209k [00:00<?, ?B/s]\n",
            "100% 209k/209k [00:00<00:00, 68.0MB/s]\n",
            "Downloading Valid.csv.zip to /content\n",
            "  0% 0.00/291k [00:00<?, ?B/s]\n",
            "100% 291k/291k [00:00<00:00, 95.1MB/s]\n",
            "Downloading Test.csv.zip to /content\n",
            "  0% 0.00/338k [00:00<?, ?B/s]\n",
            "100% 338k/338k [00:00<00:00, 46.8MB/s]\n",
            "Downloading TrainAndValid.zip to /content\n",
            " 94% 9.00M/9.59M [00:01<00:00, 6.79MB/s]\n",
            "100% 9.59M/9.59M [00:01<00:00, 6.85MB/s]\n",
            "Downloading median_benchmark.csv to /content\n",
            "  0% 0.00/192k [00:00<?, ?B/s]\n",
            "100% 192k/192k [00:00<00:00, 56.2MB/s]\n",
            "Downloading Machine_Appendix.csv.zip to /content\n",
            "100% 5.00M/5.01M [00:00<00:00, 11.2MB/s]\n",
            "100% 5.01M/5.01M [00:00<00:00, 10.2MB/s]\n",
            "Downloading TrainAndValid.7z to /content\n",
            " 71% 5.00M/7.06M [00:01<00:00, 4.27MB/s]\n",
            "100% 7.06M/7.06M [00:01<00:00, 5.84MB/s]\n",
            "Downloading Train.zip to /content\n",
            " 54% 5.00M/9.28M [00:00<00:00, 8.24MB/s]\n",
            "100% 9.28M/9.28M [00:00<00:00, 14.6MB/s]\n",
            "Downloading ValidSolution.csv to /content\n",
            "  0% 0.00/316k [00:00<?, ?B/s]\n",
            "100% 316k/316k [00:00<00:00, 104MB/s]\n",
            "Downloading Valid.zip to /content\n",
            "  0% 0.00/297k [00:00<?, ?B/s]\n",
            "100% 297k/297k [00:00<00:00, 98.5MB/s]\n",
            "Downloading random_forest_benchmark_test.csv to /content\n",
            "  0% 0.00/207k [00:00<?, ?B/s]\n",
            "100% 207k/207k [00:00<00:00, 63.2MB/s]\n",
            "Downloading Data%20Dictionary.xlsx to /content\n",
            "  0% 0.00/10.8k [00:00<?, ?B/s]\n",
            "100% 10.8k/10.8k [00:00<00:00, 6.88MB/s]\n",
            "Archive:  Train.zip\n",
            "  inflating: Train.csv               \n"
          ],
          "name": "stdout"
        }
      ]
    },
    {
      "cell_type": "code",
      "metadata": {
        "id": "wB_3cuTaAyM5",
        "outputId": "3e577d33-5e5b-464c-fdfb-9b35eb30fbea",
        "colab": {
          "base_uri": "https://localhost:8080/"
        }
      },
      "source": [
        "# !wget https://github.com/rajatmodi62/ml-collection/raw/master/NITHamirpur/notebooks/images.zip\n",
        "!git clone https://github.com/rajatmodi62/ml-collection"
      ],
      "execution_count": 4,
      "outputs": [
        {
          "output_type": "stream",
          "text": [
            "Cloning into 'ml-collection'...\n",
            "remote: Enumerating objects: 169, done.\u001b[K\n",
            "remote: Counting objects: 100% (169/169), done.\u001b[K\n",
            "remote: Compressing objects: 100% (120/120), done.\u001b[K\n",
            "remote: Total 231 (delta 54), reused 152 (delta 42), pack-reused 62\u001b[K\n",
            "Receiving objects: 100% (231/231), 246.37 MiB | 10.19 MiB/s, done.\n",
            "Resolving deltas: 100% (64/64), done.\n",
            "Checking out files: 100% (156/156), done.\n"
          ],
          "name": "stdout"
        }
      ]
    },
    {
      "cell_type": "markdown",
      "metadata": {
        "id": "pNnGY9yRgyBh"
      },
      "source": [
        "# Intro to Random Forests"
      ]
    },
    {
      "cell_type": "markdown",
      "metadata": {
        "id": "NecGjCU5gyBi"
      },
      "source": [
        "## About this course"
      ]
    },
    {
      "cell_type": "markdown",
      "metadata": {
        "heading_collapsed": true,
        "id": "FP-5D430gyBj"
      },
      "source": [
        "### Teaching approach"
      ]
    },
    {
      "cell_type": "markdown",
      "metadata": {
        "hidden": true,
        "id": "9-ZRfCROgyBj"
      },
      "source": [
        "This course is being taught by Jeremy Howard, and was developed by Jeremy along with Rachel Thomas. Rachel has been dealing with a life-threatening illness so will not be teaching as originally planned this year.\n",
        "\n",
        "Jeremy has worked in a number of different areas - feel free to ask about anything that he might be able to help you with at any time, even if not directly related to the current topic:\n",
        "\n",
        "- Management consultant (McKinsey; AT Kearney)\n",
        "- Self-funded startup entrepreneur (Fastmail: first consumer synchronized email; Optimal Decisions: first optimized insurance pricing)\n",
        "- VC-funded startup entrepreneur: (Kaggle; Enlitic: first deep-learning medical company)"
      ]
    },
    {
      "cell_type": "markdown",
      "metadata": {
        "hidden": true,
        "id": "OQslUR4qgyBk"
      },
      "source": [
        "I'll be using a *top-down* teaching method, which is different from how most math courses operate.  Typically, in a *bottom-up* approach, you first learn all the separate components you will be using, and then you gradually build them up into more complex structures.  The problems with this are that students often lose motivation, don't have a sense of the \"big picture\", and don't know what they'll need.\n",
        "\n",
        "If you took the fast.ai deep learning course, that is what we used.  You can hear more about my teaching philosophy [in this blog post](http://www.fast.ai/2016/10/08/teaching-philosophy/) or [in this talk](https://vimeo.com/214233053).\n",
        "\n",
        "Harvard Professor David Perkins has a book, [Making Learning Whole](https://www.amazon.com/Making-Learning-Whole-Principles-Transform/dp/0470633719) in which he uses baseball as an analogy.  We don't require kids to memorize all the rules of baseball and understand all the technical details before we let them play the game.  Rather, they start playing with a just general sense of it, and then gradually learn more rules/details as time goes on.\n",
        "\n",
        "All that to say, don't worry if you don't understand everything at first!  You're not supposed to.  We will start using some \"black boxes\" such as random forests that haven't yet been explained in detail, and then we'll dig into the lower level details later.\n",
        "\n",
        "To start, focus on what things DO, not what they ARE."
      ]
    },
    {
      "cell_type": "markdown",
      "metadata": {
        "heading_collapsed": true,
        "id": "gguYQvHLgyBk"
      },
      "source": [
        "### Your practice"
      ]
    },
    {
      "cell_type": "markdown",
      "metadata": {
        "hidden": true,
        "id": "kphFzVhxgyBl"
      },
      "source": [
        "People learn by:\n",
        "1. **doing** (coding and building)\n",
        "2. **explaining** what they've learned (by writing or helping others)\n",
        "\n",
        "Therefore, we suggest that you practice these skills on Kaggle by:\n",
        "1. Entering competitions (*doing*)\n",
        "2. Creating Kaggle kernels (*explaining*)\n",
        "\n",
        "It's OK if you don't get good competition ranks or any kernel votes at first - that's totally normal! Just try to keep improving every day, and you'll see the results over time."
      ]
    },
    {
      "cell_type": "markdown",
      "metadata": {
        "hidden": true,
        "id": "qN5cv2VVgyBl"
      },
      "source": [
        "To get better at technical writing, study the top ranked Kaggle kernels from past competitions, and read posts from well-regarded technical bloggers. Some good role models include:\n",
        "\n",
        "- [Peter Norvig](http://nbviewer.jupyter.org/url/norvig.com/ipython/ProbabilityParadox.ipynb) (more [here](http://norvig.com/ipython/))\n",
        "- [Stephen Merity](https://smerity.com/articles/2017/deepcoder_and_ai_hype.html)\n",
        "- [Julia Evans](https://codewords.recurse.com/issues/five/why-do-neural-networks-think-a-panda-is-a-vulture) (more [here](https://jvns.ca/blog/2014/08/12/what-happens-if-you-write-a-tcp-stack-in-python/))\n",
        "- [Julia Ferraioli](http://blog.juliaferraioli.com/2016/02/exploring-world-using-vision-twilio.html)\n",
        "- [Edwin Chen](http://blog.echen.me/2014/10/07/moving-beyond-ctr-better-recommendations-through-human-evaluation/)\n",
        "- [Slav Ivanov](https://blog.slavv.com/picking-an-optimizer-for-style-transfer-86e7b8cba84b) (fast.ai student)\n",
        "- [Brad Kenstler](https://hackernoon.com/non-artistic-style-transfer-or-how-to-draw-kanye-using-captain-picards-face-c4a50256b814) (fast.ai and USF MSAN student)"
      ]
    },
    {
      "cell_type": "markdown",
      "metadata": {
        "heading_collapsed": true,
        "id": "S7Fnf2hYgyBm"
      },
      "source": [
        "### Books"
      ]
    },
    {
      "cell_type": "markdown",
      "metadata": {
        "hidden": true,
        "id": "6BW0FrJDgyBm"
      },
      "source": [
        "The more familiarity you have with numeric programming in Python, the better. If you're looking to improve in this area, we strongly suggest Wes McKinney's [Python for Data Analysis, 2nd ed](https://www.amazon.com/Python-Data-Analysis-Wrangling-IPython/dp/1491957662/ref=asap_bc?ie=UTF8).\n",
        "\n",
        "For machine learning with Python, we recommend:\n",
        "\n",
        "- [Introduction to Machine Learning with Python](https://www.amazon.com/Introduction-Machine-Learning-Andreas-Mueller/dp/1449369413): From one of the scikit-learn authors, which is the main library we'll be using\n",
        "- [Python Machine Learning: Machine Learning and Deep Learning with Python, scikit-learn, and TensorFlow, 2nd Edition](https://www.amazon.com/Python-Machine-Learning-scikit-learn-TensorFlow/dp/1787125939/ref=dp_ob_title_bk): New version of a very successful book. A lot of the new material however covers deep learning in Tensorflow, which isn't relevant to this course\n",
        "- [Hands-On Machine Learning with Scikit-Learn and TensorFlow](https://www.amazon.com/Hands-Machine-Learning-Scikit-Learn-TensorFlow/dp/1491962291/ref=pd_lpo_sbs_14_t_0?_encoding=UTF8&psc=1&refRID=MBV2QMFH3EZ6B3YBY40K)\n"
      ]
    },
    {
      "cell_type": "markdown",
      "metadata": {
        "id": "4DaLfYBDgyBn"
      },
      "source": [
        "### Syllabus in brief"
      ]
    },
    {
      "cell_type": "markdown",
      "metadata": {
        "id": "doOS6JzKgyBn"
      },
      "source": [
        "Depending on time and class interests, we'll cover something like (not necessarily in this order):\n",
        "\n",
        "- Train vs test\n",
        "  - Effective validation set construction\n",
        "- Trees and ensembles\n",
        "  - Creating random forests\n",
        "  - Interpreting random forests\n",
        "- What is ML?  Why do we use it?\n",
        "  - What makes a good ML project?\n",
        "  - Structured vs unstructured data\n",
        "  - Examples of failures/mistakes\n",
        "- Feature engineering\n",
        "  - Domain specific - dates, URLs, text\n",
        "  - Embeddings / latent factors\n",
        "- Regularized models trained with SGD\n",
        "  - GLMs, Elasticnet, etc (NB: see what James covered)\n",
        "- Basic neural nets\n",
        "  - PyTorch\n",
        "  - Broadcasting, Matrix Multiplication\n",
        "  - Training loop, backpropagation\n",
        "- KNN\n",
        "- CV / bootstrap (Diabetes data set?)\n",
        "- Ethical considerations"
      ]
    },
    {
      "cell_type": "markdown",
      "metadata": {
        "id": "gsnCINulgyBo"
      },
      "source": [
        "Skip:\n",
        "\n",
        "- Dimensionality reduction\n",
        "- Interactions\n",
        "- Monitoring training\n",
        "- Collaborative filtering\n",
        "- Momentum and LR annealing\n"
      ]
    },
    {
      "cell_type": "markdown",
      "metadata": {
        "heading_collapsed": true,
        "id": "imZ6IUuFgyBo"
      },
      "source": [
        "## Imports"
      ]
    },
    {
      "cell_type": "code",
      "metadata": {
        "hidden": true,
        "id": "vjNc9RyEgyBp"
      },
      "source": [
        "#import inline matplotlib commands \n",
        "# for plotting inside notebooks\n",
        "%load_ext autoreload\n",
        "%autoreload 2\n",
        "\n",
        "%matplotlib inline"
      ],
      "execution_count": 5,
      "outputs": []
    },
    {
      "cell_type": "code",
      "metadata": {
        "hidden": true,
        "id": "miQFmYKTgyBs"
      },
      "source": [
        "from fastai.imports import *\n",
        "from fastai.structured import *\n",
        "\n",
        "from pandas_summary import DataFrameSummary\n",
        "from sklearn.ensemble import RandomForestRegressor, RandomForestClassifier\n",
        "from IPython.display import display\n",
        "\n",
        "from sklearn import metrics"
      ],
      "execution_count": 6,
      "outputs": []
    },
    {
      "cell_type": "code",
      "metadata": {
        "hidden": true,
        "id": "n7UOSMsYgyBv"
      },
      "source": [
        "# PATH = \"data/bulldozers/\"\n",
        "PATH= './'"
      ],
      "execution_count": 7,
      "outputs": []
    },
    {
      "cell_type": "code",
      "metadata": {
        "hidden": true,
        "id": "TxGVNzrLgyBx",
        "outputId": "dc081484-57e6-446e-9faa-3d65a47ef89a",
        "colab": {
          "base_uri": "https://localhost:8080/"
        }
      },
      "source": [
        "!ls {PATH}"
      ],
      "execution_count": 8,
      "outputs": [
        {
          "output_type": "stream",
          "text": [
            "Data%20Dictionary.xlsx\t\t  sample_data\t\t Train.csv\n",
            "kaggle.json\t\t\t  Test.csv.zip\t\t Train.zip\n",
            "Machine_Appendix.csv.zip\t  Train.7z\t\t Valid.7z\n",
            "median_benchmark.csv\t\t  TrainAndValid.7z\t Valid.csv.zip\n",
            "ml-collection\t\t\t  TrainAndValid.csv.zip  ValidSolution.csv\n",
            "random_forest_benchmark_test.csv  TrainAndValid.zip\t Valid.zip\n"
          ],
          "name": "stdout"
        }
      ]
    },
    {
      "cell_type": "markdown",
      "metadata": {
        "id": "X5JgJTkjgyB1"
      },
      "source": [
        "# Introduction to *Blue Book for Bulldozers*"
      ]
    },
    {
      "cell_type": "markdown",
      "metadata": {
        "heading_collapsed": true,
        "id": "znj_pCTRgyB1"
      },
      "source": [
        "## About..."
      ]
    },
    {
      "cell_type": "markdown",
      "metadata": {
        "hidden": true,
        "id": "pDKNBzemgyB2"
      },
      "source": [
        "### ...our teaching"
      ]
    },
    {
      "cell_type": "markdown",
      "metadata": {
        "hidden": true,
        "id": "q9yr-lLRgyB2"
      },
      "source": [
        "At fast.ai we have a distinctive [teaching philosophy](http://www.fast.ai/2016/10/08/teaching-philosophy/) of [\"the whole game\"](https://www.amazon.com/Making-Learning-Whole-Principles-Transform/dp/0470633719/ref=sr_1_1?ie=UTF8&qid=1505094653).  This is different from how most traditional math & technical courses are taught, where you have to learn all the individual elements before you can combine them (Harvard professor David Perkins call this *elementitis*), but it is similar to how topics like *driving* and *baseball* are taught.  That is, you can start driving without [knowing how an internal combustion engine works](https://medium.com/towards-data-science/thoughts-after-taking-the-deeplearning-ai-courses-8568f132153), and children begin playing baseball before they learn all the formal rules."
      ]
    },
    {
      "cell_type": "markdown",
      "metadata": {
        "hidden": true,
        "id": "RO7IOJxvgyB2"
      },
      "source": [
        "### ...our approach to machine learning"
      ]
    },
    {
      "cell_type": "markdown",
      "metadata": {
        "hidden": true,
        "id": "0XPlNQQQgyB3"
      },
      "source": [
        "Most machine learning courses will throw at you dozens of different algorithms, with a brief technical description of the math behind them, and maybe a toy example. You're left confused by the enormous range of techniques shown and have little practical understanding of how to apply them.\n",
        "\n",
        "The good news is that modern machine learning can be distilled down to a couple of key techniques that are of very wide applicability. Recent studies have shown that the vast majority of datasets can be best modeled with just two methods:\n",
        "\n",
        "- *Ensembles of decision trees* (i.e. Random Forests and Gradient Boosting Machines), mainly for structured data (such as you might find in a database table at most companies)\n",
        "- *Multi-layered neural networks learnt with SGD* (i.e. shallow and/or deep learning), mainly for unstructured data (such as audio, vision, and natural language)\n",
        "\n",
        "In this course we'll be doing a deep dive into random forests, and simple models learnt with SGD. You'll be learning about gradient boosting and deep learning in part 2."
      ]
    },
    {
      "cell_type": "markdown",
      "metadata": {
        "heading_collapsed": true,
        "hidden": true,
        "id": "BbMzBGEQgyB3"
      },
      "source": [
        "### ...this dataset"
      ]
    },
    {
      "cell_type": "markdown",
      "metadata": {
        "hidden": true,
        "id": "dn0DD28JgyB4"
      },
      "source": [
        "We will be looking at the Blue Book for Bulldozers Kaggle Competition: \"The goal of the contest is to predict the sale price of a particular piece of heavy equiment at auction based on it's usage, equipment type, and configuaration.  The data is sourced from auction result postings and includes information on usage and equipment configurations.\"\n",
        "\n",
        "This is a very common type of dataset and prediciton problem, and similar to what you may see in your project or workplace."
      ]
    },
    {
      "cell_type": "markdown",
      "metadata": {
        "heading_collapsed": true,
        "hidden": true,
        "id": "wCZNrw3ygyB4"
      },
      "source": [
        "### ...Kaggle Competitions"
      ]
    },
    {
      "cell_type": "markdown",
      "metadata": {
        "hidden": true,
        "id": "wsjTHclegyB5"
      },
      "source": [
        "Kaggle is an awesome resource for aspiring data scientists or anyone looking to improve their machine learning skills.  There is nothing like being able to get hands-on practice and receiving real-time feedback to help you improve your skills.\n",
        "\n",
        "Kaggle provides:\n",
        "\n",
        "1. Interesting data sets\n",
        "2. Feedback on how you're doing\n",
        "3. A leader board to see what's good, what's possible, and what's state-of-art.\n",
        "4. Blog posts by winning contestants share useful tips and techniques."
      ]
    },
    {
      "cell_type": "markdown",
      "metadata": {
        "id": "YBOB2LYkgyB5"
      },
      "source": [
        "## The data"
      ]
    },
    {
      "cell_type": "markdown",
      "metadata": {
        "heading_collapsed": true,
        "id": "M-7rruOAgyB5"
      },
      "source": [
        "### Look at the data"
      ]
    },
    {
      "cell_type": "markdown",
      "metadata": {
        "hidden": true,
        "id": "9h_x0TCmgyB6"
      },
      "source": [
        "Kaggle provides info about some of the fields of our dataset; on the [Kaggle Data info](https://www.kaggle.com/c/bluebook-for-bulldozers/data) page they say the following:\n",
        "\n",
        "For this competition, you are predicting the sale price of bulldozers sold at auctions. The data for this competition is split into three parts:\n",
        "\n",
        "- **Train.csv** is the training set, which contains data through the end of 2011.\n",
        "- **Valid.csv** is the validation set, which contains data from January 1, 2012 - April 30, 2012 You make predictions on this set throughout the majority of the competition. Your score on this set is used to create the public leaderboard.\n",
        "- **Test.csv** is the test set, which won't be released until the last week of the competition. It contains data from May 1, 2012 - November 2012. Your score on the test set determines your final rank for the competition.\n",
        "\n",
        "The key fields are in train.csv are:\n",
        "\n",
        "- SalesID: the uniue identifier of the sale\n",
        "- MachineID: the unique identifier of a machine.  A machine can be sold multiple times\n",
        "- saleprice: what the machine sold for at auction (only provided in train.csv)\n",
        "- saledate: the date of the sale"
      ]
    },
    {
      "cell_type": "markdown",
      "metadata": {
        "hidden": true,
        "id": "x7Z9X-mOgyB6"
      },
      "source": [
        "*Question*\n",
        "\n",
        "What stands out to you from the above description?  What needs to be true of our training and validation sets?"
      ]
    },
    {
      "cell_type": "code",
      "metadata": {
        "id": "tAMiruPupFKa",
        "outputId": "2e272390-b62d-4d47-9d19-4bde7eb44fab",
        "colab": {
          "base_uri": "https://localhost:8080/"
        }
      },
      "source": [
        "#print the csv data in dump format \n",
        "!head Train.csv\n",
        "\n",
        "#UNSTRUCTURED DATA"
      ],
      "execution_count": 9,
      "outputs": [
        {
          "output_type": "stream",
          "text": [
            "SalesID,SalePrice,MachineID,ModelID,datasource,auctioneerID,YearMade,MachineHoursCurrentMeter,UsageBand,saledate,fiModelDesc,fiBaseModel,fiSecondaryDesc,fiModelSeries,fiModelDescriptor,ProductSize,fiProductClassDesc,state,ProductGroup,ProductGroupDesc,Drive_System,Enclosure,Forks,Pad_Type,Ride_Control,Stick,Transmission,Turbocharged,Blade_Extension,Blade_Width,Enclosure_Type,Engine_Horsepower,Hydraulics,Pushblock,Ripper,Scarifier,Tip_Control,Tire_Size,Coupler,Coupler_System,Grouser_Tracks,Hydraulics_Flow,Track_Type,Undercarriage_Pad_Width,Stick_Length,Thumb,Pattern_Changer,Grouser_Type,Backhoe_Mounting,Blade_Type,Travel_Controls,Differential_Type,Steering_Controls\r\n",
            "1139246,66000,999089,3157,121,3,2004,68,Low,11/16/2006 0:00,521D,521,D,,,,Wheel Loader - 110.0 to 120.0 Horsepower,Alabama,WL,Wheel Loader,,EROPS w AC,None or Unspecified,,None or Unspecified,,,,,,,,2 Valve,,,,,None or Unspecified,None or Unspecified,,,,,,,,,,,,,Standard,Conventional\r\n",
            "1139248,57000,117657,77,121,3,1996,4640,Low,3/26/2004 0:00,950FII,950,F,II,,Medium,Wheel Loader - 150.0 to 175.0 Horsepower,North Carolina,WL,Wheel Loader,,EROPS w AC,None or Unspecified,,None or Unspecified,,,,,,,,2 Valve,,,,,23.5,None or Unspecified,,,,,,,,,,,,,Standard,Conventional\r\n",
            "1139249,10000,434808,7009,121,3,2001,2838,High,2/26/2004 0:00,226,226,,,,,Skid Steer Loader - 1351.0 to 1601.0 Lb Operating Capacity,New York,SSL,Skid Steer Loaders,,OROPS,None or Unspecified,,,,,,,,,,Auxiliary,,,,,,None or Unspecified,None or Unspecified,None or Unspecified,Standard,,,,,,,,,,,\r\n",
            "1139251,38500,1026470,332,121,3,2001,3486,High,5/19/2011 0:00,PC120-6E,PC120,,-6E,,Small,\"Hydraulic Excavator, Track - 12.0 to 14.0 Metric Tons\",Texas,TEX,Track Excavators,,EROPS w AC,,,,,,,,,,,2 Valve,,,,,,None or Unspecified,,,,,,,,,,,,,,\r\n",
            "1139253,11000,1057373,17311,121,3,2007,722,Medium,7/23/2009 0:00,S175,S175,,,,,Skid Steer Loader - 1601.0 to 1751.0 Lb Operating Capacity,New York,SSL,Skid Steer Loaders,,EROPS,None or Unspecified,,,,,,,,,,Auxiliary,,,,,,None or Unspecified,None or Unspecified,None or Unspecified,Standard,,,,,,,,,,,\r\n",
            "1139255,26500,1001274,4605,121,3,2004,508,Low,12/18/2008 0:00,310G,310,G,,,,Backhoe Loader - 14.0 to 15.0 Ft Standard Digging Depth,Arizona,BL,Backhoe Loaders,Four Wheel Drive,OROPS,None or Unspecified,None or Unspecified,No,Extended,Powershuttle,None or Unspecified,,,,,,,,,,,,,,,,,,,,,,,,,\r\n",
            "1139256,21000,772701,1937,121,3,1993,11540,High,8/26/2004 0:00,790ELC,790,E,,LC,Large / Medium,\"Hydraulic Excavator, Track - 21.0 to 24.0 Metric Tons\",Florida,TEX,Track Excavators,,EROPS,,,,,,,,,,,Standard,,,,,,None or Unspecified,,,,Steel,None or Unspecified,None or Unspecified,None or Unspecified,None or Unspecified,Double,,,,,\r\n",
            "1139261,27000,902002,3539,121,3,2001,4883,High,11/17/2005 0:00,416D,416,D,,,,Backhoe Loader - 14.0 to 15.0 Ft Standard Digging Depth,Illinois,BL,Backhoe Loaders,Four Wheel Drive,OROPS,None or Unspecified,Reversible,No,Standard,Standard,Yes,,,,,,,,,,,,,,,,,,,,,,,,,\r\n",
            "1139272,21500,1036251,36003,121,3,2008,302,Low,8/27/2009 0:00,430HAG,430,HAG,,,Mini,\"Hydraulic Excavator, Track - 3.0 to 4.0 Metric Tons\",Texas,TEX,Track Excavators,,EROPS,,,,,,,,,,,Auxiliary,,,,,,Manual,,,,Rubber,None or Unspecified,None or Unspecified,None or Unspecified,None or Unspecified,Double,,,,,\r\n"
          ],
          "name": "stdout"
        }
      ]
    },
    {
      "cell_type": "code",
      "metadata": {
        "hidden": true,
        "scrolled": false,
        "id": "8VWJGItKgyB6",
        "outputId": "99249807-e15b-45af-aff1-6d8223fe9ea7",
        "colab": {
          "base_uri": "https://localhost:8080/",
          "height": 360
        }
      },
      "source": [
        "#read this stuff into memory\n",
        "#STRUCTURED DATA\n",
        "df_raw = pd.read_csv(f'{PATH}Train.csv', low_memory=False, \n",
        "                     parse_dates=[\"saledate\"])\n",
        "\n",
        "df_raw.head()"
      ],
      "execution_count": 10,
      "outputs": [
        {
          "output_type": "execute_result",
          "data": {
            "text/html": [
              "<div>\n",
              "<style scoped>\n",
              "    .dataframe tbody tr th:only-of-type {\n",
              "        vertical-align: middle;\n",
              "    }\n",
              "\n",
              "    .dataframe tbody tr th {\n",
              "        vertical-align: top;\n",
              "    }\n",
              "\n",
              "    .dataframe thead th {\n",
              "        text-align: right;\n",
              "    }\n",
              "</style>\n",
              "<table border=\"1\" class=\"dataframe\">\n",
              "  <thead>\n",
              "    <tr style=\"text-align: right;\">\n",
              "      <th></th>\n",
              "      <th>SalesID</th>\n",
              "      <th>SalePrice</th>\n",
              "      <th>MachineID</th>\n",
              "      <th>ModelID</th>\n",
              "      <th>datasource</th>\n",
              "      <th>auctioneerID</th>\n",
              "      <th>YearMade</th>\n",
              "      <th>MachineHoursCurrentMeter</th>\n",
              "      <th>UsageBand</th>\n",
              "      <th>saledate</th>\n",
              "      <th>fiModelDesc</th>\n",
              "      <th>fiBaseModel</th>\n",
              "      <th>fiSecondaryDesc</th>\n",
              "      <th>fiModelSeries</th>\n",
              "      <th>fiModelDescriptor</th>\n",
              "      <th>ProductSize</th>\n",
              "      <th>fiProductClassDesc</th>\n",
              "      <th>state</th>\n",
              "      <th>ProductGroup</th>\n",
              "      <th>ProductGroupDesc</th>\n",
              "      <th>Drive_System</th>\n",
              "      <th>Enclosure</th>\n",
              "      <th>Forks</th>\n",
              "      <th>Pad_Type</th>\n",
              "      <th>Ride_Control</th>\n",
              "      <th>Stick</th>\n",
              "      <th>Transmission</th>\n",
              "      <th>Turbocharged</th>\n",
              "      <th>Blade_Extension</th>\n",
              "      <th>Blade_Width</th>\n",
              "      <th>Enclosure_Type</th>\n",
              "      <th>Engine_Horsepower</th>\n",
              "      <th>Hydraulics</th>\n",
              "      <th>Pushblock</th>\n",
              "      <th>Ripper</th>\n",
              "      <th>Scarifier</th>\n",
              "      <th>Tip_Control</th>\n",
              "      <th>Tire_Size</th>\n",
              "      <th>Coupler</th>\n",
              "      <th>Coupler_System</th>\n",
              "      <th>Grouser_Tracks</th>\n",
              "      <th>Hydraulics_Flow</th>\n",
              "      <th>Track_Type</th>\n",
              "      <th>Undercarriage_Pad_Width</th>\n",
              "      <th>Stick_Length</th>\n",
              "      <th>Thumb</th>\n",
              "      <th>Pattern_Changer</th>\n",
              "      <th>Grouser_Type</th>\n",
              "      <th>Backhoe_Mounting</th>\n",
              "      <th>Blade_Type</th>\n",
              "      <th>Travel_Controls</th>\n",
              "      <th>Differential_Type</th>\n",
              "      <th>Steering_Controls</th>\n",
              "    </tr>\n",
              "  </thead>\n",
              "  <tbody>\n",
              "    <tr>\n",
              "      <th>0</th>\n",
              "      <td>1139246</td>\n",
              "      <td>66000</td>\n",
              "      <td>999089</td>\n",
              "      <td>3157</td>\n",
              "      <td>121</td>\n",
              "      <td>3.0</td>\n",
              "      <td>2004</td>\n",
              "      <td>68.0</td>\n",
              "      <td>Low</td>\n",
              "      <td>2006-11-16</td>\n",
              "      <td>521D</td>\n",
              "      <td>521</td>\n",
              "      <td>D</td>\n",
              "      <td>NaN</td>\n",
              "      <td>NaN</td>\n",
              "      <td>NaN</td>\n",
              "      <td>Wheel Loader - 110.0 to 120.0 Horsepower</td>\n",
              "      <td>Alabama</td>\n",
              "      <td>WL</td>\n",
              "      <td>Wheel Loader</td>\n",
              "      <td>NaN</td>\n",
              "      <td>EROPS w AC</td>\n",
              "      <td>None or Unspecified</td>\n",
              "      <td>NaN</td>\n",
              "      <td>None or Unspecified</td>\n",
              "      <td>NaN</td>\n",
              "      <td>NaN</td>\n",
              "      <td>NaN</td>\n",
              "      <td>NaN</td>\n",
              "      <td>NaN</td>\n",
              "      <td>NaN</td>\n",
              "      <td>NaN</td>\n",
              "      <td>2 Valve</td>\n",
              "      <td>NaN</td>\n",
              "      <td>NaN</td>\n",
              "      <td>NaN</td>\n",
              "      <td>NaN</td>\n",
              "      <td>None or Unspecified</td>\n",
              "      <td>None or Unspecified</td>\n",
              "      <td>NaN</td>\n",
              "      <td>NaN</td>\n",
              "      <td>NaN</td>\n",
              "      <td>NaN</td>\n",
              "      <td>NaN</td>\n",
              "      <td>NaN</td>\n",
              "      <td>NaN</td>\n",
              "      <td>NaN</td>\n",
              "      <td>NaN</td>\n",
              "      <td>NaN</td>\n",
              "      <td>NaN</td>\n",
              "      <td>NaN</td>\n",
              "      <td>Standard</td>\n",
              "      <td>Conventional</td>\n",
              "    </tr>\n",
              "    <tr>\n",
              "      <th>1</th>\n",
              "      <td>1139248</td>\n",
              "      <td>57000</td>\n",
              "      <td>117657</td>\n",
              "      <td>77</td>\n",
              "      <td>121</td>\n",
              "      <td>3.0</td>\n",
              "      <td>1996</td>\n",
              "      <td>4640.0</td>\n",
              "      <td>Low</td>\n",
              "      <td>2004-03-26</td>\n",
              "      <td>950FII</td>\n",
              "      <td>950</td>\n",
              "      <td>F</td>\n",
              "      <td>II</td>\n",
              "      <td>NaN</td>\n",
              "      <td>Medium</td>\n",
              "      <td>Wheel Loader - 150.0 to 175.0 Horsepower</td>\n",
              "      <td>North Carolina</td>\n",
              "      <td>WL</td>\n",
              "      <td>Wheel Loader</td>\n",
              "      <td>NaN</td>\n",
              "      <td>EROPS w AC</td>\n",
              "      <td>None or Unspecified</td>\n",
              "      <td>NaN</td>\n",
              "      <td>None or Unspecified</td>\n",
              "      <td>NaN</td>\n",
              "      <td>NaN</td>\n",
              "      <td>NaN</td>\n",
              "      <td>NaN</td>\n",
              "      <td>NaN</td>\n",
              "      <td>NaN</td>\n",
              "      <td>NaN</td>\n",
              "      <td>2 Valve</td>\n",
              "      <td>NaN</td>\n",
              "      <td>NaN</td>\n",
              "      <td>NaN</td>\n",
              "      <td>NaN</td>\n",
              "      <td>23.5</td>\n",
              "      <td>None or Unspecified</td>\n",
              "      <td>NaN</td>\n",
              "      <td>NaN</td>\n",
              "      <td>NaN</td>\n",
              "      <td>NaN</td>\n",
              "      <td>NaN</td>\n",
              "      <td>NaN</td>\n",
              "      <td>NaN</td>\n",
              "      <td>NaN</td>\n",
              "      <td>NaN</td>\n",
              "      <td>NaN</td>\n",
              "      <td>NaN</td>\n",
              "      <td>NaN</td>\n",
              "      <td>Standard</td>\n",
              "      <td>Conventional</td>\n",
              "    </tr>\n",
              "    <tr>\n",
              "      <th>2</th>\n",
              "      <td>1139249</td>\n",
              "      <td>10000</td>\n",
              "      <td>434808</td>\n",
              "      <td>7009</td>\n",
              "      <td>121</td>\n",
              "      <td>3.0</td>\n",
              "      <td>2001</td>\n",
              "      <td>2838.0</td>\n",
              "      <td>High</td>\n",
              "      <td>2004-02-26</td>\n",
              "      <td>226</td>\n",
              "      <td>226</td>\n",
              "      <td>NaN</td>\n",
              "      <td>NaN</td>\n",
              "      <td>NaN</td>\n",
              "      <td>NaN</td>\n",
              "      <td>Skid Steer Loader - 1351.0 to 1601.0 Lb Operat...</td>\n",
              "      <td>New York</td>\n",
              "      <td>SSL</td>\n",
              "      <td>Skid Steer Loaders</td>\n",
              "      <td>NaN</td>\n",
              "      <td>OROPS</td>\n",
              "      <td>None or Unspecified</td>\n",
              "      <td>NaN</td>\n",
              "      <td>NaN</td>\n",
              "      <td>NaN</td>\n",
              "      <td>NaN</td>\n",
              "      <td>NaN</td>\n",
              "      <td>NaN</td>\n",
              "      <td>NaN</td>\n",
              "      <td>NaN</td>\n",
              "      <td>NaN</td>\n",
              "      <td>Auxiliary</td>\n",
              "      <td>NaN</td>\n",
              "      <td>NaN</td>\n",
              "      <td>NaN</td>\n",
              "      <td>NaN</td>\n",
              "      <td>NaN</td>\n",
              "      <td>None or Unspecified</td>\n",
              "      <td>None or Unspecified</td>\n",
              "      <td>None or Unspecified</td>\n",
              "      <td>Standard</td>\n",
              "      <td>NaN</td>\n",
              "      <td>NaN</td>\n",
              "      <td>NaN</td>\n",
              "      <td>NaN</td>\n",
              "      <td>NaN</td>\n",
              "      <td>NaN</td>\n",
              "      <td>NaN</td>\n",
              "      <td>NaN</td>\n",
              "      <td>NaN</td>\n",
              "      <td>NaN</td>\n",
              "      <td>NaN</td>\n",
              "    </tr>\n",
              "    <tr>\n",
              "      <th>3</th>\n",
              "      <td>1139251</td>\n",
              "      <td>38500</td>\n",
              "      <td>1026470</td>\n",
              "      <td>332</td>\n",
              "      <td>121</td>\n",
              "      <td>3.0</td>\n",
              "      <td>2001</td>\n",
              "      <td>3486.0</td>\n",
              "      <td>High</td>\n",
              "      <td>2011-05-19</td>\n",
              "      <td>PC120-6E</td>\n",
              "      <td>PC120</td>\n",
              "      <td>NaN</td>\n",
              "      <td>-6E</td>\n",
              "      <td>NaN</td>\n",
              "      <td>Small</td>\n",
              "      <td>Hydraulic Excavator, Track - 12.0 to 14.0 Metr...</td>\n",
              "      <td>Texas</td>\n",
              "      <td>TEX</td>\n",
              "      <td>Track Excavators</td>\n",
              "      <td>NaN</td>\n",
              "      <td>EROPS w AC</td>\n",
              "      <td>NaN</td>\n",
              "      <td>NaN</td>\n",
              "      <td>NaN</td>\n",
              "      <td>NaN</td>\n",
              "      <td>NaN</td>\n",
              "      <td>NaN</td>\n",
              "      <td>NaN</td>\n",
              "      <td>NaN</td>\n",
              "      <td>NaN</td>\n",
              "      <td>NaN</td>\n",
              "      <td>2 Valve</td>\n",
              "      <td>NaN</td>\n",
              "      <td>NaN</td>\n",
              "      <td>NaN</td>\n",
              "      <td>NaN</td>\n",
              "      <td>NaN</td>\n",
              "      <td>None or Unspecified</td>\n",
              "      <td>NaN</td>\n",
              "      <td>NaN</td>\n",
              "      <td>NaN</td>\n",
              "      <td>NaN</td>\n",
              "      <td>NaN</td>\n",
              "      <td>NaN</td>\n",
              "      <td>NaN</td>\n",
              "      <td>NaN</td>\n",
              "      <td>NaN</td>\n",
              "      <td>NaN</td>\n",
              "      <td>NaN</td>\n",
              "      <td>NaN</td>\n",
              "      <td>NaN</td>\n",
              "      <td>NaN</td>\n",
              "    </tr>\n",
              "    <tr>\n",
              "      <th>4</th>\n",
              "      <td>1139253</td>\n",
              "      <td>11000</td>\n",
              "      <td>1057373</td>\n",
              "      <td>17311</td>\n",
              "      <td>121</td>\n",
              "      <td>3.0</td>\n",
              "      <td>2007</td>\n",
              "      <td>722.0</td>\n",
              "      <td>Medium</td>\n",
              "      <td>2009-07-23</td>\n",
              "      <td>S175</td>\n",
              "      <td>S175</td>\n",
              "      <td>NaN</td>\n",
              "      <td>NaN</td>\n",
              "      <td>NaN</td>\n",
              "      <td>NaN</td>\n",
              "      <td>Skid Steer Loader - 1601.0 to 1751.0 Lb Operat...</td>\n",
              "      <td>New York</td>\n",
              "      <td>SSL</td>\n",
              "      <td>Skid Steer Loaders</td>\n",
              "      <td>NaN</td>\n",
              "      <td>EROPS</td>\n",
              "      <td>None or Unspecified</td>\n",
              "      <td>NaN</td>\n",
              "      <td>NaN</td>\n",
              "      <td>NaN</td>\n",
              "      <td>NaN</td>\n",
              "      <td>NaN</td>\n",
              "      <td>NaN</td>\n",
              "      <td>NaN</td>\n",
              "      <td>NaN</td>\n",
              "      <td>NaN</td>\n",
              "      <td>Auxiliary</td>\n",
              "      <td>NaN</td>\n",
              "      <td>NaN</td>\n",
              "      <td>NaN</td>\n",
              "      <td>NaN</td>\n",
              "      <td>NaN</td>\n",
              "      <td>None or Unspecified</td>\n",
              "      <td>None or Unspecified</td>\n",
              "      <td>None or Unspecified</td>\n",
              "      <td>Standard</td>\n",
              "      <td>NaN</td>\n",
              "      <td>NaN</td>\n",
              "      <td>NaN</td>\n",
              "      <td>NaN</td>\n",
              "      <td>NaN</td>\n",
              "      <td>NaN</td>\n",
              "      <td>NaN</td>\n",
              "      <td>NaN</td>\n",
              "      <td>NaN</td>\n",
              "      <td>NaN</td>\n",
              "      <td>NaN</td>\n",
              "    </tr>\n",
              "  </tbody>\n",
              "</table>\n",
              "</div>"
            ],
            "text/plain": [
              "   SalesID  SalePrice  ...  Differential_Type  Steering_Controls\n",
              "0  1139246      66000  ...           Standard       Conventional\n",
              "1  1139248      57000  ...           Standard       Conventional\n",
              "2  1139249      10000  ...                NaN                NaN\n",
              "3  1139251      38500  ...                NaN                NaN\n",
              "4  1139253      11000  ...                NaN                NaN\n",
              "\n",
              "[5 rows x 53 columns]"
            ]
          },
          "metadata": {
            "tags": []
          },
          "execution_count": 10
        }
      ]
    },
    {
      "cell_type": "markdown",
      "metadata": {
        "hidden": true,
        "id": "LiUx8dyRgyB9"
      },
      "source": [
        "In any sort of data science work, it's **important to look at your data**, to make sure you understand the format, how it's stored, what type of values it holds, etc. Even if you've read descriptions about your data, the actual data may not be what you expect."
      ]
    },
    {
      "cell_type": "code",
      "metadata": {
        "id": "V4Vmaw4mqTdh",
        "outputId": "3c586078-08e9-4210-b01d-2aaf3aaeb1d0",
        "colab": {
          "base_uri": "https://localhost:8080/",
          "height": 34
        }
      },
      "source": [
        "?display"
      ],
      "execution_count": null,
      "outputs": [
        {
          "output_type": "stream",
          "text": [
            "Object `df` not found.\n"
          ],
          "name": "stdout"
        }
      ]
    },
    {
      "cell_type": "code",
      "metadata": {
        "hidden": true,
        "id": "GTVnUlZigyB-"
      },
      "source": [
        "def display_all(df):\n",
        "    with pd.option_context(\"display.max_rows\", 1000, \"display.max_columns\", 1000): \n",
        "        display(df)"
      ],
      "execution_count": 11,
      "outputs": []
    },
    {
      "cell_type": "code",
      "metadata": {
        "hidden": true,
        "scrolled": true,
        "id": "FWPK3_4PgyCA",
        "outputId": "69566d12-af71-4d3f-8123-4e300aa10e00",
        "colab": {
          "base_uri": "https://localhost:8080/",
          "height": 1000
        }
      },
      "source": [
        "display_all(df_raw.tail().T)\n",
        "\n",
        "#predict SalesPrice-> independent variable \n"
      ],
      "execution_count": 12,
      "outputs": [
        {
          "output_type": "display_data",
          "data": {
            "text/html": [
              "<div>\n",
              "<style scoped>\n",
              "    .dataframe tbody tr th:only-of-type {\n",
              "        vertical-align: middle;\n",
              "    }\n",
              "\n",
              "    .dataframe tbody tr th {\n",
              "        vertical-align: top;\n",
              "    }\n",
              "\n",
              "    .dataframe thead th {\n",
              "        text-align: right;\n",
              "    }\n",
              "</style>\n",
              "<table border=\"1\" class=\"dataframe\">\n",
              "  <thead>\n",
              "    <tr style=\"text-align: right;\">\n",
              "      <th></th>\n",
              "      <th>401120</th>\n",
              "      <th>401121</th>\n",
              "      <th>401122</th>\n",
              "      <th>401123</th>\n",
              "      <th>401124</th>\n",
              "    </tr>\n",
              "  </thead>\n",
              "  <tbody>\n",
              "    <tr>\n",
              "      <th>SalesID</th>\n",
              "      <td>6333336</td>\n",
              "      <td>6333337</td>\n",
              "      <td>6333338</td>\n",
              "      <td>6333341</td>\n",
              "      <td>6333342</td>\n",
              "    </tr>\n",
              "    <tr>\n",
              "      <th>SalePrice</th>\n",
              "      <td>10500</td>\n",
              "      <td>11000</td>\n",
              "      <td>11500</td>\n",
              "      <td>9000</td>\n",
              "      <td>7750</td>\n",
              "    </tr>\n",
              "    <tr>\n",
              "      <th>MachineID</th>\n",
              "      <td>1840702</td>\n",
              "      <td>1830472</td>\n",
              "      <td>1887659</td>\n",
              "      <td>1903570</td>\n",
              "      <td>1926965</td>\n",
              "    </tr>\n",
              "    <tr>\n",
              "      <th>ModelID</th>\n",
              "      <td>21439</td>\n",
              "      <td>21439</td>\n",
              "      <td>21439</td>\n",
              "      <td>21435</td>\n",
              "      <td>21435</td>\n",
              "    </tr>\n",
              "    <tr>\n",
              "      <th>datasource</th>\n",
              "      <td>149</td>\n",
              "      <td>149</td>\n",
              "      <td>149</td>\n",
              "      <td>149</td>\n",
              "      <td>149</td>\n",
              "    </tr>\n",
              "    <tr>\n",
              "      <th>auctioneerID</th>\n",
              "      <td>1</td>\n",
              "      <td>1</td>\n",
              "      <td>1</td>\n",
              "      <td>2</td>\n",
              "      <td>2</td>\n",
              "    </tr>\n",
              "    <tr>\n",
              "      <th>YearMade</th>\n",
              "      <td>2005</td>\n",
              "      <td>2005</td>\n",
              "      <td>2005</td>\n",
              "      <td>2005</td>\n",
              "      <td>2005</td>\n",
              "    </tr>\n",
              "    <tr>\n",
              "      <th>MachineHoursCurrentMeter</th>\n",
              "      <td>NaN</td>\n",
              "      <td>NaN</td>\n",
              "      <td>NaN</td>\n",
              "      <td>NaN</td>\n",
              "      <td>NaN</td>\n",
              "    </tr>\n",
              "    <tr>\n",
              "      <th>UsageBand</th>\n",
              "      <td>NaN</td>\n",
              "      <td>NaN</td>\n",
              "      <td>NaN</td>\n",
              "      <td>NaN</td>\n",
              "      <td>NaN</td>\n",
              "    </tr>\n",
              "    <tr>\n",
              "      <th>saledate</th>\n",
              "      <td>2011-11-02 00:00:00</td>\n",
              "      <td>2011-11-02 00:00:00</td>\n",
              "      <td>2011-11-02 00:00:00</td>\n",
              "      <td>2011-10-25 00:00:00</td>\n",
              "      <td>2011-10-25 00:00:00</td>\n",
              "    </tr>\n",
              "    <tr>\n",
              "      <th>fiModelDesc</th>\n",
              "      <td>35NX2</td>\n",
              "      <td>35NX2</td>\n",
              "      <td>35NX2</td>\n",
              "      <td>30NX</td>\n",
              "      <td>30NX</td>\n",
              "    </tr>\n",
              "    <tr>\n",
              "      <th>fiBaseModel</th>\n",
              "      <td>35</td>\n",
              "      <td>35</td>\n",
              "      <td>35</td>\n",
              "      <td>30</td>\n",
              "      <td>30</td>\n",
              "    </tr>\n",
              "    <tr>\n",
              "      <th>fiSecondaryDesc</th>\n",
              "      <td>NX</td>\n",
              "      <td>NX</td>\n",
              "      <td>NX</td>\n",
              "      <td>NX</td>\n",
              "      <td>NX</td>\n",
              "    </tr>\n",
              "    <tr>\n",
              "      <th>fiModelSeries</th>\n",
              "      <td>2</td>\n",
              "      <td>2</td>\n",
              "      <td>2</td>\n",
              "      <td>NaN</td>\n",
              "      <td>NaN</td>\n",
              "    </tr>\n",
              "    <tr>\n",
              "      <th>fiModelDescriptor</th>\n",
              "      <td>NaN</td>\n",
              "      <td>NaN</td>\n",
              "      <td>NaN</td>\n",
              "      <td>NaN</td>\n",
              "      <td>NaN</td>\n",
              "    </tr>\n",
              "    <tr>\n",
              "      <th>ProductSize</th>\n",
              "      <td>Mini</td>\n",
              "      <td>Mini</td>\n",
              "      <td>Mini</td>\n",
              "      <td>Mini</td>\n",
              "      <td>Mini</td>\n",
              "    </tr>\n",
              "    <tr>\n",
              "      <th>fiProductClassDesc</th>\n",
              "      <td>Hydraulic Excavator, Track - 3.0 to 4.0 Metric...</td>\n",
              "      <td>Hydraulic Excavator, Track - 3.0 to 4.0 Metric...</td>\n",
              "      <td>Hydraulic Excavator, Track - 3.0 to 4.0 Metric...</td>\n",
              "      <td>Hydraulic Excavator, Track - 2.0 to 3.0 Metric...</td>\n",
              "      <td>Hydraulic Excavator, Track - 2.0 to 3.0 Metric...</td>\n",
              "    </tr>\n",
              "    <tr>\n",
              "      <th>state</th>\n",
              "      <td>Maryland</td>\n",
              "      <td>Maryland</td>\n",
              "      <td>Maryland</td>\n",
              "      <td>Florida</td>\n",
              "      <td>Florida</td>\n",
              "    </tr>\n",
              "    <tr>\n",
              "      <th>ProductGroup</th>\n",
              "      <td>TEX</td>\n",
              "      <td>TEX</td>\n",
              "      <td>TEX</td>\n",
              "      <td>TEX</td>\n",
              "      <td>TEX</td>\n",
              "    </tr>\n",
              "    <tr>\n",
              "      <th>ProductGroupDesc</th>\n",
              "      <td>Track Excavators</td>\n",
              "      <td>Track Excavators</td>\n",
              "      <td>Track Excavators</td>\n",
              "      <td>Track Excavators</td>\n",
              "      <td>Track Excavators</td>\n",
              "    </tr>\n",
              "    <tr>\n",
              "      <th>Drive_System</th>\n",
              "      <td>NaN</td>\n",
              "      <td>NaN</td>\n",
              "      <td>NaN</td>\n",
              "      <td>NaN</td>\n",
              "      <td>NaN</td>\n",
              "    </tr>\n",
              "    <tr>\n",
              "      <th>Enclosure</th>\n",
              "      <td>EROPS</td>\n",
              "      <td>EROPS</td>\n",
              "      <td>EROPS</td>\n",
              "      <td>EROPS</td>\n",
              "      <td>EROPS</td>\n",
              "    </tr>\n",
              "    <tr>\n",
              "      <th>Forks</th>\n",
              "      <td>NaN</td>\n",
              "      <td>NaN</td>\n",
              "      <td>NaN</td>\n",
              "      <td>NaN</td>\n",
              "      <td>NaN</td>\n",
              "    </tr>\n",
              "    <tr>\n",
              "      <th>Pad_Type</th>\n",
              "      <td>NaN</td>\n",
              "      <td>NaN</td>\n",
              "      <td>NaN</td>\n",
              "      <td>NaN</td>\n",
              "      <td>NaN</td>\n",
              "    </tr>\n",
              "    <tr>\n",
              "      <th>Ride_Control</th>\n",
              "      <td>NaN</td>\n",
              "      <td>NaN</td>\n",
              "      <td>NaN</td>\n",
              "      <td>NaN</td>\n",
              "      <td>NaN</td>\n",
              "    </tr>\n",
              "    <tr>\n",
              "      <th>Stick</th>\n",
              "      <td>NaN</td>\n",
              "      <td>NaN</td>\n",
              "      <td>NaN</td>\n",
              "      <td>NaN</td>\n",
              "      <td>NaN</td>\n",
              "    </tr>\n",
              "    <tr>\n",
              "      <th>Transmission</th>\n",
              "      <td>NaN</td>\n",
              "      <td>NaN</td>\n",
              "      <td>NaN</td>\n",
              "      <td>NaN</td>\n",
              "      <td>NaN</td>\n",
              "    </tr>\n",
              "    <tr>\n",
              "      <th>Turbocharged</th>\n",
              "      <td>NaN</td>\n",
              "      <td>NaN</td>\n",
              "      <td>NaN</td>\n",
              "      <td>NaN</td>\n",
              "      <td>NaN</td>\n",
              "    </tr>\n",
              "    <tr>\n",
              "      <th>Blade_Extension</th>\n",
              "      <td>NaN</td>\n",
              "      <td>NaN</td>\n",
              "      <td>NaN</td>\n",
              "      <td>NaN</td>\n",
              "      <td>NaN</td>\n",
              "    </tr>\n",
              "    <tr>\n",
              "      <th>Blade_Width</th>\n",
              "      <td>NaN</td>\n",
              "      <td>NaN</td>\n",
              "      <td>NaN</td>\n",
              "      <td>NaN</td>\n",
              "      <td>NaN</td>\n",
              "    </tr>\n",
              "    <tr>\n",
              "      <th>Enclosure_Type</th>\n",
              "      <td>NaN</td>\n",
              "      <td>NaN</td>\n",
              "      <td>NaN</td>\n",
              "      <td>NaN</td>\n",
              "      <td>NaN</td>\n",
              "    </tr>\n",
              "    <tr>\n",
              "      <th>Engine_Horsepower</th>\n",
              "      <td>NaN</td>\n",
              "      <td>NaN</td>\n",
              "      <td>NaN</td>\n",
              "      <td>NaN</td>\n",
              "      <td>NaN</td>\n",
              "    </tr>\n",
              "    <tr>\n",
              "      <th>Hydraulics</th>\n",
              "      <td>Auxiliary</td>\n",
              "      <td>Standard</td>\n",
              "      <td>Auxiliary</td>\n",
              "      <td>Standard</td>\n",
              "      <td>Standard</td>\n",
              "    </tr>\n",
              "    <tr>\n",
              "      <th>Pushblock</th>\n",
              "      <td>NaN</td>\n",
              "      <td>NaN</td>\n",
              "      <td>NaN</td>\n",
              "      <td>NaN</td>\n",
              "      <td>NaN</td>\n",
              "    </tr>\n",
              "    <tr>\n",
              "      <th>Ripper</th>\n",
              "      <td>NaN</td>\n",
              "      <td>NaN</td>\n",
              "      <td>NaN</td>\n",
              "      <td>NaN</td>\n",
              "      <td>NaN</td>\n",
              "    </tr>\n",
              "    <tr>\n",
              "      <th>Scarifier</th>\n",
              "      <td>NaN</td>\n",
              "      <td>NaN</td>\n",
              "      <td>NaN</td>\n",
              "      <td>NaN</td>\n",
              "      <td>NaN</td>\n",
              "    </tr>\n",
              "    <tr>\n",
              "      <th>Tip_Control</th>\n",
              "      <td>NaN</td>\n",
              "      <td>NaN</td>\n",
              "      <td>NaN</td>\n",
              "      <td>NaN</td>\n",
              "      <td>NaN</td>\n",
              "    </tr>\n",
              "    <tr>\n",
              "      <th>Tire_Size</th>\n",
              "      <td>NaN</td>\n",
              "      <td>NaN</td>\n",
              "      <td>NaN</td>\n",
              "      <td>NaN</td>\n",
              "      <td>NaN</td>\n",
              "    </tr>\n",
              "    <tr>\n",
              "      <th>Coupler</th>\n",
              "      <td>None or Unspecified</td>\n",
              "      <td>None or Unspecified</td>\n",
              "      <td>None or Unspecified</td>\n",
              "      <td>None or Unspecified</td>\n",
              "      <td>None or Unspecified</td>\n",
              "    </tr>\n",
              "    <tr>\n",
              "      <th>Coupler_System</th>\n",
              "      <td>NaN</td>\n",
              "      <td>NaN</td>\n",
              "      <td>NaN</td>\n",
              "      <td>NaN</td>\n",
              "      <td>NaN</td>\n",
              "    </tr>\n",
              "    <tr>\n",
              "      <th>Grouser_Tracks</th>\n",
              "      <td>NaN</td>\n",
              "      <td>NaN</td>\n",
              "      <td>NaN</td>\n",
              "      <td>NaN</td>\n",
              "      <td>NaN</td>\n",
              "    </tr>\n",
              "    <tr>\n",
              "      <th>Hydraulics_Flow</th>\n",
              "      <td>NaN</td>\n",
              "      <td>NaN</td>\n",
              "      <td>NaN</td>\n",
              "      <td>NaN</td>\n",
              "      <td>NaN</td>\n",
              "    </tr>\n",
              "    <tr>\n",
              "      <th>Track_Type</th>\n",
              "      <td>Steel</td>\n",
              "      <td>Steel</td>\n",
              "      <td>Steel</td>\n",
              "      <td>Steel</td>\n",
              "      <td>Steel</td>\n",
              "    </tr>\n",
              "    <tr>\n",
              "      <th>Undercarriage_Pad_Width</th>\n",
              "      <td>None or Unspecified</td>\n",
              "      <td>None or Unspecified</td>\n",
              "      <td>None or Unspecified</td>\n",
              "      <td>None or Unspecified</td>\n",
              "      <td>None or Unspecified</td>\n",
              "    </tr>\n",
              "    <tr>\n",
              "      <th>Stick_Length</th>\n",
              "      <td>None or Unspecified</td>\n",
              "      <td>None or Unspecified</td>\n",
              "      <td>None or Unspecified</td>\n",
              "      <td>None or Unspecified</td>\n",
              "      <td>None or Unspecified</td>\n",
              "    </tr>\n",
              "    <tr>\n",
              "      <th>Thumb</th>\n",
              "      <td>None or Unspecified</td>\n",
              "      <td>None or Unspecified</td>\n",
              "      <td>None or Unspecified</td>\n",
              "      <td>None or Unspecified</td>\n",
              "      <td>None or Unspecified</td>\n",
              "    </tr>\n",
              "    <tr>\n",
              "      <th>Pattern_Changer</th>\n",
              "      <td>None or Unspecified</td>\n",
              "      <td>None or Unspecified</td>\n",
              "      <td>None or Unspecified</td>\n",
              "      <td>None or Unspecified</td>\n",
              "      <td>None or Unspecified</td>\n",
              "    </tr>\n",
              "    <tr>\n",
              "      <th>Grouser_Type</th>\n",
              "      <td>Double</td>\n",
              "      <td>Double</td>\n",
              "      <td>Double</td>\n",
              "      <td>Double</td>\n",
              "      <td>Double</td>\n",
              "    </tr>\n",
              "    <tr>\n",
              "      <th>Backhoe_Mounting</th>\n",
              "      <td>NaN</td>\n",
              "      <td>NaN</td>\n",
              "      <td>NaN</td>\n",
              "      <td>NaN</td>\n",
              "      <td>NaN</td>\n",
              "    </tr>\n",
              "    <tr>\n",
              "      <th>Blade_Type</th>\n",
              "      <td>NaN</td>\n",
              "      <td>NaN</td>\n",
              "      <td>NaN</td>\n",
              "      <td>NaN</td>\n",
              "      <td>NaN</td>\n",
              "    </tr>\n",
              "    <tr>\n",
              "      <th>Travel_Controls</th>\n",
              "      <td>NaN</td>\n",
              "      <td>NaN</td>\n",
              "      <td>NaN</td>\n",
              "      <td>NaN</td>\n",
              "      <td>NaN</td>\n",
              "    </tr>\n",
              "    <tr>\n",
              "      <th>Differential_Type</th>\n",
              "      <td>NaN</td>\n",
              "      <td>NaN</td>\n",
              "      <td>NaN</td>\n",
              "      <td>NaN</td>\n",
              "      <td>NaN</td>\n",
              "    </tr>\n",
              "    <tr>\n",
              "      <th>Steering_Controls</th>\n",
              "      <td>NaN</td>\n",
              "      <td>NaN</td>\n",
              "      <td>NaN</td>\n",
              "      <td>NaN</td>\n",
              "      <td>NaN</td>\n",
              "    </tr>\n",
              "  </tbody>\n",
              "</table>\n",
              "</div>"
            ],
            "text/plain": [
              "                                                                     401120  \\\n",
              "SalesID                                                             6333336   \n",
              "SalePrice                                                             10500   \n",
              "MachineID                                                           1840702   \n",
              "ModelID                                                               21439   \n",
              "datasource                                                              149   \n",
              "auctioneerID                                                              1   \n",
              "YearMade                                                               2005   \n",
              "MachineHoursCurrentMeter                                                NaN   \n",
              "UsageBand                                                               NaN   \n",
              "saledate                                                2011-11-02 00:00:00   \n",
              "fiModelDesc                                                           35NX2   \n",
              "fiBaseModel                                                              35   \n",
              "fiSecondaryDesc                                                          NX   \n",
              "fiModelSeries                                                             2   \n",
              "fiModelDescriptor                                                       NaN   \n",
              "ProductSize                                                            Mini   \n",
              "fiProductClassDesc        Hydraulic Excavator, Track - 3.0 to 4.0 Metric...   \n",
              "state                                                              Maryland   \n",
              "ProductGroup                                                            TEX   \n",
              "ProductGroupDesc                                           Track Excavators   \n",
              "Drive_System                                                            NaN   \n",
              "Enclosure                                                             EROPS   \n",
              "Forks                                                                   NaN   \n",
              "Pad_Type                                                                NaN   \n",
              "Ride_Control                                                            NaN   \n",
              "Stick                                                                   NaN   \n",
              "Transmission                                                            NaN   \n",
              "Turbocharged                                                            NaN   \n",
              "Blade_Extension                                                         NaN   \n",
              "Blade_Width                                                             NaN   \n",
              "Enclosure_Type                                                          NaN   \n",
              "Engine_Horsepower                                                       NaN   \n",
              "Hydraulics                                                        Auxiliary   \n",
              "Pushblock                                                               NaN   \n",
              "Ripper                                                                  NaN   \n",
              "Scarifier                                                               NaN   \n",
              "Tip_Control                                                             NaN   \n",
              "Tire_Size                                                               NaN   \n",
              "Coupler                                                 None or Unspecified   \n",
              "Coupler_System                                                          NaN   \n",
              "Grouser_Tracks                                                          NaN   \n",
              "Hydraulics_Flow                                                         NaN   \n",
              "Track_Type                                                            Steel   \n",
              "Undercarriage_Pad_Width                                 None or Unspecified   \n",
              "Stick_Length                                            None or Unspecified   \n",
              "Thumb                                                   None or Unspecified   \n",
              "Pattern_Changer                                         None or Unspecified   \n",
              "Grouser_Type                                                         Double   \n",
              "Backhoe_Mounting                                                        NaN   \n",
              "Blade_Type                                                              NaN   \n",
              "Travel_Controls                                                         NaN   \n",
              "Differential_Type                                                       NaN   \n",
              "Steering_Controls                                                       NaN   \n",
              "\n",
              "                                                                     401121  \\\n",
              "SalesID                                                             6333337   \n",
              "SalePrice                                                             11000   \n",
              "MachineID                                                           1830472   \n",
              "ModelID                                                               21439   \n",
              "datasource                                                              149   \n",
              "auctioneerID                                                              1   \n",
              "YearMade                                                               2005   \n",
              "MachineHoursCurrentMeter                                                NaN   \n",
              "UsageBand                                                               NaN   \n",
              "saledate                                                2011-11-02 00:00:00   \n",
              "fiModelDesc                                                           35NX2   \n",
              "fiBaseModel                                                              35   \n",
              "fiSecondaryDesc                                                          NX   \n",
              "fiModelSeries                                                             2   \n",
              "fiModelDescriptor                                                       NaN   \n",
              "ProductSize                                                            Mini   \n",
              "fiProductClassDesc        Hydraulic Excavator, Track - 3.0 to 4.0 Metric...   \n",
              "state                                                              Maryland   \n",
              "ProductGroup                                                            TEX   \n",
              "ProductGroupDesc                                           Track Excavators   \n",
              "Drive_System                                                            NaN   \n",
              "Enclosure                                                             EROPS   \n",
              "Forks                                                                   NaN   \n",
              "Pad_Type                                                                NaN   \n",
              "Ride_Control                                                            NaN   \n",
              "Stick                                                                   NaN   \n",
              "Transmission                                                            NaN   \n",
              "Turbocharged                                                            NaN   \n",
              "Blade_Extension                                                         NaN   \n",
              "Blade_Width                                                             NaN   \n",
              "Enclosure_Type                                                          NaN   \n",
              "Engine_Horsepower                                                       NaN   \n",
              "Hydraulics                                                         Standard   \n",
              "Pushblock                                                               NaN   \n",
              "Ripper                                                                  NaN   \n",
              "Scarifier                                                               NaN   \n",
              "Tip_Control                                                             NaN   \n",
              "Tire_Size                                                               NaN   \n",
              "Coupler                                                 None or Unspecified   \n",
              "Coupler_System                                                          NaN   \n",
              "Grouser_Tracks                                                          NaN   \n",
              "Hydraulics_Flow                                                         NaN   \n",
              "Track_Type                                                            Steel   \n",
              "Undercarriage_Pad_Width                                 None or Unspecified   \n",
              "Stick_Length                                            None or Unspecified   \n",
              "Thumb                                                   None or Unspecified   \n",
              "Pattern_Changer                                         None or Unspecified   \n",
              "Grouser_Type                                                         Double   \n",
              "Backhoe_Mounting                                                        NaN   \n",
              "Blade_Type                                                              NaN   \n",
              "Travel_Controls                                                         NaN   \n",
              "Differential_Type                                                       NaN   \n",
              "Steering_Controls                                                       NaN   \n",
              "\n",
              "                                                                     401122  \\\n",
              "SalesID                                                             6333338   \n",
              "SalePrice                                                             11500   \n",
              "MachineID                                                           1887659   \n",
              "ModelID                                                               21439   \n",
              "datasource                                                              149   \n",
              "auctioneerID                                                              1   \n",
              "YearMade                                                               2005   \n",
              "MachineHoursCurrentMeter                                                NaN   \n",
              "UsageBand                                                               NaN   \n",
              "saledate                                                2011-11-02 00:00:00   \n",
              "fiModelDesc                                                           35NX2   \n",
              "fiBaseModel                                                              35   \n",
              "fiSecondaryDesc                                                          NX   \n",
              "fiModelSeries                                                             2   \n",
              "fiModelDescriptor                                                       NaN   \n",
              "ProductSize                                                            Mini   \n",
              "fiProductClassDesc        Hydraulic Excavator, Track - 3.0 to 4.0 Metric...   \n",
              "state                                                              Maryland   \n",
              "ProductGroup                                                            TEX   \n",
              "ProductGroupDesc                                           Track Excavators   \n",
              "Drive_System                                                            NaN   \n",
              "Enclosure                                                             EROPS   \n",
              "Forks                                                                   NaN   \n",
              "Pad_Type                                                                NaN   \n",
              "Ride_Control                                                            NaN   \n",
              "Stick                                                                   NaN   \n",
              "Transmission                                                            NaN   \n",
              "Turbocharged                                                            NaN   \n",
              "Blade_Extension                                                         NaN   \n",
              "Blade_Width                                                             NaN   \n",
              "Enclosure_Type                                                          NaN   \n",
              "Engine_Horsepower                                                       NaN   \n",
              "Hydraulics                                                        Auxiliary   \n",
              "Pushblock                                                               NaN   \n",
              "Ripper                                                                  NaN   \n",
              "Scarifier                                                               NaN   \n",
              "Tip_Control                                                             NaN   \n",
              "Tire_Size                                                               NaN   \n",
              "Coupler                                                 None or Unspecified   \n",
              "Coupler_System                                                          NaN   \n",
              "Grouser_Tracks                                                          NaN   \n",
              "Hydraulics_Flow                                                         NaN   \n",
              "Track_Type                                                            Steel   \n",
              "Undercarriage_Pad_Width                                 None or Unspecified   \n",
              "Stick_Length                                            None or Unspecified   \n",
              "Thumb                                                   None or Unspecified   \n",
              "Pattern_Changer                                         None or Unspecified   \n",
              "Grouser_Type                                                         Double   \n",
              "Backhoe_Mounting                                                        NaN   \n",
              "Blade_Type                                                              NaN   \n",
              "Travel_Controls                                                         NaN   \n",
              "Differential_Type                                                       NaN   \n",
              "Steering_Controls                                                       NaN   \n",
              "\n",
              "                                                                     401123  \\\n",
              "SalesID                                                             6333341   \n",
              "SalePrice                                                              9000   \n",
              "MachineID                                                           1903570   \n",
              "ModelID                                                               21435   \n",
              "datasource                                                              149   \n",
              "auctioneerID                                                              2   \n",
              "YearMade                                                               2005   \n",
              "MachineHoursCurrentMeter                                                NaN   \n",
              "UsageBand                                                               NaN   \n",
              "saledate                                                2011-10-25 00:00:00   \n",
              "fiModelDesc                                                            30NX   \n",
              "fiBaseModel                                                              30   \n",
              "fiSecondaryDesc                                                          NX   \n",
              "fiModelSeries                                                           NaN   \n",
              "fiModelDescriptor                                                       NaN   \n",
              "ProductSize                                                            Mini   \n",
              "fiProductClassDesc        Hydraulic Excavator, Track - 2.0 to 3.0 Metric...   \n",
              "state                                                               Florida   \n",
              "ProductGroup                                                            TEX   \n",
              "ProductGroupDesc                                           Track Excavators   \n",
              "Drive_System                                                            NaN   \n",
              "Enclosure                                                             EROPS   \n",
              "Forks                                                                   NaN   \n",
              "Pad_Type                                                                NaN   \n",
              "Ride_Control                                                            NaN   \n",
              "Stick                                                                   NaN   \n",
              "Transmission                                                            NaN   \n",
              "Turbocharged                                                            NaN   \n",
              "Blade_Extension                                                         NaN   \n",
              "Blade_Width                                                             NaN   \n",
              "Enclosure_Type                                                          NaN   \n",
              "Engine_Horsepower                                                       NaN   \n",
              "Hydraulics                                                         Standard   \n",
              "Pushblock                                                               NaN   \n",
              "Ripper                                                                  NaN   \n",
              "Scarifier                                                               NaN   \n",
              "Tip_Control                                                             NaN   \n",
              "Tire_Size                                                               NaN   \n",
              "Coupler                                                 None or Unspecified   \n",
              "Coupler_System                                                          NaN   \n",
              "Grouser_Tracks                                                          NaN   \n",
              "Hydraulics_Flow                                                         NaN   \n",
              "Track_Type                                                            Steel   \n",
              "Undercarriage_Pad_Width                                 None or Unspecified   \n",
              "Stick_Length                                            None or Unspecified   \n",
              "Thumb                                                   None or Unspecified   \n",
              "Pattern_Changer                                         None or Unspecified   \n",
              "Grouser_Type                                                         Double   \n",
              "Backhoe_Mounting                                                        NaN   \n",
              "Blade_Type                                                              NaN   \n",
              "Travel_Controls                                                         NaN   \n",
              "Differential_Type                                                       NaN   \n",
              "Steering_Controls                                                       NaN   \n",
              "\n",
              "                                                                     401124  \n",
              "SalesID                                                             6333342  \n",
              "SalePrice                                                              7750  \n",
              "MachineID                                                           1926965  \n",
              "ModelID                                                               21435  \n",
              "datasource                                                              149  \n",
              "auctioneerID                                                              2  \n",
              "YearMade                                                               2005  \n",
              "MachineHoursCurrentMeter                                                NaN  \n",
              "UsageBand                                                               NaN  \n",
              "saledate                                                2011-10-25 00:00:00  \n",
              "fiModelDesc                                                            30NX  \n",
              "fiBaseModel                                                              30  \n",
              "fiSecondaryDesc                                                          NX  \n",
              "fiModelSeries                                                           NaN  \n",
              "fiModelDescriptor                                                       NaN  \n",
              "ProductSize                                                            Mini  \n",
              "fiProductClassDesc        Hydraulic Excavator, Track - 2.0 to 3.0 Metric...  \n",
              "state                                                               Florida  \n",
              "ProductGroup                                                            TEX  \n",
              "ProductGroupDesc                                           Track Excavators  \n",
              "Drive_System                                                            NaN  \n",
              "Enclosure                                                             EROPS  \n",
              "Forks                                                                   NaN  \n",
              "Pad_Type                                                                NaN  \n",
              "Ride_Control                                                            NaN  \n",
              "Stick                                                                   NaN  \n",
              "Transmission                                                            NaN  \n",
              "Turbocharged                                                            NaN  \n",
              "Blade_Extension                                                         NaN  \n",
              "Blade_Width                                                             NaN  \n",
              "Enclosure_Type                                                          NaN  \n",
              "Engine_Horsepower                                                       NaN  \n",
              "Hydraulics                                                         Standard  \n",
              "Pushblock                                                               NaN  \n",
              "Ripper                                                                  NaN  \n",
              "Scarifier                                                               NaN  \n",
              "Tip_Control                                                             NaN  \n",
              "Tire_Size                                                               NaN  \n",
              "Coupler                                                 None or Unspecified  \n",
              "Coupler_System                                                          NaN  \n",
              "Grouser_Tracks                                                          NaN  \n",
              "Hydraulics_Flow                                                         NaN  \n",
              "Track_Type                                                            Steel  \n",
              "Undercarriage_Pad_Width                                 None or Unspecified  \n",
              "Stick_Length                                            None or Unspecified  \n",
              "Thumb                                                   None or Unspecified  \n",
              "Pattern_Changer                                         None or Unspecified  \n",
              "Grouser_Type                                                         Double  \n",
              "Backhoe_Mounting                                                        NaN  \n",
              "Blade_Type                                                              NaN  \n",
              "Travel_Controls                                                         NaN  \n",
              "Differential_Type                                                       NaN  \n",
              "Steering_Controls                                                       NaN  "
            ]
          },
          "metadata": {
            "tags": []
          }
        }
      ]
    },
    {
      "cell_type": "code",
      "metadata": {
        "hidden": true,
        "scrolled": true,
        "id": "HpxHMXV9gyCC",
        "outputId": "38ca8f30-e84b-41df-ed3e-5216d0f9bee1"
      },
      "source": [
        "display_all(df_raw.describe(include='all').T)"
      ],
      "execution_count": null,
      "outputs": [
        {
          "output_type": "display_data",
          "data": {
            "text/html": [
              "<div>\n",
              "<style>\n",
              "    .dataframe thead tr:only-child th {\n",
              "        text-align: right;\n",
              "    }\n",
              "\n",
              "    .dataframe thead th {\n",
              "        text-align: left;\n",
              "    }\n",
              "\n",
              "    .dataframe tbody tr th {\n",
              "        vertical-align: top;\n",
              "    }\n",
              "</style>\n",
              "<table border=\"1\" class=\"dataframe\">\n",
              "  <thead>\n",
              "    <tr style=\"text-align: right;\">\n",
              "      <th></th>\n",
              "      <th>count</th>\n",
              "      <th>unique</th>\n",
              "      <th>top</th>\n",
              "      <th>freq</th>\n",
              "      <th>first</th>\n",
              "      <th>last</th>\n",
              "      <th>mean</th>\n",
              "      <th>std</th>\n",
              "      <th>min</th>\n",
              "      <th>25%</th>\n",
              "      <th>50%</th>\n",
              "      <th>75%</th>\n",
              "      <th>max</th>\n",
              "    </tr>\n",
              "  </thead>\n",
              "  <tbody>\n",
              "    <tr>\n",
              "      <th>SalesID</th>\n",
              "      <td>401125</td>\n",
              "      <td>NaN</td>\n",
              "      <td>NaN</td>\n",
              "      <td>NaN</td>\n",
              "      <td>NaN</td>\n",
              "      <td>NaN</td>\n",
              "      <td>1.91971e+06</td>\n",
              "      <td>909021</td>\n",
              "      <td>1.13925e+06</td>\n",
              "      <td>1.41837e+06</td>\n",
              "      <td>1.63942e+06</td>\n",
              "      <td>2.24271e+06</td>\n",
              "      <td>6.33334e+06</td>\n",
              "    </tr>\n",
              "    <tr>\n",
              "      <th>SalePrice</th>\n",
              "      <td>401125</td>\n",
              "      <td>NaN</td>\n",
              "      <td>NaN</td>\n",
              "      <td>NaN</td>\n",
              "      <td>NaN</td>\n",
              "      <td>NaN</td>\n",
              "      <td>31099.7</td>\n",
              "      <td>23036.9</td>\n",
              "      <td>4750</td>\n",
              "      <td>14500</td>\n",
              "      <td>24000</td>\n",
              "      <td>40000</td>\n",
              "      <td>142000</td>\n",
              "    </tr>\n",
              "    <tr>\n",
              "      <th>MachineID</th>\n",
              "      <td>401125</td>\n",
              "      <td>NaN</td>\n",
              "      <td>NaN</td>\n",
              "      <td>NaN</td>\n",
              "      <td>NaN</td>\n",
              "      <td>NaN</td>\n",
              "      <td>1.2179e+06</td>\n",
              "      <td>440992</td>\n",
              "      <td>0</td>\n",
              "      <td>1.0887e+06</td>\n",
              "      <td>1.27949e+06</td>\n",
              "      <td>1.46807e+06</td>\n",
              "      <td>2.48633e+06</td>\n",
              "    </tr>\n",
              "    <tr>\n",
              "      <th>ModelID</th>\n",
              "      <td>401125</td>\n",
              "      <td>NaN</td>\n",
              "      <td>NaN</td>\n",
              "      <td>NaN</td>\n",
              "      <td>NaN</td>\n",
              "      <td>NaN</td>\n",
              "      <td>6889.7</td>\n",
              "      <td>6221.78</td>\n",
              "      <td>28</td>\n",
              "      <td>3259</td>\n",
              "      <td>4604</td>\n",
              "      <td>8724</td>\n",
              "      <td>37198</td>\n",
              "    </tr>\n",
              "    <tr>\n",
              "      <th>datasource</th>\n",
              "      <td>401125</td>\n",
              "      <td>NaN</td>\n",
              "      <td>NaN</td>\n",
              "      <td>NaN</td>\n",
              "      <td>NaN</td>\n",
              "      <td>NaN</td>\n",
              "      <td>134.666</td>\n",
              "      <td>8.96224</td>\n",
              "      <td>121</td>\n",
              "      <td>132</td>\n",
              "      <td>132</td>\n",
              "      <td>136</td>\n",
              "      <td>172</td>\n",
              "    </tr>\n",
              "    <tr>\n",
              "      <th>auctioneerID</th>\n",
              "      <td>380989</td>\n",
              "      <td>NaN</td>\n",
              "      <td>NaN</td>\n",
              "      <td>NaN</td>\n",
              "      <td>NaN</td>\n",
              "      <td>NaN</td>\n",
              "      <td>6.55604</td>\n",
              "      <td>16.9768</td>\n",
              "      <td>0</td>\n",
              "      <td>1</td>\n",
              "      <td>2</td>\n",
              "      <td>4</td>\n",
              "      <td>99</td>\n",
              "    </tr>\n",
              "    <tr>\n",
              "      <th>YearMade</th>\n",
              "      <td>401125</td>\n",
              "      <td>NaN</td>\n",
              "      <td>NaN</td>\n",
              "      <td>NaN</td>\n",
              "      <td>NaN</td>\n",
              "      <td>NaN</td>\n",
              "      <td>1899.16</td>\n",
              "      <td>291.797</td>\n",
              "      <td>1000</td>\n",
              "      <td>1985</td>\n",
              "      <td>1995</td>\n",
              "      <td>2000</td>\n",
              "      <td>2013</td>\n",
              "    </tr>\n",
              "    <tr>\n",
              "      <th>MachineHoursCurrentMeter</th>\n",
              "      <td>142765</td>\n",
              "      <td>NaN</td>\n",
              "      <td>NaN</td>\n",
              "      <td>NaN</td>\n",
              "      <td>NaN</td>\n",
              "      <td>NaN</td>\n",
              "      <td>3457.96</td>\n",
              "      <td>27590.3</td>\n",
              "      <td>0</td>\n",
              "      <td>0</td>\n",
              "      <td>0</td>\n",
              "      <td>3025</td>\n",
              "      <td>2.4833e+06</td>\n",
              "    </tr>\n",
              "    <tr>\n",
              "      <th>UsageBand</th>\n",
              "      <td>69639</td>\n",
              "      <td>3</td>\n",
              "      <td>Medium</td>\n",
              "      <td>33985</td>\n",
              "      <td>NaN</td>\n",
              "      <td>NaN</td>\n",
              "      <td>NaN</td>\n",
              "      <td>NaN</td>\n",
              "      <td>NaN</td>\n",
              "      <td>NaN</td>\n",
              "      <td>NaN</td>\n",
              "      <td>NaN</td>\n",
              "      <td>NaN</td>\n",
              "    </tr>\n",
              "    <tr>\n",
              "      <th>saledate</th>\n",
              "      <td>401125</td>\n",
              "      <td>3919</td>\n",
              "      <td>2009-02-16 00:00:00</td>\n",
              "      <td>1932</td>\n",
              "      <td>1989-01-17 00:00:00</td>\n",
              "      <td>2011-12-30 00:00:00</td>\n",
              "      <td>NaN</td>\n",
              "      <td>NaN</td>\n",
              "      <td>NaN</td>\n",
              "      <td>NaN</td>\n",
              "      <td>NaN</td>\n",
              "      <td>NaN</td>\n",
              "      <td>NaN</td>\n",
              "    </tr>\n",
              "    <tr>\n",
              "      <th>fiModelDesc</th>\n",
              "      <td>401125</td>\n",
              "      <td>4999</td>\n",
              "      <td>310G</td>\n",
              "      <td>5039</td>\n",
              "      <td>NaN</td>\n",
              "      <td>NaN</td>\n",
              "      <td>NaN</td>\n",
              "      <td>NaN</td>\n",
              "      <td>NaN</td>\n",
              "      <td>NaN</td>\n",
              "      <td>NaN</td>\n",
              "      <td>NaN</td>\n",
              "      <td>NaN</td>\n",
              "    </tr>\n",
              "    <tr>\n",
              "      <th>fiBaseModel</th>\n",
              "      <td>401125</td>\n",
              "      <td>1950</td>\n",
              "      <td>580</td>\n",
              "      <td>19798</td>\n",
              "      <td>NaN</td>\n",
              "      <td>NaN</td>\n",
              "      <td>NaN</td>\n",
              "      <td>NaN</td>\n",
              "      <td>NaN</td>\n",
              "      <td>NaN</td>\n",
              "      <td>NaN</td>\n",
              "      <td>NaN</td>\n",
              "      <td>NaN</td>\n",
              "    </tr>\n",
              "    <tr>\n",
              "      <th>fiSecondaryDesc</th>\n",
              "      <td>263934</td>\n",
              "      <td>175</td>\n",
              "      <td>C</td>\n",
              "      <td>43235</td>\n",
              "      <td>NaN</td>\n",
              "      <td>NaN</td>\n",
              "      <td>NaN</td>\n",
              "      <td>NaN</td>\n",
              "      <td>NaN</td>\n",
              "      <td>NaN</td>\n",
              "      <td>NaN</td>\n",
              "      <td>NaN</td>\n",
              "      <td>NaN</td>\n",
              "    </tr>\n",
              "    <tr>\n",
              "      <th>fiModelSeries</th>\n",
              "      <td>56908</td>\n",
              "      <td>122</td>\n",
              "      <td>II</td>\n",
              "      <td>13202</td>\n",
              "      <td>NaN</td>\n",
              "      <td>NaN</td>\n",
              "      <td>NaN</td>\n",
              "      <td>NaN</td>\n",
              "      <td>NaN</td>\n",
              "      <td>NaN</td>\n",
              "      <td>NaN</td>\n",
              "      <td>NaN</td>\n",
              "      <td>NaN</td>\n",
              "    </tr>\n",
              "    <tr>\n",
              "      <th>fiModelDescriptor</th>\n",
              "      <td>71919</td>\n",
              "      <td>139</td>\n",
              "      <td>L</td>\n",
              "      <td>15875</td>\n",
              "      <td>NaN</td>\n",
              "      <td>NaN</td>\n",
              "      <td>NaN</td>\n",
              "      <td>NaN</td>\n",
              "      <td>NaN</td>\n",
              "      <td>NaN</td>\n",
              "      <td>NaN</td>\n",
              "      <td>NaN</td>\n",
              "      <td>NaN</td>\n",
              "    </tr>\n",
              "    <tr>\n",
              "      <th>ProductSize</th>\n",
              "      <td>190350</td>\n",
              "      <td>6</td>\n",
              "      <td>Medium</td>\n",
              "      <td>62274</td>\n",
              "      <td>NaN</td>\n",
              "      <td>NaN</td>\n",
              "      <td>NaN</td>\n",
              "      <td>NaN</td>\n",
              "      <td>NaN</td>\n",
              "      <td>NaN</td>\n",
              "      <td>NaN</td>\n",
              "      <td>NaN</td>\n",
              "      <td>NaN</td>\n",
              "    </tr>\n",
              "    <tr>\n",
              "      <th>fiProductClassDesc</th>\n",
              "      <td>401125</td>\n",
              "      <td>74</td>\n",
              "      <td>Backhoe Loader - 14.0 to 15.0 Ft Standard Digg...</td>\n",
              "      <td>56166</td>\n",
              "      <td>NaN</td>\n",
              "      <td>NaN</td>\n",
              "      <td>NaN</td>\n",
              "      <td>NaN</td>\n",
              "      <td>NaN</td>\n",
              "      <td>NaN</td>\n",
              "      <td>NaN</td>\n",
              "      <td>NaN</td>\n",
              "      <td>NaN</td>\n",
              "    </tr>\n",
              "    <tr>\n",
              "      <th>state</th>\n",
              "      <td>401125</td>\n",
              "      <td>53</td>\n",
              "      <td>Florida</td>\n",
              "      <td>63944</td>\n",
              "      <td>NaN</td>\n",
              "      <td>NaN</td>\n",
              "      <td>NaN</td>\n",
              "      <td>NaN</td>\n",
              "      <td>NaN</td>\n",
              "      <td>NaN</td>\n",
              "      <td>NaN</td>\n",
              "      <td>NaN</td>\n",
              "      <td>NaN</td>\n",
              "    </tr>\n",
              "    <tr>\n",
              "      <th>ProductGroup</th>\n",
              "      <td>401125</td>\n",
              "      <td>6</td>\n",
              "      <td>TEX</td>\n",
              "      <td>101167</td>\n",
              "      <td>NaN</td>\n",
              "      <td>NaN</td>\n",
              "      <td>NaN</td>\n",
              "      <td>NaN</td>\n",
              "      <td>NaN</td>\n",
              "      <td>NaN</td>\n",
              "      <td>NaN</td>\n",
              "      <td>NaN</td>\n",
              "      <td>NaN</td>\n",
              "    </tr>\n",
              "    <tr>\n",
              "      <th>ProductGroupDesc</th>\n",
              "      <td>401125</td>\n",
              "      <td>6</td>\n",
              "      <td>Track Excavators</td>\n",
              "      <td>101167</td>\n",
              "      <td>NaN</td>\n",
              "      <td>NaN</td>\n",
              "      <td>NaN</td>\n",
              "      <td>NaN</td>\n",
              "      <td>NaN</td>\n",
              "      <td>NaN</td>\n",
              "      <td>NaN</td>\n",
              "      <td>NaN</td>\n",
              "      <td>NaN</td>\n",
              "    </tr>\n",
              "    <tr>\n",
              "      <th>Drive_System</th>\n",
              "      <td>104361</td>\n",
              "      <td>4</td>\n",
              "      <td>Two Wheel Drive</td>\n",
              "      <td>46139</td>\n",
              "      <td>NaN</td>\n",
              "      <td>NaN</td>\n",
              "      <td>NaN</td>\n",
              "      <td>NaN</td>\n",
              "      <td>NaN</td>\n",
              "      <td>NaN</td>\n",
              "      <td>NaN</td>\n",
              "      <td>NaN</td>\n",
              "      <td>NaN</td>\n",
              "    </tr>\n",
              "    <tr>\n",
              "      <th>Enclosure</th>\n",
              "      <td>400800</td>\n",
              "      <td>6</td>\n",
              "      <td>OROPS</td>\n",
              "      <td>173932</td>\n",
              "      <td>NaN</td>\n",
              "      <td>NaN</td>\n",
              "      <td>NaN</td>\n",
              "      <td>NaN</td>\n",
              "      <td>NaN</td>\n",
              "      <td>NaN</td>\n",
              "      <td>NaN</td>\n",
              "      <td>NaN</td>\n",
              "      <td>NaN</td>\n",
              "    </tr>\n",
              "    <tr>\n",
              "      <th>Forks</th>\n",
              "      <td>192077</td>\n",
              "      <td>2</td>\n",
              "      <td>None or Unspecified</td>\n",
              "      <td>178300</td>\n",
              "      <td>NaN</td>\n",
              "      <td>NaN</td>\n",
              "      <td>NaN</td>\n",
              "      <td>NaN</td>\n",
              "      <td>NaN</td>\n",
              "      <td>NaN</td>\n",
              "      <td>NaN</td>\n",
              "      <td>NaN</td>\n",
              "      <td>NaN</td>\n",
              "    </tr>\n",
              "    <tr>\n",
              "      <th>Pad_Type</th>\n",
              "      <td>79134</td>\n",
              "      <td>4</td>\n",
              "      <td>None or Unspecified</td>\n",
              "      <td>70614</td>\n",
              "      <td>NaN</td>\n",
              "      <td>NaN</td>\n",
              "      <td>NaN</td>\n",
              "      <td>NaN</td>\n",
              "      <td>NaN</td>\n",
              "      <td>NaN</td>\n",
              "      <td>NaN</td>\n",
              "      <td>NaN</td>\n",
              "      <td>NaN</td>\n",
              "    </tr>\n",
              "    <tr>\n",
              "      <th>Ride_Control</th>\n",
              "      <td>148606</td>\n",
              "      <td>3</td>\n",
              "      <td>No</td>\n",
              "      <td>77685</td>\n",
              "      <td>NaN</td>\n",
              "      <td>NaN</td>\n",
              "      <td>NaN</td>\n",
              "      <td>NaN</td>\n",
              "      <td>NaN</td>\n",
              "      <td>NaN</td>\n",
              "      <td>NaN</td>\n",
              "      <td>NaN</td>\n",
              "      <td>NaN</td>\n",
              "    </tr>\n",
              "    <tr>\n",
              "      <th>Stick</th>\n",
              "      <td>79134</td>\n",
              "      <td>2</td>\n",
              "      <td>Standard</td>\n",
              "      <td>48829</td>\n",
              "      <td>NaN</td>\n",
              "      <td>NaN</td>\n",
              "      <td>NaN</td>\n",
              "      <td>NaN</td>\n",
              "      <td>NaN</td>\n",
              "      <td>NaN</td>\n",
              "      <td>NaN</td>\n",
              "      <td>NaN</td>\n",
              "      <td>NaN</td>\n",
              "    </tr>\n",
              "    <tr>\n",
              "      <th>Transmission</th>\n",
              "      <td>183230</td>\n",
              "      <td>8</td>\n",
              "      <td>Standard</td>\n",
              "      <td>140328</td>\n",
              "      <td>NaN</td>\n",
              "      <td>NaN</td>\n",
              "      <td>NaN</td>\n",
              "      <td>NaN</td>\n",
              "      <td>NaN</td>\n",
              "      <td>NaN</td>\n",
              "      <td>NaN</td>\n",
              "      <td>NaN</td>\n",
              "      <td>NaN</td>\n",
              "    </tr>\n",
              "    <tr>\n",
              "      <th>Turbocharged</th>\n",
              "      <td>79134</td>\n",
              "      <td>2</td>\n",
              "      <td>None or Unspecified</td>\n",
              "      <td>75211</td>\n",
              "      <td>NaN</td>\n",
              "      <td>NaN</td>\n",
              "      <td>NaN</td>\n",
              "      <td>NaN</td>\n",
              "      <td>NaN</td>\n",
              "      <td>NaN</td>\n",
              "      <td>NaN</td>\n",
              "      <td>NaN</td>\n",
              "      <td>NaN</td>\n",
              "    </tr>\n",
              "    <tr>\n",
              "      <th>Blade_Extension</th>\n",
              "      <td>25219</td>\n",
              "      <td>2</td>\n",
              "      <td>None or Unspecified</td>\n",
              "      <td>24692</td>\n",
              "      <td>NaN</td>\n",
              "      <td>NaN</td>\n",
              "      <td>NaN</td>\n",
              "      <td>NaN</td>\n",
              "      <td>NaN</td>\n",
              "      <td>NaN</td>\n",
              "      <td>NaN</td>\n",
              "      <td>NaN</td>\n",
              "      <td>NaN</td>\n",
              "    </tr>\n",
              "    <tr>\n",
              "      <th>Blade_Width</th>\n",
              "      <td>25219</td>\n",
              "      <td>6</td>\n",
              "      <td>14'</td>\n",
              "      <td>9615</td>\n",
              "      <td>NaN</td>\n",
              "      <td>NaN</td>\n",
              "      <td>NaN</td>\n",
              "      <td>NaN</td>\n",
              "      <td>NaN</td>\n",
              "      <td>NaN</td>\n",
              "      <td>NaN</td>\n",
              "      <td>NaN</td>\n",
              "      <td>NaN</td>\n",
              "    </tr>\n",
              "    <tr>\n",
              "      <th>Enclosure_Type</th>\n",
              "      <td>25219</td>\n",
              "      <td>3</td>\n",
              "      <td>None or Unspecified</td>\n",
              "      <td>21923</td>\n",
              "      <td>NaN</td>\n",
              "      <td>NaN</td>\n",
              "      <td>NaN</td>\n",
              "      <td>NaN</td>\n",
              "      <td>NaN</td>\n",
              "      <td>NaN</td>\n",
              "      <td>NaN</td>\n",
              "      <td>NaN</td>\n",
              "      <td>NaN</td>\n",
              "    </tr>\n",
              "    <tr>\n",
              "      <th>Engine_Horsepower</th>\n",
              "      <td>25219</td>\n",
              "      <td>2</td>\n",
              "      <td>No</td>\n",
              "      <td>23937</td>\n",
              "      <td>NaN</td>\n",
              "      <td>NaN</td>\n",
              "      <td>NaN</td>\n",
              "      <td>NaN</td>\n",
              "      <td>NaN</td>\n",
              "      <td>NaN</td>\n",
              "      <td>NaN</td>\n",
              "      <td>NaN</td>\n",
              "      <td>NaN</td>\n",
              "    </tr>\n",
              "    <tr>\n",
              "      <th>Hydraulics</th>\n",
              "      <td>320570</td>\n",
              "      <td>12</td>\n",
              "      <td>2 Valve</td>\n",
              "      <td>141404</td>\n",
              "      <td>NaN</td>\n",
              "      <td>NaN</td>\n",
              "      <td>NaN</td>\n",
              "      <td>NaN</td>\n",
              "      <td>NaN</td>\n",
              "      <td>NaN</td>\n",
              "      <td>NaN</td>\n",
              "      <td>NaN</td>\n",
              "      <td>NaN</td>\n",
              "    </tr>\n",
              "    <tr>\n",
              "      <th>Pushblock</th>\n",
              "      <td>25219</td>\n",
              "      <td>2</td>\n",
              "      <td>None or Unspecified</td>\n",
              "      <td>19463</td>\n",
              "      <td>NaN</td>\n",
              "      <td>NaN</td>\n",
              "      <td>NaN</td>\n",
              "      <td>NaN</td>\n",
              "      <td>NaN</td>\n",
              "      <td>NaN</td>\n",
              "      <td>NaN</td>\n",
              "      <td>NaN</td>\n",
              "      <td>NaN</td>\n",
              "    </tr>\n",
              "    <tr>\n",
              "      <th>Ripper</th>\n",
              "      <td>104137</td>\n",
              "      <td>4</td>\n",
              "      <td>None or Unspecified</td>\n",
              "      <td>83452</td>\n",
              "      <td>NaN</td>\n",
              "      <td>NaN</td>\n",
              "      <td>NaN</td>\n",
              "      <td>NaN</td>\n",
              "      <td>NaN</td>\n",
              "      <td>NaN</td>\n",
              "      <td>NaN</td>\n",
              "      <td>NaN</td>\n",
              "      <td>NaN</td>\n",
              "    </tr>\n",
              "    <tr>\n",
              "      <th>Scarifier</th>\n",
              "      <td>25230</td>\n",
              "      <td>2</td>\n",
              "      <td>None or Unspecified</td>\n",
              "      <td>12719</td>\n",
              "      <td>NaN</td>\n",
              "      <td>NaN</td>\n",
              "      <td>NaN</td>\n",
              "      <td>NaN</td>\n",
              "      <td>NaN</td>\n",
              "      <td>NaN</td>\n",
              "      <td>NaN</td>\n",
              "      <td>NaN</td>\n",
              "      <td>NaN</td>\n",
              "    </tr>\n",
              "    <tr>\n",
              "      <th>Tip_Control</th>\n",
              "      <td>25219</td>\n",
              "      <td>3</td>\n",
              "      <td>None or Unspecified</td>\n",
              "      <td>16207</td>\n",
              "      <td>NaN</td>\n",
              "      <td>NaN</td>\n",
              "      <td>NaN</td>\n",
              "      <td>NaN</td>\n",
              "      <td>NaN</td>\n",
              "      <td>NaN</td>\n",
              "      <td>NaN</td>\n",
              "      <td>NaN</td>\n",
              "      <td>NaN</td>\n",
              "    </tr>\n",
              "    <tr>\n",
              "      <th>Tire_Size</th>\n",
              "      <td>94718</td>\n",
              "      <td>17</td>\n",
              "      <td>None or Unspecified</td>\n",
              "      <td>46339</td>\n",
              "      <td>NaN</td>\n",
              "      <td>NaN</td>\n",
              "      <td>NaN</td>\n",
              "      <td>NaN</td>\n",
              "      <td>NaN</td>\n",
              "      <td>NaN</td>\n",
              "      <td>NaN</td>\n",
              "      <td>NaN</td>\n",
              "      <td>NaN</td>\n",
              "    </tr>\n",
              "    <tr>\n",
              "      <th>Coupler</th>\n",
              "      <td>213952</td>\n",
              "      <td>3</td>\n",
              "      <td>None or Unspecified</td>\n",
              "      <td>184582</td>\n",
              "      <td>NaN</td>\n",
              "      <td>NaN</td>\n",
              "      <td>NaN</td>\n",
              "      <td>NaN</td>\n",
              "      <td>NaN</td>\n",
              "      <td>NaN</td>\n",
              "      <td>NaN</td>\n",
              "      <td>NaN</td>\n",
              "      <td>NaN</td>\n",
              "    </tr>\n",
              "    <tr>\n",
              "      <th>Coupler_System</th>\n",
              "      <td>43458</td>\n",
              "      <td>2</td>\n",
              "      <td>None or Unspecified</td>\n",
              "      <td>40430</td>\n",
              "      <td>NaN</td>\n",
              "      <td>NaN</td>\n",
              "      <td>NaN</td>\n",
              "      <td>NaN</td>\n",
              "      <td>NaN</td>\n",
              "      <td>NaN</td>\n",
              "      <td>NaN</td>\n",
              "      <td>NaN</td>\n",
              "      <td>NaN</td>\n",
              "    </tr>\n",
              "    <tr>\n",
              "      <th>Grouser_Tracks</th>\n",
              "      <td>43362</td>\n",
              "      <td>2</td>\n",
              "      <td>None or Unspecified</td>\n",
              "      <td>40515</td>\n",
              "      <td>NaN</td>\n",
              "      <td>NaN</td>\n",
              "      <td>NaN</td>\n",
              "      <td>NaN</td>\n",
              "      <td>NaN</td>\n",
              "      <td>NaN</td>\n",
              "      <td>NaN</td>\n",
              "      <td>NaN</td>\n",
              "      <td>NaN</td>\n",
              "    </tr>\n",
              "    <tr>\n",
              "      <th>Hydraulics_Flow</th>\n",
              "      <td>43362</td>\n",
              "      <td>3</td>\n",
              "      <td>Standard</td>\n",
              "      <td>42784</td>\n",
              "      <td>NaN</td>\n",
              "      <td>NaN</td>\n",
              "      <td>NaN</td>\n",
              "      <td>NaN</td>\n",
              "      <td>NaN</td>\n",
              "      <td>NaN</td>\n",
              "      <td>NaN</td>\n",
              "      <td>NaN</td>\n",
              "      <td>NaN</td>\n",
              "    </tr>\n",
              "    <tr>\n",
              "      <th>Track_Type</th>\n",
              "      <td>99153</td>\n",
              "      <td>2</td>\n",
              "      <td>Steel</td>\n",
              "      <td>84880</td>\n",
              "      <td>NaN</td>\n",
              "      <td>NaN</td>\n",
              "      <td>NaN</td>\n",
              "      <td>NaN</td>\n",
              "      <td>NaN</td>\n",
              "      <td>NaN</td>\n",
              "      <td>NaN</td>\n",
              "      <td>NaN</td>\n",
              "      <td>NaN</td>\n",
              "    </tr>\n",
              "    <tr>\n",
              "      <th>Undercarriage_Pad_Width</th>\n",
              "      <td>99872</td>\n",
              "      <td>19</td>\n",
              "      <td>None or Unspecified</td>\n",
              "      <td>79651</td>\n",
              "      <td>NaN</td>\n",
              "      <td>NaN</td>\n",
              "      <td>NaN</td>\n",
              "      <td>NaN</td>\n",
              "      <td>NaN</td>\n",
              "      <td>NaN</td>\n",
              "      <td>NaN</td>\n",
              "      <td>NaN</td>\n",
              "      <td>NaN</td>\n",
              "    </tr>\n",
              "    <tr>\n",
              "      <th>Stick_Length</th>\n",
              "      <td>99218</td>\n",
              "      <td>29</td>\n",
              "      <td>None or Unspecified</td>\n",
              "      <td>78820</td>\n",
              "      <td>NaN</td>\n",
              "      <td>NaN</td>\n",
              "      <td>NaN</td>\n",
              "      <td>NaN</td>\n",
              "      <td>NaN</td>\n",
              "      <td>NaN</td>\n",
              "      <td>NaN</td>\n",
              "      <td>NaN</td>\n",
              "      <td>NaN</td>\n",
              "    </tr>\n",
              "    <tr>\n",
              "      <th>Thumb</th>\n",
              "      <td>99288</td>\n",
              "      <td>3</td>\n",
              "      <td>None or Unspecified</td>\n",
              "      <td>83093</td>\n",
              "      <td>NaN</td>\n",
              "      <td>NaN</td>\n",
              "      <td>NaN</td>\n",
              "      <td>NaN</td>\n",
              "      <td>NaN</td>\n",
              "      <td>NaN</td>\n",
              "      <td>NaN</td>\n",
              "      <td>NaN</td>\n",
              "      <td>NaN</td>\n",
              "    </tr>\n",
              "    <tr>\n",
              "      <th>Pattern_Changer</th>\n",
              "      <td>99218</td>\n",
              "      <td>3</td>\n",
              "      <td>None or Unspecified</td>\n",
              "      <td>90255</td>\n",
              "      <td>NaN</td>\n",
              "      <td>NaN</td>\n",
              "      <td>NaN</td>\n",
              "      <td>NaN</td>\n",
              "      <td>NaN</td>\n",
              "      <td>NaN</td>\n",
              "      <td>NaN</td>\n",
              "      <td>NaN</td>\n",
              "      <td>NaN</td>\n",
              "    </tr>\n",
              "    <tr>\n",
              "      <th>Grouser_Type</th>\n",
              "      <td>99153</td>\n",
              "      <td>3</td>\n",
              "      <td>Double</td>\n",
              "      <td>84653</td>\n",
              "      <td>NaN</td>\n",
              "      <td>NaN</td>\n",
              "      <td>NaN</td>\n",
              "      <td>NaN</td>\n",
              "      <td>NaN</td>\n",
              "      <td>NaN</td>\n",
              "      <td>NaN</td>\n",
              "      <td>NaN</td>\n",
              "      <td>NaN</td>\n",
              "    </tr>\n",
              "    <tr>\n",
              "      <th>Backhoe_Mounting</th>\n",
              "      <td>78672</td>\n",
              "      <td>2</td>\n",
              "      <td>None or Unspecified</td>\n",
              "      <td>78652</td>\n",
              "      <td>NaN</td>\n",
              "      <td>NaN</td>\n",
              "      <td>NaN</td>\n",
              "      <td>NaN</td>\n",
              "      <td>NaN</td>\n",
              "      <td>NaN</td>\n",
              "      <td>NaN</td>\n",
              "      <td>NaN</td>\n",
              "      <td>NaN</td>\n",
              "    </tr>\n",
              "    <tr>\n",
              "      <th>Blade_Type</th>\n",
              "      <td>79833</td>\n",
              "      <td>10</td>\n",
              "      <td>PAT</td>\n",
              "      <td>38612</td>\n",
              "      <td>NaN</td>\n",
              "      <td>NaN</td>\n",
              "      <td>NaN</td>\n",
              "      <td>NaN</td>\n",
              "      <td>NaN</td>\n",
              "      <td>NaN</td>\n",
              "      <td>NaN</td>\n",
              "      <td>NaN</td>\n",
              "      <td>NaN</td>\n",
              "    </tr>\n",
              "    <tr>\n",
              "      <th>Travel_Controls</th>\n",
              "      <td>79834</td>\n",
              "      <td>7</td>\n",
              "      <td>None or Unspecified</td>\n",
              "      <td>69923</td>\n",
              "      <td>NaN</td>\n",
              "      <td>NaN</td>\n",
              "      <td>NaN</td>\n",
              "      <td>NaN</td>\n",
              "      <td>NaN</td>\n",
              "      <td>NaN</td>\n",
              "      <td>NaN</td>\n",
              "      <td>NaN</td>\n",
              "      <td>NaN</td>\n",
              "    </tr>\n",
              "    <tr>\n",
              "      <th>Differential_Type</th>\n",
              "      <td>69411</td>\n",
              "      <td>4</td>\n",
              "      <td>Standard</td>\n",
              "      <td>68073</td>\n",
              "      <td>NaN</td>\n",
              "      <td>NaN</td>\n",
              "      <td>NaN</td>\n",
              "      <td>NaN</td>\n",
              "      <td>NaN</td>\n",
              "      <td>NaN</td>\n",
              "      <td>NaN</td>\n",
              "      <td>NaN</td>\n",
              "      <td>NaN</td>\n",
              "    </tr>\n",
              "    <tr>\n",
              "      <th>Steering_Controls</th>\n",
              "      <td>69369</td>\n",
              "      <td>5</td>\n",
              "      <td>Conventional</td>\n",
              "      <td>68679</td>\n",
              "      <td>NaN</td>\n",
              "      <td>NaN</td>\n",
              "      <td>NaN</td>\n",
              "      <td>NaN</td>\n",
              "      <td>NaN</td>\n",
              "      <td>NaN</td>\n",
              "      <td>NaN</td>\n",
              "      <td>NaN</td>\n",
              "      <td>NaN</td>\n",
              "    </tr>\n",
              "  </tbody>\n",
              "</table>\n",
              "</div>"
            ],
            "text/plain": [
              "                           count unique  \\\n",
              "SalesID                   401125    NaN   \n",
              "SalePrice                 401125    NaN   \n",
              "MachineID                 401125    NaN   \n",
              "ModelID                   401125    NaN   \n",
              "datasource                401125    NaN   \n",
              "auctioneerID              380989    NaN   \n",
              "YearMade                  401125    NaN   \n",
              "MachineHoursCurrentMeter  142765    NaN   \n",
              "UsageBand                  69639      3   \n",
              "saledate                  401125   3919   \n",
              "fiModelDesc               401125   4999   \n",
              "fiBaseModel               401125   1950   \n",
              "fiSecondaryDesc           263934    175   \n",
              "fiModelSeries              56908    122   \n",
              "fiModelDescriptor          71919    139   \n",
              "ProductSize               190350      6   \n",
              "fiProductClassDesc        401125     74   \n",
              "state                     401125     53   \n",
              "ProductGroup              401125      6   \n",
              "ProductGroupDesc          401125      6   \n",
              "Drive_System              104361      4   \n",
              "Enclosure                 400800      6   \n",
              "Forks                     192077      2   \n",
              "Pad_Type                   79134      4   \n",
              "Ride_Control              148606      3   \n",
              "Stick                      79134      2   \n",
              "Transmission              183230      8   \n",
              "Turbocharged               79134      2   \n",
              "Blade_Extension            25219      2   \n",
              "Blade_Width                25219      6   \n",
              "Enclosure_Type             25219      3   \n",
              "Engine_Horsepower          25219      2   \n",
              "Hydraulics                320570     12   \n",
              "Pushblock                  25219      2   \n",
              "Ripper                    104137      4   \n",
              "Scarifier                  25230      2   \n",
              "Tip_Control                25219      3   \n",
              "Tire_Size                  94718     17   \n",
              "Coupler                   213952      3   \n",
              "Coupler_System             43458      2   \n",
              "Grouser_Tracks             43362      2   \n",
              "Hydraulics_Flow            43362      3   \n",
              "Track_Type                 99153      2   \n",
              "Undercarriage_Pad_Width    99872     19   \n",
              "Stick_Length               99218     29   \n",
              "Thumb                      99288      3   \n",
              "Pattern_Changer            99218      3   \n",
              "Grouser_Type               99153      3   \n",
              "Backhoe_Mounting           78672      2   \n",
              "Blade_Type                 79833     10   \n",
              "Travel_Controls            79834      7   \n",
              "Differential_Type          69411      4   \n",
              "Steering_Controls          69369      5   \n",
              "\n",
              "                                                                        top  \\\n",
              "SalesID                                                                 NaN   \n",
              "SalePrice                                                               NaN   \n",
              "MachineID                                                               NaN   \n",
              "ModelID                                                                 NaN   \n",
              "datasource                                                              NaN   \n",
              "auctioneerID                                                            NaN   \n",
              "YearMade                                                                NaN   \n",
              "MachineHoursCurrentMeter                                                NaN   \n",
              "UsageBand                                                            Medium   \n",
              "saledate                                                2009-02-16 00:00:00   \n",
              "fiModelDesc                                                            310G   \n",
              "fiBaseModel                                                             580   \n",
              "fiSecondaryDesc                                                           C   \n",
              "fiModelSeries                                                            II   \n",
              "fiModelDescriptor                                                         L   \n",
              "ProductSize                                                          Medium   \n",
              "fiProductClassDesc        Backhoe Loader - 14.0 to 15.0 Ft Standard Digg...   \n",
              "state                                                               Florida   \n",
              "ProductGroup                                                            TEX   \n",
              "ProductGroupDesc                                           Track Excavators   \n",
              "Drive_System                                                Two Wheel Drive   \n",
              "Enclosure                                                             OROPS   \n",
              "Forks                                                   None or Unspecified   \n",
              "Pad_Type                                                None or Unspecified   \n",
              "Ride_Control                                                             No   \n",
              "Stick                                                              Standard   \n",
              "Transmission                                                       Standard   \n",
              "Turbocharged                                            None or Unspecified   \n",
              "Blade_Extension                                         None or Unspecified   \n",
              "Blade_Width                                                             14'   \n",
              "Enclosure_Type                                          None or Unspecified   \n",
              "Engine_Horsepower                                                        No   \n",
              "Hydraulics                                                          2 Valve   \n",
              "Pushblock                                               None or Unspecified   \n",
              "Ripper                                                  None or Unspecified   \n",
              "Scarifier                                               None or Unspecified   \n",
              "Tip_Control                                             None or Unspecified   \n",
              "Tire_Size                                               None or Unspecified   \n",
              "Coupler                                                 None or Unspecified   \n",
              "Coupler_System                                          None or Unspecified   \n",
              "Grouser_Tracks                                          None or Unspecified   \n",
              "Hydraulics_Flow                                                    Standard   \n",
              "Track_Type                                                            Steel   \n",
              "Undercarriage_Pad_Width                                 None or Unspecified   \n",
              "Stick_Length                                            None or Unspecified   \n",
              "Thumb                                                   None or Unspecified   \n",
              "Pattern_Changer                                         None or Unspecified   \n",
              "Grouser_Type                                                         Double   \n",
              "Backhoe_Mounting                                        None or Unspecified   \n",
              "Blade_Type                                                              PAT   \n",
              "Travel_Controls                                         None or Unspecified   \n",
              "Differential_Type                                                  Standard   \n",
              "Steering_Controls                                              Conventional   \n",
              "\n",
              "                            freq                first                 last  \\\n",
              "SalesID                      NaN                  NaN                  NaN   \n",
              "SalePrice                    NaN                  NaN                  NaN   \n",
              "MachineID                    NaN                  NaN                  NaN   \n",
              "ModelID                      NaN                  NaN                  NaN   \n",
              "datasource                   NaN                  NaN                  NaN   \n",
              "auctioneerID                 NaN                  NaN                  NaN   \n",
              "YearMade                     NaN                  NaN                  NaN   \n",
              "MachineHoursCurrentMeter     NaN                  NaN                  NaN   \n",
              "UsageBand                  33985                  NaN                  NaN   \n",
              "saledate                    1932  1989-01-17 00:00:00  2011-12-30 00:00:00   \n",
              "fiModelDesc                 5039                  NaN                  NaN   \n",
              "fiBaseModel                19798                  NaN                  NaN   \n",
              "fiSecondaryDesc            43235                  NaN                  NaN   \n",
              "fiModelSeries              13202                  NaN                  NaN   \n",
              "fiModelDescriptor          15875                  NaN                  NaN   \n",
              "ProductSize                62274                  NaN                  NaN   \n",
              "fiProductClassDesc         56166                  NaN                  NaN   \n",
              "state                      63944                  NaN                  NaN   \n",
              "ProductGroup              101167                  NaN                  NaN   \n",
              "ProductGroupDesc          101167                  NaN                  NaN   \n",
              "Drive_System               46139                  NaN                  NaN   \n",
              "Enclosure                 173932                  NaN                  NaN   \n",
              "Forks                     178300                  NaN                  NaN   \n",
              "Pad_Type                   70614                  NaN                  NaN   \n",
              "Ride_Control               77685                  NaN                  NaN   \n",
              "Stick                      48829                  NaN                  NaN   \n",
              "Transmission              140328                  NaN                  NaN   \n",
              "Turbocharged               75211                  NaN                  NaN   \n",
              "Blade_Extension            24692                  NaN                  NaN   \n",
              "Blade_Width                 9615                  NaN                  NaN   \n",
              "Enclosure_Type             21923                  NaN                  NaN   \n",
              "Engine_Horsepower          23937                  NaN                  NaN   \n",
              "Hydraulics                141404                  NaN                  NaN   \n",
              "Pushblock                  19463                  NaN                  NaN   \n",
              "Ripper                     83452                  NaN                  NaN   \n",
              "Scarifier                  12719                  NaN                  NaN   \n",
              "Tip_Control                16207                  NaN                  NaN   \n",
              "Tire_Size                  46339                  NaN                  NaN   \n",
              "Coupler                   184582                  NaN                  NaN   \n",
              "Coupler_System             40430                  NaN                  NaN   \n",
              "Grouser_Tracks             40515                  NaN                  NaN   \n",
              "Hydraulics_Flow            42784                  NaN                  NaN   \n",
              "Track_Type                 84880                  NaN                  NaN   \n",
              "Undercarriage_Pad_Width    79651                  NaN                  NaN   \n",
              "Stick_Length               78820                  NaN                  NaN   \n",
              "Thumb                      83093                  NaN                  NaN   \n",
              "Pattern_Changer            90255                  NaN                  NaN   \n",
              "Grouser_Type               84653                  NaN                  NaN   \n",
              "Backhoe_Mounting           78652                  NaN                  NaN   \n",
              "Blade_Type                 38612                  NaN                  NaN   \n",
              "Travel_Controls            69923                  NaN                  NaN   \n",
              "Differential_Type          68073                  NaN                  NaN   \n",
              "Steering_Controls          68679                  NaN                  NaN   \n",
              "\n",
              "                                 mean      std          min          25%  \\\n",
              "SalesID                   1.91971e+06   909021  1.13925e+06  1.41837e+06   \n",
              "SalePrice                     31099.7  23036.9         4750        14500   \n",
              "MachineID                  1.2179e+06   440992            0   1.0887e+06   \n",
              "ModelID                        6889.7  6221.78           28         3259   \n",
              "datasource                    134.666  8.96224          121          132   \n",
              "auctioneerID                  6.55604  16.9768            0            1   \n",
              "YearMade                      1899.16  291.797         1000         1985   \n",
              "MachineHoursCurrentMeter      3457.96  27590.3            0            0   \n",
              "UsageBand                         NaN      NaN          NaN          NaN   \n",
              "saledate                          NaN      NaN          NaN          NaN   \n",
              "fiModelDesc                       NaN      NaN          NaN          NaN   \n",
              "fiBaseModel                       NaN      NaN          NaN          NaN   \n",
              "fiSecondaryDesc                   NaN      NaN          NaN          NaN   \n",
              "fiModelSeries                     NaN      NaN          NaN          NaN   \n",
              "fiModelDescriptor                 NaN      NaN          NaN          NaN   \n",
              "ProductSize                       NaN      NaN          NaN          NaN   \n",
              "fiProductClassDesc                NaN      NaN          NaN          NaN   \n",
              "state                             NaN      NaN          NaN          NaN   \n",
              "ProductGroup                      NaN      NaN          NaN          NaN   \n",
              "ProductGroupDesc                  NaN      NaN          NaN          NaN   \n",
              "Drive_System                      NaN      NaN          NaN          NaN   \n",
              "Enclosure                         NaN      NaN          NaN          NaN   \n",
              "Forks                             NaN      NaN          NaN          NaN   \n",
              "Pad_Type                          NaN      NaN          NaN          NaN   \n",
              "Ride_Control                      NaN      NaN          NaN          NaN   \n",
              "Stick                             NaN      NaN          NaN          NaN   \n",
              "Transmission                      NaN      NaN          NaN          NaN   \n",
              "Turbocharged                      NaN      NaN          NaN          NaN   \n",
              "Blade_Extension                   NaN      NaN          NaN          NaN   \n",
              "Blade_Width                       NaN      NaN          NaN          NaN   \n",
              "Enclosure_Type                    NaN      NaN          NaN          NaN   \n",
              "Engine_Horsepower                 NaN      NaN          NaN          NaN   \n",
              "Hydraulics                        NaN      NaN          NaN          NaN   \n",
              "Pushblock                         NaN      NaN          NaN          NaN   \n",
              "Ripper                            NaN      NaN          NaN          NaN   \n",
              "Scarifier                         NaN      NaN          NaN          NaN   \n",
              "Tip_Control                       NaN      NaN          NaN          NaN   \n",
              "Tire_Size                         NaN      NaN          NaN          NaN   \n",
              "Coupler                           NaN      NaN          NaN          NaN   \n",
              "Coupler_System                    NaN      NaN          NaN          NaN   \n",
              "Grouser_Tracks                    NaN      NaN          NaN          NaN   \n",
              "Hydraulics_Flow                   NaN      NaN          NaN          NaN   \n",
              "Track_Type                        NaN      NaN          NaN          NaN   \n",
              "Undercarriage_Pad_Width           NaN      NaN          NaN          NaN   \n",
              "Stick_Length                      NaN      NaN          NaN          NaN   \n",
              "Thumb                             NaN      NaN          NaN          NaN   \n",
              "Pattern_Changer                   NaN      NaN          NaN          NaN   \n",
              "Grouser_Type                      NaN      NaN          NaN          NaN   \n",
              "Backhoe_Mounting                  NaN      NaN          NaN          NaN   \n",
              "Blade_Type                        NaN      NaN          NaN          NaN   \n",
              "Travel_Controls                   NaN      NaN          NaN          NaN   \n",
              "Differential_Type                 NaN      NaN          NaN          NaN   \n",
              "Steering_Controls                 NaN      NaN          NaN          NaN   \n",
              "\n",
              "                                  50%          75%          max  \n",
              "SalesID                   1.63942e+06  2.24271e+06  6.33334e+06  \n",
              "SalePrice                       24000        40000       142000  \n",
              "MachineID                 1.27949e+06  1.46807e+06  2.48633e+06  \n",
              "ModelID                          4604         8724        37198  \n",
              "datasource                        132          136          172  \n",
              "auctioneerID                        2            4           99  \n",
              "YearMade                         1995         2000         2013  \n",
              "MachineHoursCurrentMeter            0         3025   2.4833e+06  \n",
              "UsageBand                         NaN          NaN          NaN  \n",
              "saledate                          NaN          NaN          NaN  \n",
              "fiModelDesc                       NaN          NaN          NaN  \n",
              "fiBaseModel                       NaN          NaN          NaN  \n",
              "fiSecondaryDesc                   NaN          NaN          NaN  \n",
              "fiModelSeries                     NaN          NaN          NaN  \n",
              "fiModelDescriptor                 NaN          NaN          NaN  \n",
              "ProductSize                       NaN          NaN          NaN  \n",
              "fiProductClassDesc                NaN          NaN          NaN  \n",
              "state                             NaN          NaN          NaN  \n",
              "ProductGroup                      NaN          NaN          NaN  \n",
              "ProductGroupDesc                  NaN          NaN          NaN  \n",
              "Drive_System                      NaN          NaN          NaN  \n",
              "Enclosure                         NaN          NaN          NaN  \n",
              "Forks                             NaN          NaN          NaN  \n",
              "Pad_Type                          NaN          NaN          NaN  \n",
              "Ride_Control                      NaN          NaN          NaN  \n",
              "Stick                             NaN          NaN          NaN  \n",
              "Transmission                      NaN          NaN          NaN  \n",
              "Turbocharged                      NaN          NaN          NaN  \n",
              "Blade_Extension                   NaN          NaN          NaN  \n",
              "Blade_Width                       NaN          NaN          NaN  \n",
              "Enclosure_Type                    NaN          NaN          NaN  \n",
              "Engine_Horsepower                 NaN          NaN          NaN  \n",
              "Hydraulics                        NaN          NaN          NaN  \n",
              "Pushblock                         NaN          NaN          NaN  \n",
              "Ripper                            NaN          NaN          NaN  \n",
              "Scarifier                         NaN          NaN          NaN  \n",
              "Tip_Control                       NaN          NaN          NaN  \n",
              "Tire_Size                         NaN          NaN          NaN  \n",
              "Coupler                           NaN          NaN          NaN  \n",
              "Coupler_System                    NaN          NaN          NaN  \n",
              "Grouser_Tracks                    NaN          NaN          NaN  \n",
              "Hydraulics_Flow                   NaN          NaN          NaN  \n",
              "Track_Type                        NaN          NaN          NaN  \n",
              "Undercarriage_Pad_Width           NaN          NaN          NaN  \n",
              "Stick_Length                      NaN          NaN          NaN  \n",
              "Thumb                             NaN          NaN          NaN  \n",
              "Pattern_Changer                   NaN          NaN          NaN  \n",
              "Grouser_Type                      NaN          NaN          NaN  \n",
              "Backhoe_Mounting                  NaN          NaN          NaN  \n",
              "Blade_Type                        NaN          NaN          NaN  \n",
              "Travel_Controls                   NaN          NaN          NaN  \n",
              "Differential_Type                 NaN          NaN          NaN  \n",
              "Steering_Controls                 NaN          NaN          NaN  "
            ]
          },
          "metadata": {
            "tags": []
          }
        }
      ]
    },
    {
      "cell_type": "markdown",
      "metadata": {
        "hidden": true,
        "id": "yyjsb6OvgyCG"
      },
      "source": [
        "It's important to note what metric is being used for a project. Generally, selecting the metric(s) is an important part of the project setup. However, in this case Kaggle tells us what metric to use: RMSLE (root mean squared log error) between the actual and predicted auction prices. Therefore we take the log of the prices, so that RMSE will give us what we need."
      ]
    },
    {
      "cell_type": "code",
      "metadata": {
        "hidden": true,
        "id": "AZXBF5UUgyCG"
      },
      "source": [
        "# NOTE that log effects the sensitivity of the predictions we are making. \n",
        "# RMSE-> minute diff important \n",
        "# LOG grows more slowly, \n",
        "# RATIONS ARE MORE IMPORANT\n",
        "# Differences not so much \n",
        "\n",
        " \n",
        "df_raw.SalePrice = np.log(df_raw.SalePrice)"
      ],
      "execution_count": 13,
      "outputs": []
    },
    {
      "cell_type": "code",
      "metadata": {
        "id": "7VO39LCTrgan",
        "outputId": "ec7e9271-bcdd-43b6-aec7-b42e8bc865bc",
        "colab": {
          "base_uri": "https://localhost:8080/"
        }
      },
      "source": [
        "df_raw.SalePrice\n",
        "#this is a numpy series \n"
      ],
      "execution_count": 14,
      "outputs": [
        {
          "output_type": "execute_result",
          "data": {
            "text/plain": [
              "0         11.097410\n",
              "1         10.950807\n",
              "2          9.210340\n",
              "3         10.558414\n",
              "4          9.305651\n",
              "            ...    \n",
              "401120     9.259131\n",
              "401121     9.305651\n",
              "401122     9.350102\n",
              "401123     9.104980\n",
              "401124     8.955448\n",
              "Name: SalePrice, Length: 401125, dtype: float64"
            ]
          },
          "metadata": {
            "tags": []
          },
          "execution_count": 14
        }
      ]
    },
    {
      "cell_type": "markdown",
      "metadata": {
        "heading_collapsed": true,
        "id": "z9NeWqRUgyCJ"
      },
      "source": [
        "### Initial processing"
      ]
    },
    {
      "cell_type": "markdown",
      "metadata": {
        "id": "ymnxoqKhr77p"
      },
      "source": [
        "So what is random forest basically?\n",
        "\n",
        "- Something that can work on any type of data (numbers)\n",
        "- Predict categories or continous things \n",
        "- Doesnt overfit too much. Can control. (by adjusting no of steps).\n",
        "- No type of multiplication needed as in neural networks. \n",
        "\n",
        "So, it is something which is very basic to start. "
      ]
    },
    {
      "cell_type": "code",
      "metadata": {
        "hidden": true,
        "id": "pMS0E716gyCJ",
        "outputId": "d1828c90-a21a-4109-ac82-3aa385091629",
        "colab": {
          "base_uri": "https://localhost:8080/",
          "height": 417
        }
      },
      "source": [
        "m = RandomForestRegressor(n_jobs=-1)\n",
        "#pass in \n",
        "m.fit(df_raw.drop('SalePrice', axis=1), df_raw.SalePrice)"
      ],
      "execution_count": null,
      "outputs": [
        {
          "output_type": "stream",
          "text": [
            "/usr/local/lib/python3.6/dist-packages/sklearn/ensemble/forest.py:245: FutureWarning: The default value of n_estimators will change from 10 in version 0.20 to 100 in 0.22.\n",
            "  \"10 in version 0.20 to 100 in 0.22.\", FutureWarning)\n"
          ],
          "name": "stderr"
        },
        {
          "output_type": "error",
          "ename": "ValueError",
          "evalue": "ignored",
          "traceback": [
            "\u001b[0;31m---------------------------------------------------------------------------\u001b[0m",
            "\u001b[0;31mValueError\u001b[0m                                Traceback (most recent call last)",
            "\u001b[0;32m<ipython-input-12-d9937b359eea>\u001b[0m in \u001b[0;36m<module>\u001b[0;34m()\u001b[0m\n\u001b[1;32m      1\u001b[0m \u001b[0mm\u001b[0m \u001b[0;34m=\u001b[0m \u001b[0mRandomForestRegressor\u001b[0m\u001b[0;34m(\u001b[0m\u001b[0mn_jobs\u001b[0m\u001b[0;34m=\u001b[0m\u001b[0;34m-\u001b[0m\u001b[0;36m1\u001b[0m\u001b[0;34m)\u001b[0m\u001b[0;34m\u001b[0m\u001b[0;34m\u001b[0m\u001b[0m\n\u001b[1;32m      2\u001b[0m \u001b[0;31m#pass in\u001b[0m\u001b[0;34m\u001b[0m\u001b[0;34m\u001b[0m\u001b[0;34m\u001b[0m\u001b[0m\n\u001b[0;32m----> 3\u001b[0;31m \u001b[0mm\u001b[0m\u001b[0;34m.\u001b[0m\u001b[0mfit\u001b[0m\u001b[0;34m(\u001b[0m\u001b[0mdf_raw\u001b[0m\u001b[0;34m.\u001b[0m\u001b[0mdrop\u001b[0m\u001b[0;34m(\u001b[0m\u001b[0;34m'SalePrice'\u001b[0m\u001b[0;34m,\u001b[0m \u001b[0maxis\u001b[0m\u001b[0;34m=\u001b[0m\u001b[0;36m1\u001b[0m\u001b[0;34m)\u001b[0m\u001b[0;34m,\u001b[0m \u001b[0mdf_raw\u001b[0m\u001b[0;34m.\u001b[0m\u001b[0mSalePrice\u001b[0m\u001b[0;34m)\u001b[0m\u001b[0;34m\u001b[0m\u001b[0;34m\u001b[0m\u001b[0m\n\u001b[0m",
            "\u001b[0;32m/usr/local/lib/python3.6/dist-packages/sklearn/ensemble/forest.py\u001b[0m in \u001b[0;36mfit\u001b[0;34m(self, X, y, sample_weight)\u001b[0m\n\u001b[1;32m    247\u001b[0m \u001b[0;34m\u001b[0m\u001b[0m\n\u001b[1;32m    248\u001b[0m         \u001b[0;31m# Validate or convert input data\u001b[0m\u001b[0;34m\u001b[0m\u001b[0;34m\u001b[0m\u001b[0;34m\u001b[0m\u001b[0m\n\u001b[0;32m--> 249\u001b[0;31m         \u001b[0mX\u001b[0m \u001b[0;34m=\u001b[0m \u001b[0mcheck_array\u001b[0m\u001b[0;34m(\u001b[0m\u001b[0mX\u001b[0m\u001b[0;34m,\u001b[0m \u001b[0maccept_sparse\u001b[0m\u001b[0;34m=\u001b[0m\u001b[0;34m\"csc\"\u001b[0m\u001b[0;34m,\u001b[0m \u001b[0mdtype\u001b[0m\u001b[0;34m=\u001b[0m\u001b[0mDTYPE\u001b[0m\u001b[0;34m)\u001b[0m\u001b[0;34m\u001b[0m\u001b[0;34m\u001b[0m\u001b[0m\n\u001b[0m\u001b[1;32m    250\u001b[0m         \u001b[0my\u001b[0m \u001b[0;34m=\u001b[0m \u001b[0mcheck_array\u001b[0m\u001b[0;34m(\u001b[0m\u001b[0my\u001b[0m\u001b[0;34m,\u001b[0m \u001b[0maccept_sparse\u001b[0m\u001b[0;34m=\u001b[0m\u001b[0;34m'csc'\u001b[0m\u001b[0;34m,\u001b[0m \u001b[0mensure_2d\u001b[0m\u001b[0;34m=\u001b[0m\u001b[0;32mFalse\u001b[0m\u001b[0;34m,\u001b[0m \u001b[0mdtype\u001b[0m\u001b[0;34m=\u001b[0m\u001b[0;32mNone\u001b[0m\u001b[0;34m)\u001b[0m\u001b[0;34m\u001b[0m\u001b[0;34m\u001b[0m\u001b[0m\n\u001b[1;32m    251\u001b[0m         \u001b[0;32mif\u001b[0m \u001b[0msample_weight\u001b[0m \u001b[0;32mis\u001b[0m \u001b[0;32mnot\u001b[0m \u001b[0;32mNone\u001b[0m\u001b[0;34m:\u001b[0m\u001b[0;34m\u001b[0m\u001b[0;34m\u001b[0m\u001b[0m\n",
            "\u001b[0;32m/usr/local/lib/python3.6/dist-packages/sklearn/utils/validation.py\u001b[0m in \u001b[0;36mcheck_array\u001b[0;34m(array, accept_sparse, accept_large_sparse, dtype, order, copy, force_all_finite, ensure_2d, allow_nd, ensure_min_samples, ensure_min_features, warn_on_dtype, estimator)\u001b[0m\n\u001b[1;32m    494\u001b[0m             \u001b[0;32mtry\u001b[0m\u001b[0;34m:\u001b[0m\u001b[0;34m\u001b[0m\u001b[0;34m\u001b[0m\u001b[0m\n\u001b[1;32m    495\u001b[0m                 \u001b[0mwarnings\u001b[0m\u001b[0;34m.\u001b[0m\u001b[0msimplefilter\u001b[0m\u001b[0;34m(\u001b[0m\u001b[0;34m'error'\u001b[0m\u001b[0;34m,\u001b[0m \u001b[0mComplexWarning\u001b[0m\u001b[0;34m)\u001b[0m\u001b[0;34m\u001b[0m\u001b[0;34m\u001b[0m\u001b[0m\n\u001b[0;32m--> 496\u001b[0;31m                 \u001b[0marray\u001b[0m \u001b[0;34m=\u001b[0m \u001b[0mnp\u001b[0m\u001b[0;34m.\u001b[0m\u001b[0masarray\u001b[0m\u001b[0;34m(\u001b[0m\u001b[0marray\u001b[0m\u001b[0;34m,\u001b[0m \u001b[0mdtype\u001b[0m\u001b[0;34m=\u001b[0m\u001b[0mdtype\u001b[0m\u001b[0;34m,\u001b[0m \u001b[0morder\u001b[0m\u001b[0;34m=\u001b[0m\u001b[0morder\u001b[0m\u001b[0;34m)\u001b[0m\u001b[0;34m\u001b[0m\u001b[0;34m\u001b[0m\u001b[0m\n\u001b[0m\u001b[1;32m    497\u001b[0m             \u001b[0;32mexcept\u001b[0m \u001b[0mComplexWarning\u001b[0m\u001b[0;34m:\u001b[0m\u001b[0;34m\u001b[0m\u001b[0;34m\u001b[0m\u001b[0m\n\u001b[1;32m    498\u001b[0m                 raise ValueError(\"Complex data not supported\\n\"\n",
            "\u001b[0;32m/usr/local/lib/python3.6/dist-packages/numpy/core/_asarray.py\u001b[0m in \u001b[0;36masarray\u001b[0;34m(a, dtype, order)\u001b[0m\n\u001b[1;32m     83\u001b[0m \u001b[0;34m\u001b[0m\u001b[0m\n\u001b[1;32m     84\u001b[0m     \"\"\"\n\u001b[0;32m---> 85\u001b[0;31m     \u001b[0;32mreturn\u001b[0m \u001b[0marray\u001b[0m\u001b[0;34m(\u001b[0m\u001b[0ma\u001b[0m\u001b[0;34m,\u001b[0m \u001b[0mdtype\u001b[0m\u001b[0;34m,\u001b[0m \u001b[0mcopy\u001b[0m\u001b[0;34m=\u001b[0m\u001b[0;32mFalse\u001b[0m\u001b[0;34m,\u001b[0m \u001b[0morder\u001b[0m\u001b[0;34m=\u001b[0m\u001b[0morder\u001b[0m\u001b[0;34m)\u001b[0m\u001b[0;34m\u001b[0m\u001b[0;34m\u001b[0m\u001b[0m\n\u001b[0m\u001b[1;32m     86\u001b[0m \u001b[0;34m\u001b[0m\u001b[0m\n\u001b[1;32m     87\u001b[0m \u001b[0;34m\u001b[0m\u001b[0m\n",
            "\u001b[0;32m/usr/local/lib/python3.6/dist-packages/pandas/core/generic.py\u001b[0m in \u001b[0;36m__array__\u001b[0;34m(self, dtype)\u001b[0m\n\u001b[1;32m   1779\u001b[0m \u001b[0;34m\u001b[0m\u001b[0m\n\u001b[1;32m   1780\u001b[0m     \u001b[0;32mdef\u001b[0m \u001b[0m__array__\u001b[0m\u001b[0;34m(\u001b[0m\u001b[0mself\u001b[0m\u001b[0;34m,\u001b[0m \u001b[0mdtype\u001b[0m\u001b[0;34m=\u001b[0m\u001b[0;32mNone\u001b[0m\u001b[0;34m)\u001b[0m \u001b[0;34m->\u001b[0m \u001b[0mnp\u001b[0m\u001b[0;34m.\u001b[0m\u001b[0mndarray\u001b[0m\u001b[0;34m:\u001b[0m\u001b[0;34m\u001b[0m\u001b[0;34m\u001b[0m\u001b[0m\n\u001b[0;32m-> 1781\u001b[0;31m         \u001b[0;32mreturn\u001b[0m \u001b[0mnp\u001b[0m\u001b[0;34m.\u001b[0m\u001b[0masarray\u001b[0m\u001b[0;34m(\u001b[0m\u001b[0mself\u001b[0m\u001b[0;34m.\u001b[0m\u001b[0m_values\u001b[0m\u001b[0;34m,\u001b[0m \u001b[0mdtype\u001b[0m\u001b[0;34m=\u001b[0m\u001b[0mdtype\u001b[0m\u001b[0;34m)\u001b[0m\u001b[0;34m\u001b[0m\u001b[0;34m\u001b[0m\u001b[0m\n\u001b[0m\u001b[1;32m   1782\u001b[0m \u001b[0;34m\u001b[0m\u001b[0m\n\u001b[1;32m   1783\u001b[0m     \u001b[0;32mdef\u001b[0m \u001b[0m__array_wrap__\u001b[0m\u001b[0;34m(\u001b[0m\u001b[0mself\u001b[0m\u001b[0;34m,\u001b[0m \u001b[0mresult\u001b[0m\u001b[0;34m,\u001b[0m \u001b[0mcontext\u001b[0m\u001b[0;34m=\u001b[0m\u001b[0;32mNone\u001b[0m\u001b[0;34m)\u001b[0m\u001b[0;34m:\u001b[0m\u001b[0;34m\u001b[0m\u001b[0;34m\u001b[0m\u001b[0m\n",
            "\u001b[0;32m/usr/local/lib/python3.6/dist-packages/numpy/core/_asarray.py\u001b[0m in \u001b[0;36masarray\u001b[0;34m(a, dtype, order)\u001b[0m\n\u001b[1;32m     83\u001b[0m \u001b[0;34m\u001b[0m\u001b[0m\n\u001b[1;32m     84\u001b[0m     \"\"\"\n\u001b[0;32m---> 85\u001b[0;31m     \u001b[0;32mreturn\u001b[0m \u001b[0marray\u001b[0m\u001b[0;34m(\u001b[0m\u001b[0ma\u001b[0m\u001b[0;34m,\u001b[0m \u001b[0mdtype\u001b[0m\u001b[0;34m,\u001b[0m \u001b[0mcopy\u001b[0m\u001b[0;34m=\u001b[0m\u001b[0;32mFalse\u001b[0m\u001b[0;34m,\u001b[0m \u001b[0morder\u001b[0m\u001b[0;34m=\u001b[0m\u001b[0morder\u001b[0m\u001b[0;34m)\u001b[0m\u001b[0;34m\u001b[0m\u001b[0;34m\u001b[0m\u001b[0m\n\u001b[0m\u001b[1;32m     86\u001b[0m \u001b[0;34m\u001b[0m\u001b[0m\n\u001b[1;32m     87\u001b[0m \u001b[0;34m\u001b[0m\u001b[0m\n",
            "\u001b[0;31mValueError\u001b[0m: could not convert string to float: 'Low'"
          ]
        }
      ]
    },
    {
      "cell_type": "markdown",
      "metadata": {
        "id": "hXMQ46bRtpvP"
      },
      "source": [
        "**Why does the above code fail?**\n",
        "Because it doesnt contain all numbers. \n",
        "What is:\n",
        "- CURSE OF DIMENSIONALITY-> As d increase, the zone area increases. You need more no of parameters to explore a particular area \n",
        "- No Free Lunch Theoram -> NO practical value. "
      ]
    },
    {
      "cell_type": "markdown",
      "metadata": {
        "hidden": true,
        "id": "iHJ-lmQjgyCL"
      },
      "source": [
        "This dataset contains a mix of **continuous** and **categorical** variables.\n",
        "\n",
        "The following method extracts particular date fields from a complete datetime for the purpose of constructing categoricals.  You should always consider this feature extraction step when working with date-time. Without expanding your date-time into these additional fields, you can't capture any trend/cyclical behavior as a function of time at any of these granularities."
      ]
    },
    {
      "cell_type": "code",
      "metadata": {
        "id": "Q3aB__hZvzRk",
        "outputId": "1282dffe-394b-4468-f327-47dd7aafd256",
        "colab": {
          "base_uri": "https://localhost:8080/"
        }
      },
      "source": [
        "df_raw.saledate\n",
        "#LOOK AT THE DATE PART\n",
        "#YEAR \n",
        "#MONTH \n",
        "#DAY \n",
        "#WEEKEND/OR NOT \n",
        "# DAY OF WEEK\n",
        "# HOLIDAY?\n",
        "# WAS IT RAINING/SPORTS EVENT/ ETC?\n",
        "\n"
      ],
      "execution_count": null,
      "outputs": [
        {
          "output_type": "execute_result",
          "data": {
            "text/plain": [
              "0        2006-11-16\n",
              "1        2004-03-26\n",
              "2        2004-02-26\n",
              "3        2011-05-19\n",
              "4        2009-07-23\n",
              "            ...    \n",
              "401120   2011-11-02\n",
              "401121   2011-11-02\n",
              "401122   2011-11-02\n",
              "401123   2011-10-25\n",
              "401124   2011-10-25\n",
              "Name: saledate, Length: 401125, dtype: datetime64[ns]"
            ]
          },
          "metadata": {
            "tags": []
          },
          "execution_count": 13
        }
      ]
    },
    {
      "cell_type": "markdown",
      "metadata": {
        "id": "9qXCiNPmwULJ"
      },
      "source": [
        "Machine learning algo cannot directly construct this info, given only a date string. So, certain concepts need to be manually injected. \n",
        "\n",
        "For that purpose, iterative feature injection is needed."
      ]
    },
    {
      "cell_type": "code",
      "metadata": {
        "hidden": true,
        "id": "JxZB0VgmgyCM",
        "outputId": "27604057-fed9-48d2-b16e-0b1a21237867",
        "colab": {
          "base_uri": "https://localhost:8080/"
        }
      },
      "source": [
        "# LOOK AT THE FASTAI API\n",
        "\n",
        "add_datepart(df_raw, 'saledate')\n",
        "df_raw.saleYear.head()"
      ],
      "execution_count": 15,
      "outputs": [
        {
          "output_type": "stream",
          "text": [
            "/usr/local/lib/python3.6/dist-packages/fastai/structured.py:114: FutureWarning: Series.dt.weekofyear and Series.dt.week have been deprecated.  Please use Series.dt.isocalendar().week instead.\n",
            "  for n in attr: df[targ_pre + n] = getattr(fld.dt, n.lower())\n"
          ],
          "name": "stderr"
        },
        {
          "output_type": "execute_result",
          "data": {
            "text/plain": [
              "0    2006\n",
              "1    2004\n",
              "2    2004\n",
              "3    2011\n",
              "4    2009\n",
              "Name: saleYear, dtype: int64"
            ]
          },
          "metadata": {
            "tags": []
          },
          "execution_count": 15
        }
      ]
    },
    {
      "cell_type": "markdown",
      "metadata": {
        "hidden": true,
        "id": "WGEJPZNVgyCO"
      },
      "source": [
        "The categorical variables are currently stored as strings, which is inefficient, and doesn't provide the numeric coding required for a random forest. Therefore we call `train_cats` to convert strings to pandas categories."
      ]
    },
    {
      "cell_type": "code",
      "metadata": {
        "hidden": true,
        "id": "MKclO7XSgyCO"
      },
      "source": [
        "#take a column, and a map from integer to categories. \n",
        "# replace each value by an int. \n",
        "# train/test should have same mappings. \n",
        "train_cats(df_raw)\n"
      ],
      "execution_count": 16,
      "outputs": []
    },
    {
      "cell_type": "markdown",
      "metadata": {
        "hidden": true,
        "id": "IYtAzbIngyCR"
      },
      "source": [
        "We can specify the order to use for categorical variables if we wish:"
      ]
    },
    {
      "cell_type": "code",
      "metadata": {
        "hidden": true,
        "id": "OmeT1TaIgyCR",
        "outputId": "c1579d19-6471-41c8-8241-9e94dccdc301",
        "colab": {
          "base_uri": "https://localhost:8080/",
          "height": 34
        }
      },
      "source": [
        "df_raw.UsageBand.cat.categories"
      ],
      "execution_count": null,
      "outputs": [
        {
          "output_type": "execute_result",
          "data": {
            "text/plain": [
              "Index(['High', 'Low', 'Medium'], dtype='object')"
            ]
          },
          "metadata": {
            "tags": []
          },
          "execution_count": 9
        }
      ]
    },
    {
      "cell_type": "code",
      "metadata": {
        "id": "r3uuhczn136P",
        "outputId": "0006cc94-b63e-4f4d-9d45-2df0f844cda2",
        "colab": {
          "base_uri": "https://localhost:8080/",
          "height": 238
        }
      },
      "source": [
        "print(df_raw.UsageBand)"
      ],
      "execution_count": null,
      "outputs": [
        {
          "output_type": "stream",
          "text": [
            "0            Low\n",
            "1            Low\n",
            "2           High\n",
            "3           High\n",
            "4         Medium\n",
            "           ...  \n",
            "401120       NaN\n",
            "401121       NaN\n",
            "401122       NaN\n",
            "401123       NaN\n",
            "401124       NaN\n",
            "Name: UsageBand, Length: 401125, dtype: category\n",
            "Categories (3, object): ['High' < 'Low' < 'Medium']\n"
          ],
          "name": "stdout"
        }
      ]
    },
    {
      "cell_type": "markdown",
      "metadata": {
        "id": "zmyZ6Ooz4Otg"
      },
      "source": [
        "**Ordinal Categorical variables.**\n",
        "\n",
        "Categories which have some order. "
      ]
    },
    {
      "cell_type": "code",
      "metadata": {
        "hidden": true,
        "id": "iSDRB3AmgyCT"
      },
      "source": [
        "df_raw.UsageBand.cat.set_categories(['High', 'Medium', 'Low'], ordered=True, inplace=True)"
      ],
      "execution_count": null,
      "outputs": []
    },
    {
      "cell_type": "code",
      "metadata": {
        "hidden": true,
        "id": "YigggwnMgyCW"
      },
      "source": [
        "df_raw.UsageBand = df_raw.UsageBand.cat.codes\n"
      ],
      "execution_count": null,
      "outputs": []
    },
    {
      "cell_type": "code",
      "metadata": {
        "id": "IRVLyrVl304v",
        "outputId": "da69082c-726d-47d7-ac09-1039b1bcc26a",
        "colab": {
          "base_uri": "https://localhost:8080/",
          "height": 221
        }
      },
      "source": [
        "df_raw.UsageBand"
      ],
      "execution_count": null,
      "outputs": [
        {
          "output_type": "execute_result",
          "data": {
            "text/plain": [
              "0         2\n",
              "1         2\n",
              "2         0\n",
              "3         0\n",
              "4         1\n",
              "         ..\n",
              "401120   -1\n",
              "401121   -1\n",
              "401122   -1\n",
              "401123   -1\n",
              "401124   -1\n",
              "Name: UsageBand, Length: 401125, dtype: int8"
            ]
          },
          "metadata": {
            "tags": []
          },
          "execution_count": 13
        }
      ]
    },
    {
      "cell_type": "markdown",
      "metadata": {
        "hidden": true,
        "id": "kigJLOxYgyCY"
      },
      "source": [
        "We're still not quite done - for instance we have lots of missing values, wish we can't pass directly to a random forest."
      ]
    },
    {
      "cell_type": "code",
      "metadata": {
        "hidden": true,
        "scrolled": true,
        "id": "4qidSE9XgyCY",
        "outputId": "c0425896-f375-4ae3-e1b2-9aaef8943e6f"
      },
      "source": [
        "#percentages of things which have nulls in them \n",
        "display_all(df_raw.isnull().sum().sort_index()/len(df_raw))"
      ],
      "execution_count": null,
      "outputs": [
        {
          "output_type": "display_data",
          "data": {
            "text/plain": [
              "Backhoe_Mounting            0.803872\n",
              "Blade_Extension             0.937129\n",
              "Blade_Type                  0.800977\n",
              "Blade_Width                 0.937129\n",
              "Coupler                     0.466620\n",
              "Coupler_System              0.891660\n",
              "Differential_Type           0.826959\n",
              "Drive_System                0.739829\n",
              "Enclosure                   0.000810\n",
              "Enclosure_Type              0.937129\n",
              "Engine_Horsepower           0.937129\n",
              "Forks                       0.521154\n",
              "Grouser_Tracks              0.891899\n",
              "Grouser_Type                0.752813\n",
              "Hydraulics                  0.200823\n",
              "Hydraulics_Flow             0.891899\n",
              "MachineHoursCurrentMeter    0.644089\n",
              "MachineID                   0.000000\n",
              "ModelID                     0.000000\n",
              "Pad_Type                    0.802720\n",
              "Pattern_Changer             0.752651\n",
              "ProductGroup                0.000000\n",
              "ProductGroupDesc            0.000000\n",
              "ProductSize                 0.525460\n",
              "Pushblock                   0.937129\n",
              "Ride_Control                0.629527\n",
              "Ripper                      0.740388\n",
              "SalePrice                   0.000000\n",
              "SalesID                     0.000000\n",
              "Scarifier                   0.937102\n",
              "Steering_Controls           0.827064\n",
              "Stick                       0.802720\n",
              "Stick_Length                0.752651\n",
              "Thumb                       0.752476\n",
              "Tip_Control                 0.937129\n",
              "Tire_Size                   0.763869\n",
              "Track_Type                  0.752813\n",
              "Transmission                0.543210\n",
              "Travel_Controls             0.800975\n",
              "Turbocharged                0.802720\n",
              "Undercarriage_Pad_Width     0.751020\n",
              "UsageBand                   0.826391\n",
              "YearMade                    0.000000\n",
              "auctioneerID                0.050199\n",
              "datasource                  0.000000\n",
              "fiBaseModel                 0.000000\n",
              "fiModelDesc                 0.000000\n",
              "fiModelDescriptor           0.820707\n",
              "fiModelSeries               0.858129\n",
              "fiProductClassDesc          0.000000\n",
              "fiSecondaryDesc             0.342016\n",
              "saleDay                     0.000000\n",
              "saleDayofweek               0.000000\n",
              "saleDayofyear               0.000000\n",
              "saleElapsed                 0.000000\n",
              "saleIs_month_end            0.000000\n",
              "saleIs_month_start          0.000000\n",
              "saleIs_quarter_end          0.000000\n",
              "saleIs_quarter_start        0.000000\n",
              "saleIs_year_end             0.000000\n",
              "saleIs_year_start           0.000000\n",
              "saleMonth                   0.000000\n",
              "saleWeek                    0.000000\n",
              "saleYear                    0.000000\n",
              "state                       0.000000\n",
              "dtype: float64"
            ]
          },
          "metadata": {
            "tags": []
          }
        }
      ]
    },
    {
      "cell_type": "markdown",
      "metadata": {
        "hidden": true,
        "id": "xRnyAZXmgyCa"
      },
      "source": [
        "But let's save this file for now, since it's already in format can we be stored and accessed efficiently."
      ]
    },
    {
      "cell_type": "code",
      "metadata": {
        "hidden": true,
        "id": "eTw7WRmJgyCb"
      },
      "source": [
        "#Feather format is something new \n",
        "os.makedirs('tmp', exist_ok=True)\n",
        "df_raw.to_feather('tmp/bulldozers-raw')"
      ],
      "execution_count": 17,
      "outputs": []
    },
    {
      "cell_type": "markdown",
      "metadata": {
        "heading_collapsed": true,
        "id": "6mfZpfhfgyCe"
      },
      "source": [
        "### Pre-processing"
      ]
    },
    {
      "cell_type": "markdown",
      "metadata": {
        "hidden": true,
        "id": "_KNyaLJWgyCe"
      },
      "source": [
        "In the future we can simply read it from this fast format."
      ]
    },
    {
      "cell_type": "code",
      "metadata": {
        "hidden": true,
        "id": "gLuMeiESgyCe"
      },
      "source": [
        "df_raw = pd.read_feather('tmp/bulldozers-raw')"
      ],
      "execution_count": null,
      "outputs": []
    },
    {
      "cell_type": "markdown",
      "metadata": {
        "hidden": true,
        "id": "HDgJjXZsgyCh"
      },
      "source": [
        "We'll replace categories with their numeric codes, handle missing continuous values, and split the dependent variable into a separate variable."
      ]
    },
    {
      "cell_type": "code",
      "metadata": {
        "hidden": true,
        "id": "qJQaJcbTgyCh"
      },
      "source": [
        "# if number col, contains missing val, replace by median . Create a new col of true/false\n",
        "#if categorical, replace by codes assigned.\n",
        "df, y, nas = proc_df(df_raw, 'SalePrice')"
      ],
      "execution_count": 18,
      "outputs": []
    },
    {
      "cell_type": "markdown",
      "metadata": {
        "hidden": true,
        "id": "FBRSjmrogyCj"
      },
      "source": [
        "We now have something we can pass to a random forest!"
      ]
    },
    {
      "cell_type": "code",
      "metadata": {
        "id": "-dZ8eAV47oUh",
        "outputId": "0b1feefd-fb5c-4aac-a3fb-39f34398c8f6",
        "colab": {
          "base_uri": "https://localhost:8080/"
        }
      },
      "source": [
        "df.columns\n",
        "#saleprice not there"
      ],
      "execution_count": null,
      "outputs": [
        {
          "output_type": "execute_result",
          "data": {
            "text/plain": [
              "Index(['SalesID', 'MachineID', 'ModelID', 'datasource', 'auctioneerID',\n",
              "       'YearMade', 'MachineHoursCurrentMeter', 'UsageBand', 'fiModelDesc',\n",
              "       'fiBaseModel', 'fiSecondaryDesc', 'fiModelSeries', 'fiModelDescriptor',\n",
              "       'ProductSize', 'fiProductClassDesc', 'state', 'ProductGroup',\n",
              "       'ProductGroupDesc', 'Drive_System', 'Enclosure', 'Forks', 'Pad_Type',\n",
              "       'Ride_Control', 'Stick', 'Transmission', 'Turbocharged',\n",
              "       'Blade_Extension', 'Blade_Width', 'Enclosure_Type', 'Engine_Horsepower',\n",
              "       'Hydraulics', 'Pushblock', 'Ripper', 'Scarifier', 'Tip_Control',\n",
              "       'Tire_Size', 'Coupler', 'Coupler_System', 'Grouser_Tracks',\n",
              "       'Hydraulics_Flow', 'Track_Type', 'Undercarriage_Pad_Width',\n",
              "       'Stick_Length', 'Thumb', 'Pattern_Changer', 'Grouser_Type',\n",
              "       'Backhoe_Mounting', 'Blade_Type', 'Travel_Controls',\n",
              "       'Differential_Type', 'Steering_Controls', 'saleYear', 'saleMonth',\n",
              "       'saleWeek', 'saleDay', 'saleDayofweek', 'saleDayofyear',\n",
              "       'saleIs_month_end', 'saleIs_month_start', 'saleIs_quarter_end',\n",
              "       'saleIs_quarter_start', 'saleIs_year_end', 'saleIs_year_start',\n",
              "       'saleElapsed', 'auctioneerID_na', 'MachineHoursCurrentMeter_na'],\n",
              "      dtype='object')"
            ]
          },
          "metadata": {
            "tags": []
          },
          "execution_count": 19
        }
      ]
    },
    {
      "cell_type": "code",
      "metadata": {
        "id": "HTl1Wk7x8DEo",
        "outputId": "681106c7-a4ae-49bc-bb54-dc7b53a2fb84",
        "colab": {
          "base_uri": "https://localhost:8080/",
          "height": 224
        }
      },
      "source": [
        "df.head()"
      ],
      "execution_count": null,
      "outputs": [
        {
          "output_type": "execute_result",
          "data": {
            "text/html": [
              "<div>\n",
              "<style scoped>\n",
              "    .dataframe tbody tr th:only-of-type {\n",
              "        vertical-align: middle;\n",
              "    }\n",
              "\n",
              "    .dataframe tbody tr th {\n",
              "        vertical-align: top;\n",
              "    }\n",
              "\n",
              "    .dataframe thead th {\n",
              "        text-align: right;\n",
              "    }\n",
              "</style>\n",
              "<table border=\"1\" class=\"dataframe\">\n",
              "  <thead>\n",
              "    <tr style=\"text-align: right;\">\n",
              "      <th></th>\n",
              "      <th>SalesID</th>\n",
              "      <th>MachineID</th>\n",
              "      <th>ModelID</th>\n",
              "      <th>datasource</th>\n",
              "      <th>auctioneerID</th>\n",
              "      <th>YearMade</th>\n",
              "      <th>MachineHoursCurrentMeter</th>\n",
              "      <th>UsageBand</th>\n",
              "      <th>fiModelDesc</th>\n",
              "      <th>fiBaseModel</th>\n",
              "      <th>fiSecondaryDesc</th>\n",
              "      <th>fiModelSeries</th>\n",
              "      <th>fiModelDescriptor</th>\n",
              "      <th>ProductSize</th>\n",
              "      <th>fiProductClassDesc</th>\n",
              "      <th>state</th>\n",
              "      <th>ProductGroup</th>\n",
              "      <th>ProductGroupDesc</th>\n",
              "      <th>Drive_System</th>\n",
              "      <th>Enclosure</th>\n",
              "      <th>Forks</th>\n",
              "      <th>Pad_Type</th>\n",
              "      <th>Ride_Control</th>\n",
              "      <th>Stick</th>\n",
              "      <th>Transmission</th>\n",
              "      <th>Turbocharged</th>\n",
              "      <th>Blade_Extension</th>\n",
              "      <th>Blade_Width</th>\n",
              "      <th>Enclosure_Type</th>\n",
              "      <th>Engine_Horsepower</th>\n",
              "      <th>Hydraulics</th>\n",
              "      <th>Pushblock</th>\n",
              "      <th>Ripper</th>\n",
              "      <th>Scarifier</th>\n",
              "      <th>Tip_Control</th>\n",
              "      <th>Tire_Size</th>\n",
              "      <th>Coupler</th>\n",
              "      <th>Coupler_System</th>\n",
              "      <th>Grouser_Tracks</th>\n",
              "      <th>Hydraulics_Flow</th>\n",
              "      <th>Track_Type</th>\n",
              "      <th>Undercarriage_Pad_Width</th>\n",
              "      <th>Stick_Length</th>\n",
              "      <th>Thumb</th>\n",
              "      <th>Pattern_Changer</th>\n",
              "      <th>Grouser_Type</th>\n",
              "      <th>Backhoe_Mounting</th>\n",
              "      <th>Blade_Type</th>\n",
              "      <th>Travel_Controls</th>\n",
              "      <th>Differential_Type</th>\n",
              "      <th>Steering_Controls</th>\n",
              "      <th>saleYear</th>\n",
              "      <th>saleMonth</th>\n",
              "      <th>saleWeek</th>\n",
              "      <th>saleDay</th>\n",
              "      <th>saleDayofweek</th>\n",
              "      <th>saleDayofyear</th>\n",
              "      <th>saleIs_month_end</th>\n",
              "      <th>saleIs_month_start</th>\n",
              "      <th>saleIs_quarter_end</th>\n",
              "      <th>saleIs_quarter_start</th>\n",
              "      <th>saleIs_year_end</th>\n",
              "      <th>saleIs_year_start</th>\n",
              "      <th>saleElapsed</th>\n",
              "      <th>auctioneerID_na</th>\n",
              "      <th>MachineHoursCurrentMeter_na</th>\n",
              "    </tr>\n",
              "  </thead>\n",
              "  <tbody>\n",
              "    <tr>\n",
              "      <th>0</th>\n",
              "      <td>1139246</td>\n",
              "      <td>999089</td>\n",
              "      <td>3157</td>\n",
              "      <td>121</td>\n",
              "      <td>3.0</td>\n",
              "      <td>2004</td>\n",
              "      <td>68.0</td>\n",
              "      <td>2</td>\n",
              "      <td>950</td>\n",
              "      <td>296</td>\n",
              "      <td>41</td>\n",
              "      <td>0</td>\n",
              "      <td>0</td>\n",
              "      <td>0</td>\n",
              "      <td>59</td>\n",
              "      <td>1</td>\n",
              "      <td>6</td>\n",
              "      <td>6</td>\n",
              "      <td>0</td>\n",
              "      <td>3</td>\n",
              "      <td>1</td>\n",
              "      <td>0</td>\n",
              "      <td>2</td>\n",
              "      <td>0</td>\n",
              "      <td>0</td>\n",
              "      <td>0</td>\n",
              "      <td>0</td>\n",
              "      <td>0</td>\n",
              "      <td>0</td>\n",
              "      <td>0</td>\n",
              "      <td>1</td>\n",
              "      <td>0</td>\n",
              "      <td>0</td>\n",
              "      <td>0</td>\n",
              "      <td>0</td>\n",
              "      <td>17</td>\n",
              "      <td>3</td>\n",
              "      <td>0</td>\n",
              "      <td>0</td>\n",
              "      <td>0</td>\n",
              "      <td>0</td>\n",
              "      <td>0</td>\n",
              "      <td>0</td>\n",
              "      <td>0</td>\n",
              "      <td>0</td>\n",
              "      <td>0</td>\n",
              "      <td>0</td>\n",
              "      <td>0</td>\n",
              "      <td>0</td>\n",
              "      <td>4</td>\n",
              "      <td>2</td>\n",
              "      <td>2006</td>\n",
              "      <td>11</td>\n",
              "      <td>46</td>\n",
              "      <td>16</td>\n",
              "      <td>3</td>\n",
              "      <td>320</td>\n",
              "      <td>False</td>\n",
              "      <td>False</td>\n",
              "      <td>False</td>\n",
              "      <td>False</td>\n",
              "      <td>False</td>\n",
              "      <td>False</td>\n",
              "      <td>1163635200</td>\n",
              "      <td>False</td>\n",
              "      <td>False</td>\n",
              "    </tr>\n",
              "    <tr>\n",
              "      <th>1</th>\n",
              "      <td>1139248</td>\n",
              "      <td>117657</td>\n",
              "      <td>77</td>\n",
              "      <td>121</td>\n",
              "      <td>3.0</td>\n",
              "      <td>1996</td>\n",
              "      <td>4640.0</td>\n",
              "      <td>2</td>\n",
              "      <td>1725</td>\n",
              "      <td>527</td>\n",
              "      <td>55</td>\n",
              "      <td>98</td>\n",
              "      <td>0</td>\n",
              "      <td>4</td>\n",
              "      <td>62</td>\n",
              "      <td>33</td>\n",
              "      <td>6</td>\n",
              "      <td>6</td>\n",
              "      <td>0</td>\n",
              "      <td>3</td>\n",
              "      <td>1</td>\n",
              "      <td>0</td>\n",
              "      <td>2</td>\n",
              "      <td>0</td>\n",
              "      <td>0</td>\n",
              "      <td>0</td>\n",
              "      <td>0</td>\n",
              "      <td>0</td>\n",
              "      <td>0</td>\n",
              "      <td>0</td>\n",
              "      <td>1</td>\n",
              "      <td>0</td>\n",
              "      <td>0</td>\n",
              "      <td>0</td>\n",
              "      <td>0</td>\n",
              "      <td>12</td>\n",
              "      <td>3</td>\n",
              "      <td>0</td>\n",
              "      <td>0</td>\n",
              "      <td>0</td>\n",
              "      <td>0</td>\n",
              "      <td>0</td>\n",
              "      <td>0</td>\n",
              "      <td>0</td>\n",
              "      <td>0</td>\n",
              "      <td>0</td>\n",
              "      <td>0</td>\n",
              "      <td>0</td>\n",
              "      <td>0</td>\n",
              "      <td>4</td>\n",
              "      <td>2</td>\n",
              "      <td>2004</td>\n",
              "      <td>3</td>\n",
              "      <td>13</td>\n",
              "      <td>26</td>\n",
              "      <td>4</td>\n",
              "      <td>86</td>\n",
              "      <td>False</td>\n",
              "      <td>False</td>\n",
              "      <td>False</td>\n",
              "      <td>False</td>\n",
              "      <td>False</td>\n",
              "      <td>False</td>\n",
              "      <td>1080259200</td>\n",
              "      <td>False</td>\n",
              "      <td>False</td>\n",
              "    </tr>\n",
              "    <tr>\n",
              "      <th>2</th>\n",
              "      <td>1139249</td>\n",
              "      <td>434808</td>\n",
              "      <td>7009</td>\n",
              "      <td>121</td>\n",
              "      <td>3.0</td>\n",
              "      <td>2001</td>\n",
              "      <td>2838.0</td>\n",
              "      <td>0</td>\n",
              "      <td>331</td>\n",
              "      <td>110</td>\n",
              "      <td>0</td>\n",
              "      <td>0</td>\n",
              "      <td>0</td>\n",
              "      <td>0</td>\n",
              "      <td>39</td>\n",
              "      <td>32</td>\n",
              "      <td>3</td>\n",
              "      <td>3</td>\n",
              "      <td>0</td>\n",
              "      <td>6</td>\n",
              "      <td>1</td>\n",
              "      <td>0</td>\n",
              "      <td>0</td>\n",
              "      <td>0</td>\n",
              "      <td>0</td>\n",
              "      <td>0</td>\n",
              "      <td>0</td>\n",
              "      <td>0</td>\n",
              "      <td>0</td>\n",
              "      <td>0</td>\n",
              "      <td>4</td>\n",
              "      <td>0</td>\n",
              "      <td>0</td>\n",
              "      <td>0</td>\n",
              "      <td>0</td>\n",
              "      <td>0</td>\n",
              "      <td>3</td>\n",
              "      <td>1</td>\n",
              "      <td>1</td>\n",
              "      <td>3</td>\n",
              "      <td>0</td>\n",
              "      <td>0</td>\n",
              "      <td>0</td>\n",
              "      <td>0</td>\n",
              "      <td>0</td>\n",
              "      <td>0</td>\n",
              "      <td>0</td>\n",
              "      <td>0</td>\n",
              "      <td>0</td>\n",
              "      <td>0</td>\n",
              "      <td>0</td>\n",
              "      <td>2004</td>\n",
              "      <td>2</td>\n",
              "      <td>9</td>\n",
              "      <td>26</td>\n",
              "      <td>3</td>\n",
              "      <td>57</td>\n",
              "      <td>False</td>\n",
              "      <td>False</td>\n",
              "      <td>False</td>\n",
              "      <td>False</td>\n",
              "      <td>False</td>\n",
              "      <td>False</td>\n",
              "      <td>1077753600</td>\n",
              "      <td>False</td>\n",
              "      <td>False</td>\n",
              "    </tr>\n",
              "    <tr>\n",
              "      <th>3</th>\n",
              "      <td>1139251</td>\n",
              "      <td>1026470</td>\n",
              "      <td>332</td>\n",
              "      <td>121</td>\n",
              "      <td>3.0</td>\n",
              "      <td>2001</td>\n",
              "      <td>3486.0</td>\n",
              "      <td>0</td>\n",
              "      <td>3674</td>\n",
              "      <td>1375</td>\n",
              "      <td>0</td>\n",
              "      <td>45</td>\n",
              "      <td>0</td>\n",
              "      <td>6</td>\n",
              "      <td>8</td>\n",
              "      <td>44</td>\n",
              "      <td>4</td>\n",
              "      <td>4</td>\n",
              "      <td>0</td>\n",
              "      <td>3</td>\n",
              "      <td>0</td>\n",
              "      <td>0</td>\n",
              "      <td>0</td>\n",
              "      <td>0</td>\n",
              "      <td>0</td>\n",
              "      <td>0</td>\n",
              "      <td>0</td>\n",
              "      <td>0</td>\n",
              "      <td>0</td>\n",
              "      <td>0</td>\n",
              "      <td>1</td>\n",
              "      <td>0</td>\n",
              "      <td>0</td>\n",
              "      <td>0</td>\n",
              "      <td>0</td>\n",
              "      <td>0</td>\n",
              "      <td>3</td>\n",
              "      <td>0</td>\n",
              "      <td>0</td>\n",
              "      <td>0</td>\n",
              "      <td>0</td>\n",
              "      <td>0</td>\n",
              "      <td>0</td>\n",
              "      <td>0</td>\n",
              "      <td>0</td>\n",
              "      <td>0</td>\n",
              "      <td>0</td>\n",
              "      <td>0</td>\n",
              "      <td>0</td>\n",
              "      <td>0</td>\n",
              "      <td>0</td>\n",
              "      <td>2011</td>\n",
              "      <td>5</td>\n",
              "      <td>20</td>\n",
              "      <td>19</td>\n",
              "      <td>3</td>\n",
              "      <td>139</td>\n",
              "      <td>False</td>\n",
              "      <td>False</td>\n",
              "      <td>False</td>\n",
              "      <td>False</td>\n",
              "      <td>False</td>\n",
              "      <td>False</td>\n",
              "      <td>1305763200</td>\n",
              "      <td>False</td>\n",
              "      <td>False</td>\n",
              "    </tr>\n",
              "    <tr>\n",
              "      <th>4</th>\n",
              "      <td>1139253</td>\n",
              "      <td>1057373</td>\n",
              "      <td>17311</td>\n",
              "      <td>121</td>\n",
              "      <td>3.0</td>\n",
              "      <td>2007</td>\n",
              "      <td>722.0</td>\n",
              "      <td>1</td>\n",
              "      <td>4208</td>\n",
              "      <td>1529</td>\n",
              "      <td>0</td>\n",
              "      <td>0</td>\n",
              "      <td>0</td>\n",
              "      <td>0</td>\n",
              "      <td>40</td>\n",
              "      <td>32</td>\n",
              "      <td>3</td>\n",
              "      <td>3</td>\n",
              "      <td>0</td>\n",
              "      <td>1</td>\n",
              "      <td>1</td>\n",
              "      <td>0</td>\n",
              "      <td>0</td>\n",
              "      <td>0</td>\n",
              "      <td>0</td>\n",
              "      <td>0</td>\n",
              "      <td>0</td>\n",
              "      <td>0</td>\n",
              "      <td>0</td>\n",
              "      <td>0</td>\n",
              "      <td>4</td>\n",
              "      <td>0</td>\n",
              "      <td>0</td>\n",
              "      <td>0</td>\n",
              "      <td>0</td>\n",
              "      <td>0</td>\n",
              "      <td>3</td>\n",
              "      <td>1</td>\n",
              "      <td>1</td>\n",
              "      <td>3</td>\n",
              "      <td>0</td>\n",
              "      <td>0</td>\n",
              "      <td>0</td>\n",
              "      <td>0</td>\n",
              "      <td>0</td>\n",
              "      <td>0</td>\n",
              "      <td>0</td>\n",
              "      <td>0</td>\n",
              "      <td>0</td>\n",
              "      <td>0</td>\n",
              "      <td>0</td>\n",
              "      <td>2009</td>\n",
              "      <td>7</td>\n",
              "      <td>30</td>\n",
              "      <td>23</td>\n",
              "      <td>3</td>\n",
              "      <td>204</td>\n",
              "      <td>False</td>\n",
              "      <td>False</td>\n",
              "      <td>False</td>\n",
              "      <td>False</td>\n",
              "      <td>False</td>\n",
              "      <td>False</td>\n",
              "      <td>1248307200</td>\n",
              "      <td>False</td>\n",
              "      <td>False</td>\n",
              "    </tr>\n",
              "  </tbody>\n",
              "</table>\n",
              "</div>"
            ],
            "text/plain": [
              "   SalesID  MachineID  ...  auctioneerID_na  MachineHoursCurrentMeter_na\n",
              "0  1139246     999089  ...            False                        False\n",
              "1  1139248     117657  ...            False                        False\n",
              "2  1139249     434808  ...            False                        False\n",
              "3  1139251    1026470  ...            False                        False\n",
              "4  1139253    1057373  ...            False                        False\n",
              "\n",
              "[5 rows x 66 columns]"
            ]
          },
          "metadata": {
            "tags": []
          },
          "execution_count": 20
        }
      ]
    },
    {
      "cell_type": "code",
      "metadata": {
        "hidden": true,
        "id": "1c7bmTK_gyCj",
        "outputId": "834f2ef2-cd77-4b53-d9db-93ceb22ace6f",
        "colab": {
          "base_uri": "https://localhost:8080/"
        }
      },
      "source": [
        "# As long as dataframe is numbers, we are good. \n",
        "# N_jobs: create a separate process for each cpu.\n",
        "m = RandomForestRegressor(n_jobs=-1)\n",
        "m.fit(df, y)\n",
        "m.score(df,y)\n"
      ],
      "execution_count": 19,
      "outputs": [
        {
          "output_type": "stream",
          "text": [
            "/usr/local/lib/python3.6/dist-packages/sklearn/ensemble/forest.py:245: FutureWarning: The default value of n_estimators will change from 10 in version 0.20 to 100 in 0.22.\n",
            "  \"10 in version 0.20 to 100 in 0.22.\", FutureWarning)\n"
          ],
          "name": "stderr"
        },
        {
          "output_type": "execute_result",
          "data": {
            "text/plain": [
              "0.9830843580440963"
            ]
          },
          "metadata": {
            "tags": []
          },
          "execution_count": 19
        }
      ]
    },
    {
      "cell_type": "markdown",
      "metadata": {
        "id": "8muYlfkf9mH8"
      },
      "source": [
        "**This is training accuracy, might be indicative of overfitting**"
      ]
    },
    {
      "cell_type": "markdown",
      "metadata": {
        "hidden": true,
        "id": "yFgCiCPNgyCl"
      },
      "source": [
        "*todo* define r^2\n",
        "\n",
        "- By def. scikit evaluates r2, which is coefficient of determination, see its meaning on wikipedia. \n",
        "- The denominator shows the most crappy model we would make. We could make each prediction as the mean of the sale price col. Then den denotes error rate. At that time, R2 will be zero.\n",
        "- In best case, num has no error. R->1\n",
        "- It can be as negative as we want. There is no limit to how much crappy model we can make. \n",
        "- But the value of 1 shall be the peak. "
      ]
    },
    {
      "cell_type": "markdown",
      "metadata": {
        "hidden": true,
        "id": "VzJtOEzqgyCl"
      },
      "source": [
        "Wow, an r^2 of 0.98 - that's great, right? Well, perhaps not...\n",
        "\n",
        "Possibly **the most important idea** in machine learning is that of having separate training & validation data sets. As motivation, suppose you don't divide up your data, but instead use all of it.  And suppose you have lots of parameters:\n",
        "\n",
        "<img src=\"/content/ml-collection/NITHamirpur/notebooks/images/overfitting2.png\" alt=\"\" style=\"width: 70%\"/>\n",
        "<center>\n",
        "[Underfitting and Overfitting](https://i.stack.imgur.com/t0zit.png)\n",
        "</center>\n",
        "\n",
        "The error for the pictured data points is lowest for the model on the far right (the blue curve passes through the red points almost perfectly), yet it's not the best choice.  Why is that?  If you were to gather some new data points, they most likely would not be on that curve in the graph on the right, but would be closer to the curve in the middle graph.\n",
        "\n",
        "This illustrates how using all our data can lead to **overfitting**. A validation set helps diagnose this problem."
      ]
    },
    {
      "cell_type": "code",
      "metadata": {
        "hidden": true,
        "id": "2Ys8Cp2_gyCm",
        "outputId": "66293d93-9a4f-4858-8fd4-7af12eec269e",
        "colab": {
          "base_uri": "https://localhost:8080/"
        }
      },
      "source": [
        "def split_vals(a,n): return a[:n].copy(), a[n:].copy()\n",
        "\n",
        "n_valid = 12000  # same as Kaggle's test set size\n",
        "n_trn = len(df)-n_valid\n",
        "raw_train, raw_valid = split_vals(df_raw, n_trn)\n",
        "X_train, X_valid = split_vals(df, n_trn)\n",
        "y_train, y_valid = split_vals(y, n_trn)\n",
        "\n",
        "X_train.shape, y_train.shape, X_valid.shape"
      ],
      "execution_count": 20,
      "outputs": [
        {
          "output_type": "execute_result",
          "data": {
            "text/plain": [
              "((389125, 66), (389125,), (12000, 66))"
            ]
          },
          "metadata": {
            "tags": []
          },
          "execution_count": 20
        }
      ]
    },
    {
      "cell_type": "markdown",
      "metadata": {
        "id": "-BiDd09JgyCo"
      },
      "source": [
        "# Random Forests"
      ]
    },
    {
      "cell_type": "markdown",
      "metadata": {
        "heading_collapsed": true,
        "id": "WTtI2qLegyCo"
      },
      "source": [
        "## Base model"
      ]
    },
    {
      "cell_type": "markdown",
      "metadata": {
        "hidden": true,
        "id": "dXMCQHW9gyCp"
      },
      "source": [
        "Let's try our model again, this time with separate training and validation sets."
      ]
    },
    {
      "cell_type": "code",
      "metadata": {
        "hidden": true,
        "id": "YZ8wdDHAgyCp"
      },
      "source": [
        "def rmse(x,y): return math.sqrt(((x-y)**2).mean())\n",
        "\n",
        "def print_score(m):\n",
        "    res = [rmse(m.predict(X_train), y_train), rmse(m.predict(X_valid), y_valid),\n",
        "                m.score(X_train, y_train), m.score(X_valid, y_valid)]\n",
        "    if hasattr(m, 'oob_score_'): res.append(m.oob_score_)\n",
        "    print(res)"
      ],
      "execution_count": 21,
      "outputs": []
    },
    {
      "cell_type": "code",
      "metadata": {
        "hidden": true,
        "id": "mshtgh0sgyCr",
        "outputId": "f85f1427-c06d-459f-aae2-8fe1e7370566",
        "colab": {
          "base_uri": "https://localhost:8080/"
        }
      },
      "source": [
        "m = RandomForestRegressor(n_jobs=-1)\n",
        "%time m.fit(X_train, y_train)\n",
        "print_score(m)"
      ],
      "execution_count": 22,
      "outputs": [
        {
          "output_type": "stream",
          "text": [
            "/usr/local/lib/python3.6/dist-packages/sklearn/ensemble/forest.py:245: FutureWarning: The default value of n_estimators will change from 10 in version 0.20 to 100 in 0.22.\n",
            "  \"10 in version 0.20 to 100 in 0.22.\", FutureWarning)\n"
          ],
          "name": "stderr"
        },
        {
          "output_type": "stream",
          "text": [
            "CPU times: user 1min 46s, sys: 143 ms, total: 1min 46s\n",
            "Wall time: 54.5 s\n",
            "[0.09057785968978412, 0.24921597892698982, 0.9828533637540025, 0.8890825841419947]\n"
          ],
          "name": "stdout"
        }
      ]
    },
    {
      "cell_type": "markdown",
      "metadata": {
        "hidden": true,
        "id": "7_TtXz5igyCt"
      },
      "source": [
        "An r^2 in the high-80's isn't bad at all (and the RMSLE puts us around rank 100 of 470 on the Kaggle leaderboard), but we can see from the validation set score that we're over-fitting badly. To understand this issue, let's simplify things down to a single small tree."
      ]
    },
    {
      "cell_type": "markdown",
      "metadata": {
        "heading_collapsed": true,
        "id": "C_nRhAC7gyCt"
      },
      "source": [
        "## Speeding things up"
      ]
    },
    {
      "cell_type": "code",
      "metadata": {
        "hidden": true,
        "id": "hrdoZF_MgyCu"
      },
      "source": [
        "df_trn, y_trn, nas = proc_df(df_raw, 'SalePrice', subset=30000, na_dict=nas)\n",
        "# Q: Why proc_df used again? Because, we take subset. So categorical encoding needs to be done again.\n",
        "# Q: How do we ensure that the train/test categories belong to same set? In case diff, what to do?\n",
        "X_train, _ = split_vals(df_trn, 20000)\n",
        "y_train, _ = split_vals(y_trn, 20000)"
      ],
      "execution_count": 24,
      "outputs": []
    },
    {
      "cell_type": "code",
      "metadata": {
        "hidden": true,
        "id": "2Umbb2ZSgyCw",
        "outputId": "e83c8359-c786-49e1-9a31-42d968545df6",
        "colab": {
          "base_uri": "https://localhost:8080/"
        }
      },
      "source": [
        "m = RandomForestRegressor(n_jobs=-1)\n",
        "%time m.fit(X_train, y_train)\n",
        "print_score(m)"
      ],
      "execution_count": 25,
      "outputs": [
        {
          "output_type": "stream",
          "text": [
            "/usr/local/lib/python3.6/dist-packages/sklearn/ensemble/forest.py:245: FutureWarning: The default value of n_estimators will change from 10 in version 0.20 to 100 in 0.22.\n",
            "  \"10 in version 0.20 to 100 in 0.22.\", FutureWarning)\n"
          ],
          "name": "stderr"
        },
        {
          "output_type": "stream",
          "text": [
            "CPU times: user 4.22 s, sys: 10.1 ms, total: 4.23 s\n",
            "Wall time: 2.28 s\n",
            "[0.11390349805874513, 0.3669772319967548, 0.9716340943044683, 0.7594938339761046]\n"
          ],
          "name": "stdout"
        }
      ]
    },
    {
      "cell_type": "markdown",
      "metadata": {
        "id": "0eQOZ9Stp9Kv"
      },
      "source": [
        "So, code runs in ~2 sec now. But, RMSE has gone a lot down to ~75."
      ]
    },
    {
      "cell_type": "markdown",
      "metadata": {
        "id": "tXPzU1-5gyC0"
      },
      "source": [
        "## Single tree"
      ]
    },
    {
      "cell_type": "markdown",
      "metadata": {
        "id": "NA_-b3EappKA"
      },
      "source": [
        "Forest contains trees, so let's create it first \n",
        "- no of trees:1\n",
        "- depth: 3 \n",
        "- bootstrap: is randomization needed? No (will explain later)\n",
        "- fit -> data "
      ]
    },
    {
      "cell_type": "code",
      "metadata": {
        "id": "ufRZMtzFgyC1",
        "outputId": "8fa02f95-32af-4fe4-f802-8a01607871e7",
        "colab": {
          "base_uri": "https://localhost:8080/"
        }
      },
      "source": [
        "m = RandomForestRegressor(n_estimators=1, max_depth=3, bootstrap=False, n_jobs=-1)\n",
        "m.fit(X_train, y_train)\n",
        "print_score(m)\n",
        "\n",
        "#rmse train, rmse val, r2 train, r2 val"
      ],
      "execution_count": 26,
      "outputs": [
        {
          "output_type": "stream",
          "text": [
            "[0.5254676002434207, 0.5812143035152137, 0.3963093948050961, 0.3967177309724532]\n"
          ],
          "name": "stdout"
        }
      ]
    },
    {
      "cell_type": "code",
      "metadata": {
        "id": "9Mf71DmJgyC3",
        "outputId": "9c3a52b7-5e31-42e5-e0ec-6cb95f6c5539",
        "colab": {
          "base_uri": "https://localhost:8080/",
          "height": 620
        }
      },
      "source": [
        "draw_tree(m.estimators_[0], df_trn, precision=3)"
      ],
      "execution_count": null,
      "outputs": [
        {
          "output_type": "display_data",
          "data": {
            "text/plain": [
              "<graphviz.files.Source at 0x7f061b5ef898>"
            ],
            "image/svg+xml": "<?xml version=\"1.0\" encoding=\"UTF-8\" standalone=\"no\"?>\n<!DOCTYPE svg PUBLIC \"-//W3C//DTD SVG 1.1//EN\"\n \"http://www.w3.org/Graphics/SVG/1.1/DTD/svg11.dtd\">\n<!-- Generated by graphviz version 2.40.1 (20161225.0304)\n -->\n<!-- Title: Tree Pages: 1 -->\n<svg width=\"720pt\" height=\"434pt\"\n viewBox=\"0.00 0.00 720.00 434.49\" xmlns=\"http://www.w3.org/2000/svg\" xmlns:xlink=\"http://www.w3.org/1999/xlink\">\n<g id=\"graph0\" class=\"graph\" transform=\"scale(.7787 .7787) rotate(0) translate(4 554)\">\n<title>Tree</title>\n<polygon fill=\"#ffffff\" stroke=\"transparent\" points=\"-4,4 -4,-554 920.6667,-554 920.6667,4 -4,4\"/>\n<!-- 0 -->\n<g id=\"node1\" class=\"node\">\n<title>0</title>\n<polygon fill=\"#eca26d\" stroke=\"#000000\" points=\"174.6667,-336.5 28.6667,-336.5 28.6667,-268.5 174.6667,-268.5 174.6667,-336.5\"/>\n<text text-anchor=\"start\" x=\"36.6667\" y=\"-321.3\" font-family=\"Times,serif\" font-size=\"14.00\" fill=\"#000000\">Coupler_System ≤ 0.5</text>\n<text text-anchor=\"start\" x=\"65.1667\" y=\"-306.3\" font-family=\"Times,serif\" font-size=\"14.00\" fill=\"#000000\">mse = 0.458</text>\n<text text-anchor=\"start\" x=\"52.1667\" y=\"-291.3\" font-family=\"Times,serif\" font-size=\"14.00\" fill=\"#000000\">samples = 20000</text>\n<text text-anchor=\"start\" x=\"57.6667\" y=\"-276.3\" font-family=\"Times,serif\" font-size=\"14.00\" fill=\"#000000\">value = 10.113</text>\n</g>\n<!-- 1 -->\n<g id=\"node2\" class=\"node\">\n<title>1</title>\n<polygon fill=\"#ea9b62\" stroke=\"#000000\" points=\"409.1667,-372.5 278.1667,-372.5 278.1667,-304.5 409.1667,-304.5 409.1667,-372.5\"/>\n<text text-anchor=\"start\" x=\"286.1667\" y=\"-357.3\" font-family=\"Times,serif\" font-size=\"14.00\" fill=\"#000000\">YearMade ≤ 1986.5</text>\n<text text-anchor=\"start\" x=\"314.6667\" y=\"-342.3\" font-family=\"Times,serif\" font-size=\"14.00\" fill=\"#000000\">mse = 0.4</text>\n<text text-anchor=\"start\" x=\"294.1667\" y=\"-327.3\" font-family=\"Times,serif\" font-size=\"14.00\" fill=\"#000000\">samples = 18181</text>\n<text text-anchor=\"start\" x=\"299.6667\" y=\"-312.3\" font-family=\"Times,serif\" font-size=\"14.00\" fill=\"#000000\">value = 10.205</text>\n</g>\n<!-- 0&#45;&gt;1 -->\n<g id=\"edge1\" class=\"edge\">\n<title>0&#45;&gt;1</title>\n<path fill=\"none\" stroke=\"#000000\" d=\"M174.9314,-313.3989C204.4281,-317.7868 238.4321,-322.8453 268.1515,-327.2663\"/>\n<polygon fill=\"#000000\" stroke=\"#000000\" points=\"267.6472,-330.7297 278.0533,-328.7393 268.6772,-323.8059 267.6472,-330.7297\"/>\n<text text-anchor=\"middle\" x=\"257.967\" y=\"-339.9235\" font-family=\"Times,serif\" font-size=\"14.00\" fill=\"#000000\">True</text>\n</g>\n<!-- 8 -->\n<g id=\"node9\" class=\"node\">\n<title>8</title>\n<polygon fill=\"#fbede2\" stroke=\"#000000\" points=\"409.1667,-245.5 278.1667,-245.5 278.1667,-177.5 409.1667,-177.5 409.1667,-245.5\"/>\n<text text-anchor=\"start\" x=\"286.1667\" y=\"-230.3\" font-family=\"Times,serif\" font-size=\"14.00\" fill=\"#000000\">YearMade ≤ 1998.5</text>\n<text text-anchor=\"start\" x=\"307.1667\" y=\"-215.3\" font-family=\"Times,serif\" font-size=\"14.00\" fill=\"#000000\">mse = 0.109</text>\n<text text-anchor=\"start\" x=\"298.1667\" y=\"-200.3\" font-family=\"Times,serif\" font-size=\"14.00\" fill=\"#000000\">samples = 1819</text>\n<text text-anchor=\"start\" x=\"303.1667\" y=\"-185.3\" font-family=\"Times,serif\" font-size=\"14.00\" fill=\"#000000\">value = 9.195</text>\n</g>\n<!-- 0&#45;&gt;8 -->\n<g id=\"edge8\" class=\"edge\">\n<title>0&#45;&gt;8</title>\n<path fill=\"none\" stroke=\"#000000\" d=\"M174.9314,-274.95C204.5563,-263.8101 238.7278,-250.9605 268.5389,-239.7505\"/>\n<polygon fill=\"#000000\" stroke=\"#000000\" points=\"269.9251,-242.9686 278.0533,-236.1728 267.4613,-236.4165 269.9251,-242.9686\"/>\n<text text-anchor=\"middle\" x=\"255.2848\" y=\"-222.1483\" font-family=\"Times,serif\" font-size=\"14.00\" fill=\"#000000\">False</text>\n</g>\n<!-- 2 -->\n<g id=\"node3\" class=\"node\">\n<title>2</title>\n<polygon fill=\"#efb388\" stroke=\"#000000\" points=\"664.1667,-486.5 539.1667,-486.5 539.1667,-418.5 664.1667,-418.5 664.1667,-486.5\"/>\n<text text-anchor=\"start\" x=\"547.1667\" y=\"-471.3\" font-family=\"Times,serif\" font-size=\"14.00\" fill=\"#000000\">ModelID ≤ 4178.0</text>\n<text text-anchor=\"start\" x=\"569.1667\" y=\"-456.3\" font-family=\"Times,serif\" font-size=\"14.00\" fill=\"#000000\">mse = 0.34</text>\n<text text-anchor=\"start\" x=\"556.1667\" y=\"-441.3\" font-family=\"Times,serif\" font-size=\"14.00\" fill=\"#000000\">samples = 6170</text>\n<text text-anchor=\"start\" x=\"561.1667\" y=\"-426.3\" font-family=\"Times,serif\" font-size=\"14.00\" fill=\"#000000\">value = 9.904</text>\n</g>\n<!-- 1&#45;&gt;2 -->\n<g id=\"edge2\" class=\"edge\">\n<title>1&#45;&gt;2</title>\n<path fill=\"none\" stroke=\"#000000\" d=\"M409.4385,-367.562C446.186,-383.7993 492.028,-404.055 529.7273,-420.7128\"/>\n<polygon fill=\"#000000\" stroke=\"#000000\" points=\"528.5644,-424.0254 539.1259,-424.8657 531.3936,-417.6226 528.5644,-424.0254\"/>\n</g>\n<!-- 5 -->\n<g id=\"node6\" class=\"node\">\n<title>5</title>\n<polygon fill=\"#e88e4e\" stroke=\"#000000\" points=\"682.1667,-372.5 521.1667,-372.5 521.1667,-304.5 682.1667,-304.5 682.1667,-372.5\"/>\n<text text-anchor=\"start\" x=\"529.1667\" y=\"-357.3\" font-family=\"Times,serif\" font-size=\"14.00\" fill=\"#000000\">fiProductClassDesc ≤ 7.5</text>\n<text text-anchor=\"start\" x=\"565.1667\" y=\"-342.3\" font-family=\"Times,serif\" font-size=\"14.00\" fill=\"#000000\">mse = 0.359</text>\n<text text-anchor=\"start\" x=\"552.6667\" y=\"-327.3\" font-family=\"Times,serif\" font-size=\"14.00\" fill=\"#000000\">samples = 12011</text>\n<text text-anchor=\"start\" x=\"561.1667\" y=\"-312.3\" font-family=\"Times,serif\" font-size=\"14.00\" fill=\"#000000\">value = 10.36</text>\n</g>\n<!-- 1&#45;&gt;5 -->\n<g id=\"edge5\" class=\"edge\">\n<title>1&#45;&gt;5</title>\n<path fill=\"none\" stroke=\"#000000\" d=\"M409.4385,-338.5C440.1513,-338.5 477.2167,-338.5 510.5716,-338.5\"/>\n<polygon fill=\"#000000\" stroke=\"#000000\" points=\"510.7929,-342.0001 520.7928,-338.5 510.7928,-335.0001 510.7929,-342.0001\"/>\n</g>\n<!-- 3 -->\n<g id=\"node4\" class=\"node\">\n<title>3</title>\n<polygon fill=\"#eca16b\" stroke=\"#000000\" points=\"896.1667,-550 789.1667,-550 789.1667,-497 896.1667,-497 896.1667,-550\"/>\n<text text-anchor=\"start\" x=\"806.1667\" y=\"-534.8\" font-family=\"Times,serif\" font-size=\"14.00\" fill=\"#000000\">mse = 0.361</text>\n<text text-anchor=\"start\" x=\"797.1667\" y=\"-519.8\" font-family=\"Times,serif\" font-size=\"14.00\" fill=\"#000000\">samples = 2966</text>\n<text text-anchor=\"start\" x=\"798.6667\" y=\"-504.8\" font-family=\"Times,serif\" font-size=\"14.00\" fill=\"#000000\">value = 10.131</text>\n</g>\n<!-- 2&#45;&gt;3 -->\n<g id=\"edge3\" class=\"edge\">\n<title>2&#45;&gt;3</title>\n<path fill=\"none\" stroke=\"#000000\" d=\"M664.3575,-470.9691C699.6699,-481.3723 743.6627,-494.3328 779.1148,-504.7773\"/>\n<polygon fill=\"#000000\" stroke=\"#000000\" points=\"778.2918,-508.1835 788.8733,-507.6522 780.2701,-501.4688 778.2918,-508.1835\"/>\n</g>\n<!-- 4 -->\n<g id=\"node5\" class=\"node\">\n<title>4</title>\n<polygon fill=\"#f3c4a3\" stroke=\"#000000\" points=\"896.1667,-479 789.1667,-479 789.1667,-426 896.1667,-426 896.1667,-479\"/>\n<text text-anchor=\"start\" x=\"806.1667\" y=\"-463.8\" font-family=\"Times,serif\" font-size=\"14.00\" fill=\"#000000\">mse = 0.229</text>\n<text text-anchor=\"start\" x=\"797.1667\" y=\"-448.8\" font-family=\"Times,serif\" font-size=\"14.00\" fill=\"#000000\">samples = 3204</text>\n<text text-anchor=\"start\" x=\"802.1667\" y=\"-433.8\" font-family=\"Times,serif\" font-size=\"14.00\" fill=\"#000000\">value = 9.693</text>\n</g>\n<!-- 2&#45;&gt;4 -->\n<g id=\"edge4\" class=\"edge\">\n<title>2&#45;&gt;4</title>\n<path fill=\"none\" stroke=\"#000000\" d=\"M664.3575,-452.5C699.519,-452.5 743.2868,-452.5 778.6598,-452.5\"/>\n<polygon fill=\"#000000\" stroke=\"#000000\" points=\"778.8734,-456.0001 788.8733,-452.5 778.8733,-449.0001 778.8734,-456.0001\"/>\n</g>\n<!-- 6 -->\n<g id=\"node7\" class=\"node\">\n<title>6</title>\n<polygon fill=\"#eeaf81\" stroke=\"#000000\" points=\"896.1667,-408 789.1667,-408 789.1667,-355 896.1667,-355 896.1667,-408\"/>\n<text text-anchor=\"start\" x=\"810.1667\" y=\"-392.8\" font-family=\"Times,serif\" font-size=\"14.00\" fill=\"#000000\">mse = 0.12</text>\n<text text-anchor=\"start\" x=\"797.1667\" y=\"-377.8\" font-family=\"Times,serif\" font-size=\"14.00\" fill=\"#000000\">samples = 3539</text>\n<text text-anchor=\"start\" x=\"802.1667\" y=\"-362.8\" font-family=\"Times,serif\" font-size=\"14.00\" fill=\"#000000\">value = 9.961</text>\n</g>\n<!-- 5&#45;&gt;6 -->\n<g id=\"edge6\" class=\"edge\">\n<title>5&#45;&gt;6</title>\n<path fill=\"none\" stroke=\"#000000\" d=\"M682.2512,-352.8782C713.7093,-358.491 749.2589,-364.8339 778.8835,-370.1196\"/>\n<polygon fill=\"#000000\" stroke=\"#000000\" points=\"778.6392,-373.6312 789.0985,-371.9422 779.8688,-366.74 778.6392,-373.6312\"/>\n</g>\n<!-- 7 -->\n<g id=\"node8\" class=\"node\">\n<title>7</title>\n<polygon fill=\"#e58139\" stroke=\"#000000\" points=\"896.1667,-337 789.1667,-337 789.1667,-284 896.1667,-284 896.1667,-337\"/>\n<text text-anchor=\"start\" x=\"806.1667\" y=\"-321.8\" font-family=\"Times,serif\" font-size=\"14.00\" fill=\"#000000\">mse = 0.365</text>\n<text text-anchor=\"start\" x=\"797.1667\" y=\"-306.8\" font-family=\"Times,serif\" font-size=\"14.00\" fill=\"#000000\">samples = 8472</text>\n<text text-anchor=\"start\" x=\"798.6667\" y=\"-291.8\" font-family=\"Times,serif\" font-size=\"14.00\" fill=\"#000000\">value = 10.527</text>\n</g>\n<!-- 5&#45;&gt;7 -->\n<g id=\"edge7\" class=\"edge\">\n<title>5&#45;&gt;7</title>\n<path fill=\"none\" stroke=\"#000000\" d=\"M682.2512,-329.1375C713.7093,-325.4826 749.2589,-321.3524 778.8835,-317.9105\"/>\n<polygon fill=\"#000000\" stroke=\"#000000\" points=\"779.5693,-321.3544 789.0985,-316.7237 778.7614,-314.4012 779.5693,-321.3544\"/>\n</g>\n<!-- 9 -->\n<g id=\"node10\" class=\"node\">\n<title>9</title>\n<polygon fill=\"#fef8f5\" stroke=\"#000000\" points=\"686.1667,-245.5 517.1667,-245.5 517.1667,-177.5 686.1667,-177.5 686.1667,-245.5\"/>\n<text text-anchor=\"start\" x=\"525.1667\" y=\"-230.3\" font-family=\"Times,serif\" font-size=\"14.00\" fill=\"#000000\">fiProductClassDesc ≤ 39.5</text>\n<text text-anchor=\"start\" x=\"565.1667\" y=\"-215.3\" font-family=\"Times,serif\" font-size=\"14.00\" fill=\"#000000\">mse = 0.084</text>\n<text text-anchor=\"start\" x=\"556.1667\" y=\"-200.3\" font-family=\"Times,serif\" font-size=\"14.00\" fill=\"#000000\">samples = 1009</text>\n<text text-anchor=\"start\" x=\"561.1667\" y=\"-185.3\" font-family=\"Times,serif\" font-size=\"14.00\" fill=\"#000000\">value = 9.049</text>\n</g>\n<!-- 8&#45;&gt;9 -->\n<g id=\"edge9\" class=\"edge\">\n<title>8&#45;&gt;9</title>\n<path fill=\"none\" stroke=\"#000000\" d=\"M409.4385,-211.5C438.9412,-211.5 474.3057,-211.5 506.6123,-211.5\"/>\n<polygon fill=\"#000000\" stroke=\"#000000\" points=\"506.9827,-215.0001 516.9827,-211.5 506.9826,-208.0001 506.9827,-215.0001\"/>\n</g>\n<!-- 12 -->\n<g id=\"node13\" class=\"node\">\n<title>12</title>\n<polygon fill=\"#f8decb\" stroke=\"#000000\" points=\"686.1667,-131.5 517.1667,-131.5 517.1667,-63.5 686.1667,-63.5 686.1667,-131.5\"/>\n<text text-anchor=\"start\" x=\"525.1667\" y=\"-116.3\" font-family=\"Times,serif\" font-size=\"14.00\" fill=\"#000000\">fiProductClassDesc ≤ 40.5</text>\n<text text-anchor=\"start\" x=\"569.1667\" y=\"-101.3\" font-family=\"Times,serif\" font-size=\"14.00\" fill=\"#000000\">mse = 0.08</text>\n<text text-anchor=\"start\" x=\"559.6667\" y=\"-86.3\" font-family=\"Times,serif\" font-size=\"14.00\" fill=\"#000000\">samples = 810</text>\n<text text-anchor=\"start\" x=\"561.1667\" y=\"-71.3\" font-family=\"Times,serif\" font-size=\"14.00\" fill=\"#000000\">value = 9.377</text>\n</g>\n<!-- 8&#45;&gt;12 -->\n<g id=\"edge12\" class=\"edge\">\n<title>8&#45;&gt;12</title>\n<path fill=\"none\" stroke=\"#000000\" d=\"M409.4385,-182.438C441.6448,-168.2073 480.8366,-150.89 515.4101,-135.6133\"/>\n<polygon fill=\"#000000\" stroke=\"#000000\" points=\"516.8276,-138.8135 524.5599,-131.5704 513.9984,-132.4107 516.8276,-138.8135\"/>\n</g>\n<!-- 10 -->\n<g id=\"node11\" class=\"node\">\n<title>10</title>\n<polygon fill=\"#ffffff\" stroke=\"#000000\" points=\"892.6667,-266 792.6667,-266 792.6667,-213 892.6667,-213 892.6667,-266\"/>\n<text text-anchor=\"start\" x=\"806.1667\" y=\"-250.8\" font-family=\"Times,serif\" font-size=\"14.00\" fill=\"#000000\">mse = 0.063</text>\n<text text-anchor=\"start\" x=\"800.6667\" y=\"-235.8\" font-family=\"Times,serif\" font-size=\"14.00\" fill=\"#000000\">samples = 480</text>\n<text text-anchor=\"start\" x=\"802.1667\" y=\"-220.8\" font-family=\"Times,serif\" font-size=\"14.00\" fill=\"#000000\">value = 8.967</text>\n</g>\n<!-- 9&#45;&gt;10 -->\n<g id=\"edge10\" class=\"edge\">\n<title>9&#45;&gt;10</title>\n<path fill=\"none\" stroke=\"#000000\" d=\"M686.2954,-221.3324C718.0822,-225.0255 753.5334,-229.1443 782.6337,-232.5252\"/>\n<polygon fill=\"#000000\" stroke=\"#000000\" points=\"782.3085,-236.0109 792.6456,-233.6884 783.1164,-229.0577 782.3085,-236.0109\"/>\n</g>\n<!-- 11 -->\n<g id=\"node12\" class=\"node\">\n<title>11</title>\n<polygon fill=\"#fcf2eb\" stroke=\"#000000\" points=\"892.6667,-195 792.6667,-195 792.6667,-142 892.6667,-142 892.6667,-195\"/>\n<text text-anchor=\"start\" x=\"806.1667\" y=\"-179.8\" font-family=\"Times,serif\" font-size=\"14.00\" fill=\"#000000\">mse = 0.092</text>\n<text text-anchor=\"start\" x=\"800.6667\" y=\"-164.8\" font-family=\"Times,serif\" font-size=\"14.00\" fill=\"#000000\">samples = 529</text>\n<text text-anchor=\"start\" x=\"802.1667\" y=\"-149.8\" font-family=\"Times,serif\" font-size=\"14.00\" fill=\"#000000\">value = 9.123</text>\n</g>\n<!-- 9&#45;&gt;11 -->\n<g id=\"edge11\" class=\"edge\">\n<title>9&#45;&gt;11</title>\n<path fill=\"none\" stroke=\"#000000\" d=\"M686.2954,-196.4003C718.0822,-190.7288 753.5334,-184.4035 782.6337,-179.2113\"/>\n<polygon fill=\"#000000\" stroke=\"#000000\" points=\"783.4159,-182.6271 792.6456,-177.4249 782.1863,-175.7359 783.4159,-182.6271\"/>\n</g>\n<!-- 13 -->\n<g id=\"node14\" class=\"node\">\n<title>13</title>\n<polygon fill=\"#fae5d7\" stroke=\"#000000\" points=\"892.6667,-124 792.6667,-124 792.6667,-71 892.6667,-71 892.6667,-124\"/>\n<text text-anchor=\"start\" x=\"806.1667\" y=\"-108.8\" font-family=\"Times,serif\" font-size=\"14.00\" fill=\"#000000\">mse = 0.072</text>\n<text text-anchor=\"start\" x=\"800.6667\" y=\"-93.8\" font-family=\"Times,serif\" font-size=\"14.00\" fill=\"#000000\">samples = 439</text>\n<text text-anchor=\"start\" x=\"802.1667\" y=\"-78.8\" font-family=\"Times,serif\" font-size=\"14.00\" fill=\"#000000\">value = 9.285</text>\n</g>\n<!-- 12&#45;&gt;13 -->\n<g id=\"edge13\" class=\"edge\">\n<title>12&#45;&gt;13</title>\n<path fill=\"none\" stroke=\"#000000\" d=\"M686.2954,-97.5C718.0822,-97.5 753.5334,-97.5 782.6337,-97.5\"/>\n<polygon fill=\"#000000\" stroke=\"#000000\" points=\"782.6456,-101.0001 792.6456,-97.5 782.6456,-94.0001 782.6456,-101.0001\"/>\n</g>\n<!-- 14 -->\n<g id=\"node15\" class=\"node\">\n<title>14</title>\n<polygon fill=\"#f6d5bd\" stroke=\"#000000\" points=\"892.6667,-53 792.6667,-53 792.6667,0 892.6667,0 892.6667,-53\"/>\n<text text-anchor=\"start\" x=\"806.1667\" y=\"-37.8\" font-family=\"Times,serif\" font-size=\"14.00\" fill=\"#000000\">mse = 0.068</text>\n<text text-anchor=\"start\" x=\"800.6667\" y=\"-22.8\" font-family=\"Times,serif\" font-size=\"14.00\" fill=\"#000000\">samples = 371</text>\n<text text-anchor=\"start\" x=\"802.1667\" y=\"-7.8\" font-family=\"Times,serif\" font-size=\"14.00\" fill=\"#000000\">value = 9.486</text>\n</g>\n<!-- 12&#45;&gt;14 -->\n<g id=\"edge14\" class=\"edge\">\n<title>12&#45;&gt;14</title>\n<path fill=\"none\" stroke=\"#000000\" d=\"M686.2954,-72.5679C718.221,-63.1624 753.843,-52.668 783.0146,-44.0739\"/>\n<polygon fill=\"#000000\" stroke=\"#000000\" points=\"784.0423,-47.4199 792.6456,-41.2365 782.0641,-40.7052 784.0423,-47.4199\"/>\n</g>\n</g>\n</svg>\n"
          },
          "metadata": {
            "tags": []
          }
        }
      ]
    },
    {
      "cell_type": "markdown",
      "metadata": {
        "id": "FuzlHX_5qvi1"
      },
      "source": [
        "First node contains the 20k samples and predicts 10.113 sale price for each.\n",
        "- In next part,it makes a single split at an attribute. \n",
        "- Notice that the MSE error comes down. \n",
        "- The first node represents the best model we could make by taking average of all the prices. "
      ]
    },
    {
      "cell_type": "markdown",
      "metadata": {
        "id": "P65ACYfNrq8M"
      },
      "source": [
        "**How to build a random forest**:\n",
        "- Build a single tree \n",
        "- You need to create a node, and define the split logic. \n",
        "- Two parts. Which attribute to choose? What value of that attribute will act as threshold? Finally, what will be the sale price you would predict at that node?\n",
        "\n",
        "**Algo1**: \n",
        "For each var, for each possible value : make a split. \n",
        "- **How to know which split is fine**-> Take weighted average? Still crappy. \n",
        "- The value we predict is the mean of sale prices of all bulldozers that lie in a particular sample. \n",
        "\n",
        "**Stopping Point**:\n",
        "- Either we reach limit of depth \n",
        "- Leaf node: Only one pred remains. During evaluation phase, we shall reach this leaf. Extract the price value at the training point. And predict the same during test!!!!. This shows a problem, i.e. if we hit the end, we can only predict what is learnt in train set. Their remains no point of regression. \n",
        "- But, regression can be still achieved by averaging predictions of multiple such trees. \n",
        "- *Grow Decision Tree* What then remains is to proove is that this averaging step shall lead to regression. :-)"
      ]
    },
    {
      "cell_type": "markdown",
      "metadata": {
        "id": "fo1X1POFgyC5"
      },
      "source": [
        "Let's see what happens if we create a bigger tree."
      ]
    },
    {
      "cell_type": "code",
      "metadata": {
        "id": "bh6J8CAGgyC6",
        "outputId": "2bcca990-ec1f-46ed-bcea-d46cfa51f5f8",
        "colab": {
          "base_uri": "https://localhost:8080/"
        }
      },
      "source": [
        "#so , i allow infinite depth. During prediction on train set, RMSE hits 1 which is expected!!\n",
        "m = RandomForestRegressor(n_estimators=1, bootstrap=False, n_jobs=-1)\n",
        "m.fit(X_train, y_train)\n",
        "print_score(m)"
      ],
      "execution_count": 31,
      "outputs": [
        {
          "output_type": "stream",
          "text": [
            "[4.351167857633658e-17, 0.4724542217652252, 1.0, 0.601372329017801]\n"
          ],
          "name": "stdout"
        }
      ]
    },
    {
      "cell_type": "markdown",
      "metadata": {
        "id": "CnbQEDw_gyC7"
      },
      "source": [
        "The training set result looks great! But the validation set is worse than our original model's result of 89. This is why we need to use *bagging* of multiple trees to get more generalizable results."
      ]
    },
    {
      "cell_type": "markdown",
      "metadata": {
        "id": "ao5806UegyC8"
      },
      "source": [
        "## Bagging\n",
        "\n",
        "Averaging uncorrelated-models. Technique of ensembling. \n",
        "\n",
        "Things make decisions on different factors. They can be combined. \n",
        "But, if two people use same factors, they cannot be ensembled. Their decisions are just **noise**"
      ]
    },
    {
      "cell_type": "markdown",
      "metadata": {
        "heading_collapsed": true,
        "id": "opCjUc6dgyC8"
      },
      "source": [
        "### Intro to bagging"
      ]
    },
    {
      "cell_type": "markdown",
      "metadata": {
        "id": "AaNnTP18xAXg"
      },
      "source": [
        "- So i need to combine trees. How is individual tree going to be formed. **Take the deepest, most overfitted one**. Ensemble them. Perhaps, their error might compensate to yield better predictions.\n",
        "- But if i take an overfitted tree on entire train set, it's going to be a single tree. But, i need many trees. **how to obtain that**?\n",
        "- Well, we can overfit individual trees on subset of the training data."
      ]
    },
    {
      "cell_type": "markdown",
      "metadata": {
        "hidden": true,
        "id": "UXDHUjafgyC8"
      },
      "source": [
        "To learn about bagging in random forests, let's start with our basic model again."
      ]
    },
    {
      "cell_type": "code",
      "metadata": {
        "hidden": true,
        "id": "AKr0G1tjgyC9",
        "outputId": "083e41d1-75cb-4dcf-a6ab-7560d9bd51c1",
        "colab": {
          "base_uri": "https://localhost:8080/"
        }
      },
      "source": [
        "# by default 10 trees\n",
        "m = RandomForestRegressor(n_jobs=-1)\n",
        "m.fit(X_train, y_train)\n",
        "print_score(m)"
      ],
      "execution_count": 32,
      "outputs": [
        {
          "output_type": "stream",
          "text": [
            "/usr/local/lib/python3.6/dist-packages/sklearn/ensemble/forest.py:245: FutureWarning: The default value of n_estimators will change from 10 in version 0.20 to 100 in 0.22.\n",
            "  \"10 in version 0.20 to 100 in 0.22.\", FutureWarning)\n"
          ],
          "name": "stderr"
        },
        {
          "output_type": "stream",
          "text": [
            "[0.11327673124739664, 0.36520989897178335, 0.9719454085945428, 0.7618047728503607]\n"
          ],
          "name": "stdout"
        }
      ]
    },
    {
      "cell_type": "markdown",
      "metadata": {
        "hidden": true,
        "id": "WTYB4vHFgyC_"
      },
      "source": [
        "We'll grab the predictions for each individual tree, and look at one example."
      ]
    },
    {
      "cell_type": "code",
      "metadata": {
        "hidden": true,
        "id": "HR2QSLLagyDA",
        "outputId": "781db168-1317-4bd8-fa08-8e8a436af648",
        "colab": {
          "base_uri": "https://localhost:8080/"
        }
      },
      "source": [
        "preds = np.stack([t.predict(X_valid) for t in m.estimators_])\n",
        "preds[:,0], np.mean(preds[:,0]), y_valid[0] "
      ],
      "execution_count": 33,
      "outputs": [
        {
          "output_type": "execute_result",
          "data": {
            "text/plain": [
              "(array([9.79813, 9.90349, 8.9872 , 9.21034, 9.68034, 9.04782, 8.9872 , 8.9872 , 9.43348, 9.43348]),\n",
              " 9.346867871365765,\n",
              " 9.104979856318357)"
            ]
          },
          "metadata": {
            "tags": []
          },
          "execution_count": 33
        }
      ]
    },
    {
      "cell_type": "code",
      "metadata": {
        "hidden": true,
        "id": "uFdcBRIpgyDC",
        "outputId": "6a323824-9a01-4c78-87b0-fe2c77ba1893",
        "colab": {
          "base_uri": "https://localhost:8080/"
        }
      },
      "source": [
        "preds.shape"
      ],
      "execution_count": 34,
      "outputs": [
        {
          "output_type": "execute_result",
          "data": {
            "text/plain": [
              "(10, 12000)"
            ]
          },
          "metadata": {
            "tags": []
          },
          "execution_count": 34
        }
      ]
    },
    {
      "cell_type": "code",
      "metadata": {
        "hidden": true,
        "id": "_MD8Ho-sgyDF",
        "outputId": "d58f29ab-11cf-43fe-cde7-3d82a2978621",
        "colab": {
          "base_uri": "https://localhost:8080/",
          "height": 265
        }
      },
      "source": [
        "plt.plot([metrics.r2_score(y_valid, np.mean(preds[:i+1], axis=0)) for i in range(10)]);"
      ],
      "execution_count": 35,
      "outputs": [
        {
          "output_type": "display_data",
          "data": {
            "image/png": "[encoded data removed]",
            "text/plain": [
              "<Figure size 432x288 with 1 Axes>"
            ]
          },
          "metadata": {
            "tags": [],
            "needs_background": "light"
          }
        }
      ]
    },
    {
      "cell_type": "markdown",
      "metadata": {
        "hidden": true,
        "id": "SrO_NeGrgyDG"
      },
      "source": [
        "The shape of this curve suggests that adding more trees isn't going to help us much. Let's check. (Compare this to our original model on a sample)"
      ]
    },
    {
      "cell_type": "code",
      "metadata": {
        "hidden": true,
        "scrolled": false,
        "id": "sRKNbeGYgyDH",
        "outputId": "9327e687-7cc1-471d-fae5-689e34b359e8",
        "colab": {
          "base_uri": "https://localhost:8080/"
        }
      },
      "source": [
        "m = RandomForestRegressor(n_estimators=20, n_jobs=-1)\n",
        "m.fit(X_train, y_train)\n",
        "print_score(m)"
      ],
      "execution_count": 36,
      "outputs": [
        {
          "output_type": "stream",
          "text": [
            "[0.1030123889160392, 0.3747045284616588, 0.9767992807468765, 0.7492587090568639]\n"
          ],
          "name": "stdout"
        }
      ]
    },
    {
      "cell_type": "code",
      "metadata": {
        "hidden": true,
        "scrolled": false,
        "id": "ORsBvUKhgyDJ",
        "outputId": "783c4ad8-d84d-463a-c1f8-f1c1b3523075",
        "colab": {
          "base_uri": "https://localhost:8080/"
        }
      },
      "source": [
        "m = RandomForestRegressor(n_estimators=40, n_jobs=-1)\n",
        "m.fit(X_train, y_train)\n",
        "print_score(m)"
      ],
      "execution_count": 37,
      "outputs": [
        {
          "output_type": "stream",
          "text": [
            "[0.0980116356437728, 0.3470950641180699, 0.9789971705917245, 0.7848482664908512]\n"
          ],
          "name": "stdout"
        }
      ]
    },
    {
      "cell_type": "code",
      "metadata": {
        "hidden": true,
        "scrolled": false,
        "id": "0EN7U2MkgyDL",
        "outputId": "41bf523d-672f-463a-fc34-726ce117c831",
        "colab": {
          "base_uri": "https://localhost:8080/"
        }
      },
      "source": [
        "m = RandomForestRegressor(n_estimators=80, n_jobs=-1)\n",
        "m.fit(X_train, y_train)\n",
        "print_score(m)"
      ],
      "execution_count": 38,
      "outputs": [
        {
          "output_type": "stream",
          "text": [
            "[0.0948747015000605, 0.35717480760764253, 0.980320077847613, 0.7721706805242731]\n"
          ],
          "name": "stdout"
        }
      ]
    },
    {
      "cell_type": "code",
      "metadata": {
        "id": "Ih8U7uGyv33t",
        "outputId": "b47c902c-3344-4dfa-f3f2-e014e4a34b3e",
        "colab": {
          "base_uri": "https://localhost:8080/"
        }
      },
      "source": [
        "#let me check with the original dataset (all samples)\n",
        "def split_vals(a,n): return a[:n].copy(), a[n:].copy()\n",
        "\n",
        "n_valid = 12000  # same as Kaggle's test set size\n",
        "n_trn = len(df)-n_valid\n",
        "raw_train, raw_valid = split_vals(df_raw, n_trn)\n",
        "X_train, X_valid = split_vals(df, n_trn)\n",
        "y_train, y_valid = split_vals(y, n_trn)\n",
        "\n",
        "X_train.shape, y_train.shape, X_valid.shape\n",
        "m = RandomForestRegressor(n_estimators=20, n_jobs=-1)\n",
        "m.fit(X_train, y_train)\n",
        "print_score(m)"
      ],
      "execution_count": 40,
      "outputs": [
        {
          "output_type": "stream",
          "text": [
            "[0.08269488583852339, 0.24193586761612765, 0.9857080288762851, 0.8954681850877043]\n"
          ],
          "name": "stdout"
        }
      ]
    },
    {
      "cell_type": "code",
      "metadata": {
        "id": "cWnVApojwziO",
        "outputId": "06a4ee23-9f87-4989-a6a8-924af8bbd3c0",
        "colab": {
          "base_uri": "https://localhost:8080/"
        }
      },
      "source": [
        "m = RandomForestRegressor(n_estimators=40, n_jobs=-1)\n",
        "m.fit(X_train, y_train)\n",
        "print_score(m)"
      ],
      "execution_count": 41,
      "outputs": [
        {
          "output_type": "stream",
          "text": [
            "[0.07836218985224429, 0.23788356251967543, 0.9871664161042242, 0.898940570638458]\n"
          ],
          "name": "stdout"
        }
      ]
    },
    {
      "cell_type": "code",
      "metadata": {
        "id": "sVqwD0VCyTol"
      },
      "source": [
        "m = RandomForestRegressor(n_estimators=80, n_jobs=-1)\n",
        "m.fit(X_train, y_train)\n",
        "print_score(m)"
      ],
      "execution_count": null,
      "outputs": []
    },
    {
      "cell_type": "markdown",
      "metadata": {
        "heading_collapsed": true,
        "id": "KItpCA84gyDN"
      },
      "source": [
        "### Out-of-bag (OOB) score"
      ]
    },
    {
      "cell_type": "markdown",
      "metadata": {
        "id": "91qHiCu1xMm6"
      },
      "source": [
        "Random forest contaned many trees. It's power comes from averaging crappy models. To build a crappy model, we train only on subset of data. So, effectively for each tree, there can be a separate validation set. **Useful for cases where less data is there**. Make sure, that bootstrapping is off for each tree in rf, i.e. you only use partial data for training. "
      ]
    },
    {
      "cell_type": "markdown",
      "metadata": {
        "hidden": true,
        "id": "mtBAg9CQgyDN"
      },
      "source": [
        "Is our validation set worse than our training set because we're over-fitting, or because the validation set is for a different time period, or a bit of both? With the existing information we've shown, we can't tell. However, random forests have a very clever trick called *out-of-bag (OOB) error* which can handle this (and more!)\n",
        "\n",
        "The idea is to calculate error on the training set, but only include the trees in the calculation of a row's error where that row was *not* included in training that tree. This allows us to see whether the model is over-fitting, without needing a separate validation set.\n",
        "\n",
        "This also has the benefit of allowing us to see whether our model generalizes, even if we only have a small amount of data so want to avoid separating some out to create a validation set.\n",
        "\n",
        "This is as simple as adding one more parameter to our model constructor. We print the OOB error last in our `print_score` function below."
      ]
    },
    {
      "cell_type": "code",
      "metadata": {
        "hidden": true,
        "id": "mZC326ljgyDN",
        "outputId": "83073297-3cef-45ae-ef35-911e8fa69f55"
      },
      "source": [
        "m = RandomForestRegressor(n_estimators=40, n_jobs=-1, oob_score=True)\n",
        "m.fit(X_train, y_train)\n",
        "print_score(m)"
      ],
      "execution_count": null,
      "outputs": [
        {
          "output_type": "stream",
          "text": [
            "[0.10198464613020647, 0.2714485881623037, 0.9786192457999483, 0.86840992079038759, 0.84831537630038534]\n"
          ],
          "name": "stdout"
        }
      ]
    },
    {
      "cell_type": "code",
      "metadata": {
        "id": "FYJ26bMkyQXK"
      },
      "source": [
        ""
      ],
      "execution_count": null,
      "outputs": []
    },
    {
      "cell_type": "markdown",
      "metadata": {
        "hidden": true,
        "id": "5BHzFpOagyDP"
      },
      "source": [
        "This shows that our validation set time difference is making an impact, as is model over-fitting."
      ]
    },
    {
      "cell_type": "markdown",
      "metadata": {
        "id": "GIQVAbMHgyDQ"
      },
      "source": [
        "## Reducing over-fitting"
      ]
    },
    {
      "cell_type": "markdown",
      "metadata": {
        "heading_collapsed": true,
        "id": "CO7SBKVogyDR"
      },
      "source": [
        "### Subsampling"
      ]
    },
    {
      "cell_type": "markdown",
      "metadata": {
        "hidden": true,
        "id": "vYekHqvMgyDR"
      },
      "source": [
        "**Run the code on entire data. Sample 20K training samples from original dataset instead of sampling from a subset of 30K samples as done previously**\n",
        "\n",
        "*It* turns out that one of the easiest ways to avoid over-fitting is also one of the best ways to speed up analysis: *subsampling*. Let's return to using our full dataset, so that we can demonstrate the impact of this technique."
      ]
    },
    {
      "cell_type": "code",
      "metadata": {
        "hidden": true,
        "id": "vbejDoTLgyDR"
      },
      "source": [
        "df_trn, y_trn, nas = proc_df(df_raw, 'SalePrice')\n",
        "X_train, X_valid = split_vals(df_trn, n_trn)\n",
        "y_train, y_valid = split_vals(y_trn, n_trn)"
      ],
      "execution_count": 43,
      "outputs": []
    },
    {
      "cell_type": "markdown",
      "metadata": {
        "hidden": true,
        "id": "CtRI-EBzgyDT"
      },
      "source": [
        "The basic idea is this: rather than limit the total amount of data that our model can access, let's instead limit it to a *different* random subset per tree. That way, given enough trees, the model can still see *all* the data, but for each individual tree it'll be just as fast as if we had cut down our dataset as before."
      ]
    },
    {
      "cell_type": "code",
      "metadata": {
        "hidden": true,
        "id": "Zd7Fa8pvgyDU"
      },
      "source": [
        "set_rf_samples(20000)"
      ],
      "execution_count": 44,
      "outputs": []
    },
    {
      "cell_type": "code",
      "metadata": {
        "hidden": true,
        "id": "-kQehcBCgyDV",
        "outputId": "d8f420eb-f66b-460b-9189-cfe2096baac1",
        "colab": {
          "base_uri": "https://localhost:8080/"
        }
      },
      "source": [
        "m = RandomForestRegressor(n_jobs=-1, oob_score=True)\n",
        "%time m.fit(X_train, y_train)\n",
        "print_score(m)"
      ],
      "execution_count": 45,
      "outputs": [
        {
          "output_type": "stream",
          "text": [
            "/usr/local/lib/python3.6/dist-packages/sklearn/ensemble/forest.py:245: FutureWarning: The default value of n_estimators will change from 10 in version 0.20 to 100 in 0.22.\n",
            "  \"10 in version 0.20 to 100 in 0.22.\", FutureWarning)\n"
          ],
          "name": "stderr"
        },
        {
          "output_type": "stream",
          "text": [
            "CPU times: user 10.6 s, sys: 223 ms, total: 10.8 s\n",
            "Wall time: 6.95 s\n",
            "[0.2398249706294484, 0.2758671571828536, 0.8797946974176063, 0.8640910763701707, 0.8672718455850077]\n"
          ],
          "name": "stdout"
        }
      ]
    },
    {
      "cell_type": "markdown",
      "metadata": {
        "hidden": true,
        "id": "X1WVBqTugyDX"
      },
      "source": [
        "Since each additional tree allows the model to see more data, this approach can make additional trees more useful."
      ]
    },
    {
      "cell_type": "code",
      "metadata": {
        "hidden": true,
        "scrolled": true,
        "id": "wur3w-xAgyDY",
        "outputId": "53c8cfd3-30fa-4298-a521-fc87a3d4870a",
        "colab": {
          "base_uri": "https://localhost:8080/"
        }
      },
      "source": [
        "m = RandomForestRegressor(n_estimators=40, n_jobs=-1, oob_score=True)\n",
        "m.fit(X_train, y_train)\n",
        "print_score(m)"
      ],
      "execution_count": 46,
      "outputs": [
        {
          "output_type": "stream",
          "text": [
            "[0.2267451944432047, 0.26563645167714056, 0.8925488645290441, 0.8739846892430617, 0.8810273635397674]\n"
          ],
          "name": "stdout"
        }
      ]
    },
    {
      "cell_type": "markdown",
      "metadata": {
        "id": "VxqSIZsl0HsN"
      },
      "source": [
        "For Random Forest, none of the datasets is too big. If 2 billion rows then just sample smaller sized data from it and create many trees :-). You have the control over each tree.\n",
        "\n",
        "\n",
        "Moral of the story is *use smaller dataset to work**, then **train on entire dataset once you have the best hyperparameters**"
      ]
    },
    {
      "cell_type": "markdown",
      "metadata": {
        "heading_collapsed": true,
        "id": "I4xI9ekmgyDa"
      },
      "source": [
        "### Tree building parameters"
      ]
    },
    {
      "cell_type": "markdown",
      "metadata": {
        "hidden": true,
        "id": "e-OuP0GxgyDa"
      },
      "source": [
        "We revert to using a full bootstrap sample in order to show the impact of other over-fitting avoidance methods."
      ]
    },
    {
      "cell_type": "code",
      "metadata": {
        "hidden": true,
        "id": "_yssi220gyDb"
      },
      "source": [
        "reset_rf_samples()"
      ],
      "execution_count": 47,
      "outputs": []
    },
    {
      "cell_type": "markdown",
      "metadata": {
        "hidden": true,
        "id": "MMQ0NGNPgyDd"
      },
      "source": [
        "Let's get a baseline for this full set to compare to."
      ]
    },
    {
      "cell_type": "code",
      "metadata": {
        "hidden": true,
        "scrolled": false,
        "id": "IfDWH_04gyDe",
        "outputId": "df6db559-3dd3-44b5-c6ea-8b1c8be9cf57",
        "colab": {
          "base_uri": "https://localhost:8080/"
        }
      },
      "source": [
        "m = RandomForestRegressor(n_estimators=40, n_jobs=-1, oob_score=True)\n",
        "m.fit(X_train, y_train)\n",
        "print_score(m)"
      ],
      "execution_count": 48,
      "outputs": [
        {
          "output_type": "stream",
          "text": [
            "[0.07837754769523941, 0.23842218268217752, 0.9871613852218334, 0.898482411450263, 0.9083198520194823]\n"
          ],
          "name": "stdout"
        }
      ]
    },
    {
      "cell_type": "markdown",
      "metadata": {
        "hidden": true,
        "id": "xGsK_a5_gyDh"
      },
      "source": [
        "Another way to reduce over-fitting is to grow our trees less deeply. We do this by specifying (with `min_samples_leaf`) that we require some minimum number of rows in every leaf node. This has two benefits:\n",
        "\n",
        "- There are less decision rules for each leaf node; simpler models should generalize better\n",
        "- The predictions are made by averaging more rows in the leaf node, resulting in less volatility"
      ]
    },
    {
      "cell_type": "code",
      "metadata": {
        "hidden": true,
        "scrolled": false,
        "id": "vRdq5s7zgyDh",
        "outputId": "27a85423-a2b4-4793-824a-24e13082fedd"
      },
      "source": [
        "m = RandomForestRegressor(n_estimators=40, min_samples_leaf=3, n_jobs=-1, oob_score=True)\n",
        "m.fit(X_train, y_train)\n",
        "print_score(m)"
      ],
      "execution_count": null,
      "outputs": [
        {
          "output_type": "stream",
          "text": [
            "[0.11595869956476182, 0.23427349924625201, 0.97209195463880227, 0.90198460308551043, 0.90843297242839738]\n"
          ],
          "name": "stdout"
        }
      ]
    },
    {
      "cell_type": "markdown",
      "metadata": {
        "hidden": true,
        "id": "vy0UV0MXgyDj"
      },
      "source": [
        "We can also increase the amount of variation amongst the trees by not only use a sample of rows for each tree, but to also using a sample of *columns* for each *split*. We do this by specifying `max_features`, which is the proportion of features to randomly select from at each split."
      ]
    },
    {
      "cell_type": "markdown",
      "metadata": {
        "hidden": true,
        "id": "6xNBG4tmgyDj"
      },
      "source": [
        "- None\n",
        "- 0.5\n",
        "- 'sqrt'"
      ]
    },
    {
      "cell_type": "markdown",
      "metadata": {
        "hidden": true,
        "id": "lWYu3GDGgyDk"
      },
      "source": [
        "- 1, 3, 5, 10, 25, 100"
      ]
    },
    {
      "cell_type": "markdown",
      "metadata": {
        "id": "WK22bhmX2gK8"
      },
      "source": [
        "What does max_feature do?\n",
        "\n",
        "Suppose one col is extremely correlated to target. Each tree in rf will start with that column. \n",
        "\n",
        "**COLUMN SAMPLING**\n",
        "So, at each level of split for a tree, perform splitting at a RANDOM SUBSET OF COLUMNS "
      ]
    },
    {
      "cell_type": "code",
      "metadata": {
        "hidden": true,
        "scrolled": false,
        "id": "zQ4LGZ1wgyDk",
        "outputId": "5d266f25-59ee-4b7e-f659-f255d9fa7f2e"
      },
      "source": [
        "m = RandomForestRegressor(n_estimators=40, min_samples_leaf=3, max_features=0.5, n_jobs=-1, oob_score=True)\n",
        "m.fit(X_train, y_train)\n",
        "print_score(m)"
      ],
      "execution_count": null,
      "outputs": [
        {
          "output_type": "stream",
          "text": [
            "[0.11926975747908228, 0.22869111042050522, 0.97026995966445684, 0.9066000722129437, 0.91144914977164715]\n"
          ],
          "name": "stdout"
        }
      ]
    },
    {
      "cell_type": "markdown",
      "metadata": {
        "hidden": true,
        "id": "n38nkIwBgyDm"
      },
      "source": [
        "We can't compare our results directly with the Kaggle competition, since it used a different validation set (and we can no longer to submit to this competition) - but we can at least see that we're getting similar results to the winners based on the dataset we have.\n",
        "\n",
        "The sklearn docs [show an example](http://scikit-learn.org/stable/auto_examples/ensemble/plot_ensemble_oob.html) of different `max_features` methods with increasing numbers of trees - as you see, using a subset of features on each split requires using more trees, but results in better models:\n",
        "![sklearn max_features chart](http://scikit-learn.org/stable/_images/sphx_glr_plot_ensemble_oob_001.png)"
      ]
    },
    {
      "cell_type": "markdown",
      "metadata": {
        "id": "1BENBaDe0E9Z"
      },
      "source": [
        "Important:\n",
        "\n",
        "For categorical variables, random forests can create random splits infinitely, and zoom in on a. particular category even if it is out of order. \n",
        "\n",
        "But,in case of linear models we assume a linear relationship between categories and their numerical codes. So, you can only make a single split in the model, and not multiple hypothesis. \n",
        "\n",
        "Then, you need to sort categories in linear models. \n",
        "\n",
        "In case of neural networks, it is ok. They can fit multiple hypothesis and decision boundaries to the same data. ,\n"
      ]
    },
    {
      "cell_type": "code",
      "metadata": {
        "id": "40R705kI6Z1H"
      },
      "source": [
        ""
      ],
      "execution_count": null,
      "outputs": []
    }
  ]
}